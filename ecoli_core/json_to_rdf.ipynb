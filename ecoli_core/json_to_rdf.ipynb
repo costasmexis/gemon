{
 "cells": [
  {
   "cell_type": "code",
   "execution_count": 1,
   "id": "2ad0db6e",
   "metadata": {},
   "outputs": [],
   "source": [
    "import pandas as pd\n",
    "\n",
    "import cobra\n",
    "\n",
    "from cobra.io import load_model"
   ]
  },
  {
   "cell_type": "markdown",
   "id": "612c5831",
   "metadata": {},
   "source": [
    "# From `json`"
   ]
  },
  {
   "cell_type": "code",
   "execution_count": 2,
   "id": "591f2738",
   "metadata": {},
   "outputs": [],
   "source": [
    "import json\n",
    "\n",
    "path = \"../data/gem.json\"\n",
    "\n",
    "with open(path, 'r') as f:\n",
    "    data = json.load(f)"
   ]
  },
  {
   "cell_type": "code",
   "execution_count": 3,
   "id": "718fd5ec",
   "metadata": {},
   "outputs": [
    {
     "data": {
      "text/plain": [
       "dict_keys(['metabolites', 'reactions', 'genes', 'id', 'compartments', 'version'])"
      ]
     },
     "execution_count": 3,
     "metadata": {},
     "output_type": "execute_result"
    }
   ],
   "source": [
    "data.keys()"
   ]
  },
  {
   "cell_type": "code",
   "execution_count": 4,
   "id": "14e87e81",
   "metadata": {},
   "outputs": [],
   "source": [
    "rxn_df = pd.DataFrame(columns=['id', 'metabolite', 'stoichiometry', 'lower_bound', 'upper_bound'])\n",
    "\n",
    "for rxn in data['reactions']:\n",
    "    \n",
    "    rxn_id = rxn['id']\n",
    "    lb = rxn['lower_bound']\n",
    "    ub = rxn['upper_bound']\n",
    "    \n",
    "    for m, s in rxn['metabolites'].items():\n",
    "       \n",
    "        row = [rxn_id, m, s, lb, ub]\n",
    "        \n",
    "        rxn_df.loc[len(rxn_df)] = row"
   ]
  },
  {
   "cell_type": "code",
   "execution_count": 5,
   "id": "efe198c4",
   "metadata": {},
   "outputs": [
    {
     "data": {
      "text/html": [
       "<div>\n",
       "<style scoped>\n",
       "    .dataframe tbody tr th:only-of-type {\n",
       "        vertical-align: middle;\n",
       "    }\n",
       "\n",
       "    .dataframe tbody tr th {\n",
       "        vertical-align: top;\n",
       "    }\n",
       "\n",
       "    .dataframe thead th {\n",
       "        text-align: right;\n",
       "    }\n",
       "</style>\n",
       "<table border=\"1\" class=\"dataframe\">\n",
       "  <thead>\n",
       "    <tr style=\"text-align: right;\">\n",
       "      <th></th>\n",
       "      <th>id</th>\n",
       "      <th>metabolite</th>\n",
       "      <th>stoichiometry</th>\n",
       "      <th>lower_bound</th>\n",
       "      <th>upper_bound</th>\n",
       "    </tr>\n",
       "  </thead>\n",
       "  <tbody>\n",
       "    <tr>\n",
       "      <th>0</th>\n",
       "      <td>PFK</td>\n",
       "      <td>adp_c</td>\n",
       "      <td>1.0</td>\n",
       "      <td>0.0</td>\n",
       "      <td>1000.0</td>\n",
       "    </tr>\n",
       "    <tr>\n",
       "      <th>1</th>\n",
       "      <td>PFK</td>\n",
       "      <td>atp_c</td>\n",
       "      <td>-1.0</td>\n",
       "      <td>0.0</td>\n",
       "      <td>1000.0</td>\n",
       "    </tr>\n",
       "    <tr>\n",
       "      <th>2</th>\n",
       "      <td>PFK</td>\n",
       "      <td>f6p_c</td>\n",
       "      <td>-1.0</td>\n",
       "      <td>0.0</td>\n",
       "      <td>1000.0</td>\n",
       "    </tr>\n",
       "    <tr>\n",
       "      <th>3</th>\n",
       "      <td>PFK</td>\n",
       "      <td>fdp_c</td>\n",
       "      <td>1.0</td>\n",
       "      <td>0.0</td>\n",
       "      <td>1000.0</td>\n",
       "    </tr>\n",
       "    <tr>\n",
       "      <th>4</th>\n",
       "      <td>PFK</td>\n",
       "      <td>h_c</td>\n",
       "      <td>1.0</td>\n",
       "      <td>0.0</td>\n",
       "      <td>1000.0</td>\n",
       "    </tr>\n",
       "    <tr>\n",
       "      <th>...</th>\n",
       "      <td>...</td>\n",
       "      <td>...</td>\n",
       "      <td>...</td>\n",
       "      <td>...</td>\n",
       "      <td>...</td>\n",
       "    </tr>\n",
       "    <tr>\n",
       "      <th>355</th>\n",
       "      <td>PDH</td>\n",
       "      <td>co2_c</td>\n",
       "      <td>1.0</td>\n",
       "      <td>0.0</td>\n",
       "      <td>1000.0</td>\n",
       "    </tr>\n",
       "    <tr>\n",
       "      <th>356</th>\n",
       "      <td>PDH</td>\n",
       "      <td>coa_c</td>\n",
       "      <td>-1.0</td>\n",
       "      <td>0.0</td>\n",
       "      <td>1000.0</td>\n",
       "    </tr>\n",
       "    <tr>\n",
       "      <th>357</th>\n",
       "      <td>PDH</td>\n",
       "      <td>nad_c</td>\n",
       "      <td>-1.0</td>\n",
       "      <td>0.0</td>\n",
       "      <td>1000.0</td>\n",
       "    </tr>\n",
       "    <tr>\n",
       "      <th>358</th>\n",
       "      <td>PDH</td>\n",
       "      <td>nadh_c</td>\n",
       "      <td>1.0</td>\n",
       "      <td>0.0</td>\n",
       "      <td>1000.0</td>\n",
       "    </tr>\n",
       "    <tr>\n",
       "      <th>359</th>\n",
       "      <td>PDH</td>\n",
       "      <td>pyr_c</td>\n",
       "      <td>-1.0</td>\n",
       "      <td>0.0</td>\n",
       "      <td>1000.0</td>\n",
       "    </tr>\n",
       "  </tbody>\n",
       "</table>\n",
       "<p>360 rows × 5 columns</p>\n",
       "</div>"
      ],
      "text/plain": [
       "      id metabolite  stoichiometry  lower_bound  upper_bound\n",
       "0    PFK      adp_c            1.0          0.0       1000.0\n",
       "1    PFK      atp_c           -1.0          0.0       1000.0\n",
       "2    PFK      f6p_c           -1.0          0.0       1000.0\n",
       "3    PFK      fdp_c            1.0          0.0       1000.0\n",
       "4    PFK        h_c            1.0          0.0       1000.0\n",
       "..   ...        ...            ...          ...          ...\n",
       "355  PDH      co2_c            1.0          0.0       1000.0\n",
       "356  PDH      coa_c           -1.0          0.0       1000.0\n",
       "357  PDH      nad_c           -1.0          0.0       1000.0\n",
       "358  PDH     nadh_c            1.0          0.0       1000.0\n",
       "359  PDH      pyr_c           -1.0          0.0       1000.0\n",
       "\n",
       "[360 rows x 5 columns]"
      ]
     },
     "execution_count": 5,
     "metadata": {},
     "output_type": "execute_result"
    }
   ],
   "source": [
    "rxn_df"
   ]
  },
  {
   "cell_type": "code",
   "execution_count": 6,
   "id": "29c54946",
   "metadata": {},
   "outputs": [],
   "source": [
    "rxn_df.to_csv('reactions_from_json.csv')"
   ]
  }
 ],
 "metadata": {
  "kernelspec": {
   "display_name": "Python 3 (ipykernel)",
   "language": "python",
   "name": "python3"
  },
  "language_info": {
   "codemirror_mode": {
    "name": "ipython",
    "version": 3
   },
   "file_extension": ".py",
   "mimetype": "text/x-python",
   "name": "python",
   "nbconvert_exporter": "python",
   "pygments_lexer": "ipython3",
   "version": "3.9.10"
  }
 },
 "nbformat": 4,
 "nbformat_minor": 5
}
