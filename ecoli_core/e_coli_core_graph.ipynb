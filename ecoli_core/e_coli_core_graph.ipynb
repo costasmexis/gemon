{
 "cells": [
  {
   "cell_type": "code",
   "execution_count": 42,
   "id": "1504a196",
   "metadata": {},
   "outputs": [],
   "source": [
    "from cobra.io import load_model\n",
    "\n",
    "model = load_model('textbook')"
   ]
  },
  {
   "cell_type": "code",
   "execution_count": 43,
   "id": "3ff807bf",
   "metadata": {},
   "outputs": [
    {
     "data": {
      "text/html": [
       "\n",
       "        <table>\n",
       "            <tr>\n",
       "                <td><strong>Name</strong></td>\n",
       "                <td>e_coli_core</td>\n",
       "            </tr><tr>\n",
       "                <td><strong>Memory address</strong></td>\n",
       "                <td>7fac65ac3640</td>\n",
       "            </tr><tr>\n",
       "                <td><strong>Number of metabolites</strong></td>\n",
       "                <td>72</td>\n",
       "            </tr><tr>\n",
       "                <td><strong>Number of reactions</strong></td>\n",
       "                <td>95</td>\n",
       "            </tr><tr>\n",
       "                <td><strong>Number of genes</strong></td>\n",
       "                <td>137</td>\n",
       "            </tr><tr>\n",
       "                <td><strong>Number of groups</strong></td>\n",
       "                <td>0</td>\n",
       "            </tr><tr>\n",
       "                <td><strong>Objective expression</strong></td>\n",
       "                <td>1.0*Biomass_Ecoli_core - 1.0*Biomass_Ecoli_core_reverse_2cdba</td>\n",
       "            </tr><tr>\n",
       "                <td><strong>Compartments</strong></td>\n",
       "                <td>cytosol, extracellular</td>\n",
       "            </tr>\n",
       "          </table>"
      ],
      "text/plain": [
       "<Model e_coli_core at 0x7fac65ac3640>"
      ]
     },
     "execution_count": 43,
     "metadata": {},
     "output_type": "execute_result"
    }
   ],
   "source": [
    "model"
   ]
  },
  {
   "cell_type": "code",
   "execution_count": 159,
   "id": "905060ca",
   "metadata": {},
   "outputs": [],
   "source": [
    "import cobra\n",
    "\n",
    "ffc = cobra.flux_analysis.fastcc(model,flux_threshold=0.5,\n",
    "                                 zero_cutoff=0.5)"
   ]
  },
  {
   "cell_type": "code",
   "execution_count": 160,
   "id": "1c0ded29",
   "metadata": {},
   "outputs": [
    {
     "data": {
      "text/html": [
       "\n",
       "        <table>\n",
       "            <tr>\n",
       "                <td><strong>Name</strong></td>\n",
       "                <td>e_coli_core</td>\n",
       "            </tr><tr>\n",
       "                <td><strong>Memory address</strong></td>\n",
       "                <td>7fac64c441c0</td>\n",
       "            </tr><tr>\n",
       "                <td><strong>Number of metabolites</strong></td>\n",
       "                <td>65</td>\n",
       "            </tr><tr>\n",
       "                <td><strong>Number of reactions</strong></td>\n",
       "                <td>77</td>\n",
       "            </tr><tr>\n",
       "                <td><strong>Number of genes</strong></td>\n",
       "                <td>118</td>\n",
       "            </tr><tr>\n",
       "                <td><strong>Number of groups</strong></td>\n",
       "                <td>0</td>\n",
       "            </tr><tr>\n",
       "                <td><strong>Objective expression</strong></td>\n",
       "                <td>1.0*Biomass_Ecoli_core - 1.0*Biomass_Ecoli_core_reverse_2cdba</td>\n",
       "            </tr><tr>\n",
       "                <td><strong>Compartments</strong></td>\n",
       "                <td>cytosol, extracellular</td>\n",
       "            </tr>\n",
       "          </table>"
      ],
      "text/plain": [
       "<Model e_coli_core at 0x7fac64c441c0>"
      ]
     },
     "execution_count": 160,
     "metadata": {},
     "output_type": "execute_result"
    }
   ],
   "source": [
    "ffc"
   ]
  },
  {
   "cell_type": "code",
   "execution_count": 161,
   "id": "da8f6bda",
   "metadata": {},
   "outputs": [],
   "source": [
    "rxn1 = []\n",
    "for r1 in ffc.reactions: rxn1.append(r1.id)\n",
    "    \n",
    "rxn2 = []\n",
    "for r1 in model.reactions: rxn2.append(r1.id)\n"
   ]
  },
  {
   "cell_type": "code",
   "execution_count": 162,
   "id": "e432c3cc",
   "metadata": {},
   "outputs": [
    {
     "data": {
      "text/plain": [
       "{'ADK1',\n",
       " 'D_LACt2',\n",
       " 'EX_fru_e',\n",
       " 'EX_fum_e',\n",
       " 'EX_gln__L_e',\n",
       " 'EX_lac__D_e',\n",
       " 'EX_mal__L_e',\n",
       " 'FBP',\n",
       " 'FORt2',\n",
       " 'FRD7',\n",
       " 'FRUpts2',\n",
       " 'FUMt2_2',\n",
       " 'GLNabc',\n",
       " 'GLUN',\n",
       " 'LDH_D',\n",
       " 'MALt2_2',\n",
       " 'PPS',\n",
       " 'SUCCt2_2'}"
      ]
     },
     "execution_count": 162,
     "metadata": {},
     "output_type": "execute_result"
    }
   ],
   "source": [
    "set(rxn2) - set(rxn1)"
   ]
  },
  {
   "cell_type": "code",
   "execution_count": 164,
   "id": "86f9007c",
   "metadata": {},
   "outputs": [
    {
     "data": {
      "text/html": [
       "<strong><em>Optimal</em> solution with objective value 0.874</strong><br><div>\n",
       "<style scoped>\n",
       "    .dataframe tbody tr th:only-of-type {\n",
       "        vertical-align: middle;\n",
       "    }\n",
       "\n",
       "    .dataframe tbody tr th {\n",
       "        vertical-align: top;\n",
       "    }\n",
       "\n",
       "    .dataframe thead th {\n",
       "        text-align: right;\n",
       "    }\n",
       "</style>\n",
       "<table border=\"1\" class=\"dataframe\">\n",
       "  <thead>\n",
       "    <tr style=\"text-align: right;\">\n",
       "      <th></th>\n",
       "      <th>fluxes</th>\n",
       "      <th>reduced_costs</th>\n",
       "    </tr>\n",
       "  </thead>\n",
       "  <tbody>\n",
       "    <tr>\n",
       "      <th>ACALD</th>\n",
       "      <td>0.000000</td>\n",
       "      <td>0.000000e+00</td>\n",
       "    </tr>\n",
       "    <tr>\n",
       "      <th>ACALDt</th>\n",
       "      <td>0.000000</td>\n",
       "      <td>-0.000000e+00</td>\n",
       "    </tr>\n",
       "    <tr>\n",
       "      <th>ACKr</th>\n",
       "      <td>0.000000</td>\n",
       "      <td>-0.000000e+00</td>\n",
       "    </tr>\n",
       "    <tr>\n",
       "      <th>ACONTa</th>\n",
       "      <td>6.007250</td>\n",
       "      <td>0.000000e+00</td>\n",
       "    </tr>\n",
       "    <tr>\n",
       "      <th>ACONTb</th>\n",
       "      <td>6.007250</td>\n",
       "      <td>0.000000e+00</td>\n",
       "    </tr>\n",
       "    <tr>\n",
       "      <th>...</th>\n",
       "      <td>...</td>\n",
       "      <td>...</td>\n",
       "    </tr>\n",
       "    <tr>\n",
       "      <th>TALA</th>\n",
       "      <td>1.496984</td>\n",
       "      <td>3.173170e-17</td>\n",
       "    </tr>\n",
       "    <tr>\n",
       "      <th>THD2</th>\n",
       "      <td>0.000000</td>\n",
       "      <td>-2.546243e-03</td>\n",
       "    </tr>\n",
       "    <tr>\n",
       "      <th>TKT1</th>\n",
       "      <td>1.496984</td>\n",
       "      <td>-1.276185e-17</td>\n",
       "    </tr>\n",
       "    <tr>\n",
       "      <th>TKT2</th>\n",
       "      <td>1.181498</td>\n",
       "      <td>-1.586585e-17</td>\n",
       "    </tr>\n",
       "    <tr>\n",
       "      <th>TPI</th>\n",
       "      <td>7.477382</td>\n",
       "      <td>0.000000e+00</td>\n",
       "    </tr>\n",
       "  </tbody>\n",
       "</table>\n",
       "<p>77 rows × 2 columns</p>\n",
       "</div>"
      ],
      "text/plain": [
       "<Solution 0.874 at 0x7fac64c440a0>"
      ]
     },
     "execution_count": 164,
     "metadata": {},
     "output_type": "execute_result"
    }
   ],
   "source": [
    "ffc.optimize()\n"
   ]
  },
  {
   "cell_type": "code",
   "execution_count": 167,
   "id": "625d7ed0",
   "metadata": {},
   "outputs": [
    {
     "data": {
      "text/html": [
       "<div>\n",
       "<style scoped>\n",
       "    .dataframe tbody tr th:only-of-type {\n",
       "        vertical-align: middle;\n",
       "    }\n",
       "\n",
       "    .dataframe tbody tr th {\n",
       "        vertical-align: top;\n",
       "    }\n",
       "\n",
       "    .dataframe thead th {\n",
       "        text-align: right;\n",
       "    }\n",
       "</style>\n",
       "<table border=\"1\" class=\"dataframe\">\n",
       "  <thead>\n",
       "    <tr style=\"text-align: right;\">\n",
       "      <th></th>\n",
       "      <th>minimum</th>\n",
       "      <th>maximum</th>\n",
       "    </tr>\n",
       "  </thead>\n",
       "  <tbody>\n",
       "    <tr>\n",
       "      <th>ACALD</th>\n",
       "      <td>5.876833e-15</td>\n",
       "      <td>0.000000e+00</td>\n",
       "    </tr>\n",
       "    <tr>\n",
       "      <th>ACALDt</th>\n",
       "      <td>-1.139192e-15</td>\n",
       "      <td>0.000000e+00</td>\n",
       "    </tr>\n",
       "    <tr>\n",
       "      <th>ACKr</th>\n",
       "      <td>-1.032265e-14</td>\n",
       "      <td>0.000000e+00</td>\n",
       "    </tr>\n",
       "    <tr>\n",
       "      <th>ACONTa</th>\n",
       "      <td>6.007250e+00</td>\n",
       "      <td>6.007250e+00</td>\n",
       "    </tr>\n",
       "    <tr>\n",
       "      <th>ACONTb</th>\n",
       "      <td>6.007250e+00</td>\n",
       "      <td>6.007250e+00</td>\n",
       "    </tr>\n",
       "    <tr>\n",
       "      <th>...</th>\n",
       "      <td>...</td>\n",
       "      <td>...</td>\n",
       "    </tr>\n",
       "    <tr>\n",
       "      <th>TALA</th>\n",
       "      <td>1.496984e+00</td>\n",
       "      <td>1.496984e+00</td>\n",
       "    </tr>\n",
       "    <tr>\n",
       "      <th>THD2</th>\n",
       "      <td>0.000000e+00</td>\n",
       "      <td>-1.018052e-13</td>\n",
       "    </tr>\n",
       "    <tr>\n",
       "      <th>TKT1</th>\n",
       "      <td>1.496984e+00</td>\n",
       "      <td>1.496984e+00</td>\n",
       "    </tr>\n",
       "    <tr>\n",
       "      <th>TKT2</th>\n",
       "      <td>1.181498e+00</td>\n",
       "      <td>1.181498e+00</td>\n",
       "    </tr>\n",
       "    <tr>\n",
       "      <th>TPI</th>\n",
       "      <td>7.477382e+00</td>\n",
       "      <td>7.477382e+00</td>\n",
       "    </tr>\n",
       "  </tbody>\n",
       "</table>\n",
       "<p>77 rows × 2 columns</p>\n",
       "</div>"
      ],
      "text/plain": [
       "             minimum       maximum\n",
       "ACALD   5.876833e-15  0.000000e+00\n",
       "ACALDt -1.139192e-15  0.000000e+00\n",
       "ACKr   -1.032265e-14  0.000000e+00\n",
       "ACONTa  6.007250e+00  6.007250e+00\n",
       "ACONTb  6.007250e+00  6.007250e+00\n",
       "...              ...           ...\n",
       "TALA    1.496984e+00  1.496984e+00\n",
       "THD2    0.000000e+00 -1.018052e-13\n",
       "TKT1    1.496984e+00  1.496984e+00\n",
       "TKT2    1.181498e+00  1.181498e+00\n",
       "TPI     7.477382e+00  7.477382e+00\n",
       "\n",
       "[77 rows x 2 columns]"
      ]
     },
     "execution_count": 167,
     "metadata": {},
     "output_type": "execute_result"
    }
   ],
   "source": [
    "from cobra.flux_analysis import flux_variability_analysis as fva\n",
    "\n",
    "fva(ffc)"
   ]
  },
  {
   "cell_type": "code",
   "execution_count": 168,
   "id": "9e4835a5",
   "metadata": {},
   "outputs": [
    {
     "data": {
      "text/html": [
       "<div>\n",
       "<style scoped>\n",
       "    .dataframe tbody tr th:only-of-type {\n",
       "        vertical-align: middle;\n",
       "    }\n",
       "\n",
       "    .dataframe tbody tr th {\n",
       "        vertical-align: top;\n",
       "    }\n",
       "\n",
       "    .dataframe thead th {\n",
       "        text-align: right;\n",
       "    }\n",
       "</style>\n",
       "<table border=\"1\" class=\"dataframe\">\n",
       "  <thead>\n",
       "    <tr style=\"text-align: right;\">\n",
       "      <th></th>\n",
       "      <th>minimum</th>\n",
       "      <th>maximum</th>\n",
       "    </tr>\n",
       "  </thead>\n",
       "  <tbody>\n",
       "    <tr>\n",
       "      <th>ACALD</th>\n",
       "      <td>-4.311784e-14</td>\n",
       "      <td>0.000000</td>\n",
       "    </tr>\n",
       "    <tr>\n",
       "      <th>ACALDt</th>\n",
       "      <td>7.794452e-15</td>\n",
       "      <td>0.000000</td>\n",
       "    </tr>\n",
       "    <tr>\n",
       "      <th>ACKr</th>\n",
       "      <td>1.204309e-14</td>\n",
       "      <td>0.000000</td>\n",
       "    </tr>\n",
       "    <tr>\n",
       "      <th>ACONTa</th>\n",
       "      <td>6.007250e+00</td>\n",
       "      <td>6.007250</td>\n",
       "    </tr>\n",
       "    <tr>\n",
       "      <th>ACONTb</th>\n",
       "      <td>6.007250e+00</td>\n",
       "      <td>6.007250</td>\n",
       "    </tr>\n",
       "    <tr>\n",
       "      <th>...</th>\n",
       "      <td>...</td>\n",
       "      <td>...</td>\n",
       "    </tr>\n",
       "    <tr>\n",
       "      <th>TALA</th>\n",
       "      <td>1.496984e+00</td>\n",
       "      <td>1.496984</td>\n",
       "    </tr>\n",
       "    <tr>\n",
       "      <th>THD2</th>\n",
       "      <td>0.000000e+00</td>\n",
       "      <td>0.000000</td>\n",
       "    </tr>\n",
       "    <tr>\n",
       "      <th>TKT1</th>\n",
       "      <td>1.496984e+00</td>\n",
       "      <td>1.496984</td>\n",
       "    </tr>\n",
       "    <tr>\n",
       "      <th>TKT2</th>\n",
       "      <td>1.181498e+00</td>\n",
       "      <td>1.181498</td>\n",
       "    </tr>\n",
       "    <tr>\n",
       "      <th>TPI</th>\n",
       "      <td>7.477382e+00</td>\n",
       "      <td>7.477382</td>\n",
       "    </tr>\n",
       "  </tbody>\n",
       "</table>\n",
       "<p>95 rows × 2 columns</p>\n",
       "</div>"
      ],
      "text/plain": [
       "             minimum   maximum\n",
       "ACALD  -4.311784e-14  0.000000\n",
       "ACALDt  7.794452e-15  0.000000\n",
       "ACKr    1.204309e-14  0.000000\n",
       "ACONTa  6.007250e+00  6.007250\n",
       "ACONTb  6.007250e+00  6.007250\n",
       "...              ...       ...\n",
       "TALA    1.496984e+00  1.496984\n",
       "THD2    0.000000e+00  0.000000\n",
       "TKT1    1.496984e+00  1.496984\n",
       "TKT2    1.181498e+00  1.181498\n",
       "TPI     7.477382e+00  7.477382\n",
       "\n",
       "[95 rows x 2 columns]"
      ]
     },
     "execution_count": 168,
     "metadata": {},
     "output_type": "execute_result"
    }
   ],
   "source": [
    "fva(model)"
   ]
  },
  {
   "cell_type": "code",
   "execution_count": 24,
   "id": "ae3227b1-f98f-40e7-b294-6e69b680eb57",
   "metadata": {},
   "outputs": [],
   "source": [
    "import pandas as pd\n",
    "import networkx as nx\n",
    "from karateclub import DeepWalk \n",
    "from karateclub import Node2Vec\n",
    "import sklearn\n",
    "import matplotlib.pyplot as plt\n",
    "from sklearn.model_selection import train_test_split\n",
    "from sklearn.linear_model import LogisticRegression\n",
    "from sklearn.metrics import roc_auc_score"
   ]
  },
  {
   "cell_type": "code",
   "execution_count": 25,
   "id": "ddc8de9a-6fea-47a2-912c-f29e01ff7f1c",
   "metadata": {},
   "outputs": [
    {
     "data": {
      "text/html": [
       "<div>\n",
       "<style scoped>\n",
       "    .dataframe tbody tr th:only-of-type {\n",
       "        vertical-align: middle;\n",
       "    }\n",
       "\n",
       "    .dataframe tbody tr th {\n",
       "        vertical-align: top;\n",
       "    }\n",
       "\n",
       "    .dataframe thead th {\n",
       "        text-align: right;\n",
       "    }\n",
       "</style>\n",
       "<table border=\"1\" class=\"dataframe\">\n",
       "  <thead>\n",
       "    <tr style=\"text-align: right;\">\n",
       "      <th></th>\n",
       "      <th>source</th>\n",
       "      <th>target</th>\n",
       "    </tr>\n",
       "  </thead>\n",
       "  <tbody>\n",
       "    <tr>\n",
       "      <th>0</th>\n",
       "      <td>reaction_acald</td>\n",
       "      <td>metabolite_acald_c</td>\n",
       "    </tr>\n",
       "    <tr>\n",
       "      <th>1</th>\n",
       "      <td>reaction_acald</td>\n",
       "      <td>metabolite_coa_c</td>\n",
       "    </tr>\n",
       "    <tr>\n",
       "      <th>2</th>\n",
       "      <td>reaction_acald</td>\n",
       "      <td>metabolite_nad_c</td>\n",
       "    </tr>\n",
       "    <tr>\n",
       "      <th>3</th>\n",
       "      <td>reaction_acaldt</td>\n",
       "      <td>metabolite_acald_e</td>\n",
       "    </tr>\n",
       "    <tr>\n",
       "      <th>4</th>\n",
       "      <td>reaction_ackr</td>\n",
       "      <td>metabolite_ac_c</td>\n",
       "    </tr>\n",
       "    <tr>\n",
       "      <th>...</th>\n",
       "      <td>...</td>\n",
       "      <td>...</td>\n",
       "    </tr>\n",
       "    <tr>\n",
       "      <th>604</th>\n",
       "      <td>reaction_tkt2</td>\n",
       "      <td>reaction_gapd</td>\n",
       "    </tr>\n",
       "    <tr>\n",
       "      <th>605</th>\n",
       "      <td>reaction_tkt2</td>\n",
       "      <td>reaction_mals</td>\n",
       "    </tr>\n",
       "    <tr>\n",
       "      <th>606</th>\n",
       "      <td>reaction_tkt2</td>\n",
       "      <td>reaction_tala</td>\n",
       "    </tr>\n",
       "    <tr>\n",
       "      <th>607</th>\n",
       "      <td>reaction_tpi</td>\n",
       "      <td>reaction_gapd</td>\n",
       "    </tr>\n",
       "    <tr>\n",
       "      <th>608</th>\n",
       "      <td>reaction_tpi</td>\n",
       "      <td>reaction_tala</td>\n",
       "    </tr>\n",
       "  </tbody>\n",
       "</table>\n",
       "<p>609 rows × 2 columns</p>\n",
       "</div>"
      ],
      "text/plain": [
       "              source              target\n",
       "0     reaction_acald  metabolite_acald_c\n",
       "1     reaction_acald    metabolite_coa_c\n",
       "2     reaction_acald    metabolite_nad_c\n",
       "3    reaction_acaldt  metabolite_acald_e\n",
       "4      reaction_ackr     metabolite_ac_c\n",
       "..               ...                 ...\n",
       "604    reaction_tkt2       reaction_gapd\n",
       "605    reaction_tkt2       reaction_mals\n",
       "606    reaction_tkt2       reaction_tala\n",
       "607     reaction_tpi       reaction_gapd\n",
       "608     reaction_tpi       reaction_tala\n",
       "\n",
       "[609 rows x 2 columns]"
      ]
     },
     "execution_count": 25,
     "metadata": {},
     "output_type": "execute_result"
    }
   ],
   "source": [
    "df = pd.read_csv('../data/queries/query-result-full.csv')\n",
    "df.rename(columns = {'s':'source', 'o': 'target'}, inplace = True)\n",
    "df"
   ]
  },
  {
   "cell_type": "code",
   "execution_count": 17,
   "id": "0065670f-3eda-4e96-bdd9-f0918277fdb5",
   "metadata": {},
   "outputs": [
    {
     "name": "stdout",
     "output_type": "stream",
     "text": [
      "source 69\n",
      "target 122\n"
     ]
    }
   ],
   "source": [
    "for col in df.columns:\n",
    "    print(col, df[col].nunique())\n",
    "    \n",
    "every_element = df['source'].append(df['target'], ignore_index=True)"
   ]
  },
  {
   "cell_type": "code",
   "execution_count": 18,
   "id": "4a59dc40-271e-4749-b3b0-e0132251b465",
   "metadata": {},
   "outputs": [
    {
     "name": "stdout",
     "output_type": "stream",
     "text": [
      "134\n"
     ]
    }
   ],
   "source": [
    "print(every_element.nunique())"
   ]
  },
  {
   "cell_type": "code",
   "execution_count": 19,
   "id": "d1fc81c1-f0eb-416d-be0b-09848ef133a9",
   "metadata": {},
   "outputs": [
    {
     "ename": "NetworkXError",
     "evalue": "Adjacency matrix not square: nx,ny=(609, 2)",
     "output_type": "error",
     "traceback": [
      "\u001b[0;31m---------------------------------------------------------------------------\u001b[0m",
      "\u001b[0;31mNetworkXError\u001b[0m                             Traceback (most recent call last)",
      "Cell \u001b[0;32mIn[19], line 1\u001b[0m\n\u001b[0;32m----> 1\u001b[0m G \u001b[38;5;241m=\u001b[39m \u001b[43mnx\u001b[49m\u001b[38;5;241;43m.\u001b[39;49m\u001b[43mfrom_numpy_array\u001b[49m\u001b[43m(\u001b[49m\u001b[43mdf\u001b[49m\u001b[43m)\u001b[49m\n",
      "File \u001b[0;32m~/Desktop/python-envs/main-bio/lib/python3.9/site-packages/networkx/convert_matrix.py:1615\u001b[0m, in \u001b[0;36mfrom_numpy_array\u001b[0;34m(A, parallel_edges, create_using)\u001b[0m\n\u001b[1;32m   1613\u001b[0m n, m \u001b[38;5;241m=\u001b[39m A\u001b[38;5;241m.\u001b[39mshape\n\u001b[1;32m   1614\u001b[0m \u001b[38;5;28;01mif\u001b[39;00m n \u001b[38;5;241m!=\u001b[39m m:\n\u001b[0;32m-> 1615\u001b[0m     \u001b[38;5;28;01mraise\u001b[39;00m nx\u001b[38;5;241m.\u001b[39mNetworkXError(\u001b[38;5;124mf\u001b[39m\u001b[38;5;124m\"\u001b[39m\u001b[38;5;124mAdjacency matrix not square: nx,ny=\u001b[39m\u001b[38;5;132;01m{\u001b[39;00mA\u001b[38;5;241m.\u001b[39mshape\u001b[38;5;132;01m}\u001b[39;00m\u001b[38;5;124m\"\u001b[39m)\n\u001b[1;32m   1616\u001b[0m dt \u001b[38;5;241m=\u001b[39m A\u001b[38;5;241m.\u001b[39mdtype\n\u001b[1;32m   1617\u001b[0m \u001b[38;5;28;01mtry\u001b[39;00m:\n",
      "\u001b[0;31mNetworkXError\u001b[0m: Adjacency matrix not square: nx,ny=(609, 2)"
     ]
    }
   ],
   "source": [
    "G = nx.from_numpy_array(df)"
   ]
  },
  {
   "cell_type": "code",
   "execution_count": 5,
   "id": "c0cd48b5-59ce-4a5b-a4bb-5dc13a2f9e89",
   "metadata": {},
   "outputs": [],
   "source": [
    "reactions = []\n",
    "metabolites = []\n",
    "for key in every_element.str.split('_'):\n",
    "    if key[0] == 'reaction': reactions.append(key[1])\n",
    "    else: metabolites.append(key[1])"
   ]
  },
  {
   "cell_type": "code",
   "execution_count": 6,
   "id": "bdb901be-904f-4954-a74b-c33895b30e35",
   "metadata": {},
   "outputs": [
    {
     "name": "stdout",
     "output_type": "stream",
     "text": [
      "69\n",
      "51\n"
     ]
    }
   ],
   "source": [
    "import numpy as np\n",
    "\n",
    "print(len(np.unique(reactions)))\n",
    "print(len(np.unique(metabolites)))"
   ]
  },
  {
   "cell_type": "code",
   "execution_count": 7,
   "id": "9d9e1b5c-4ae0-4bc3-943d-1e771a402bd7",
   "metadata": {},
   "outputs": [
    {
     "data": {
      "text/plain": [
       "array(['acald', 'acaldt', 'ackr', 'aconta', 'acontb', 'act2r', 'adk1',\n",
       "       'akgdh', 'akgt2r', 'alcd2x', 'atpm', 'atps4r', 'co2t', 'cs',\n",
       "       'cytbd', 'd', 'eno', 'etoht2r', 'fba', 'fbp', 'fort', 'fort2',\n",
       "       'frd7', 'frupts2', 'fum', 'fumt2', 'g6pdh2r', 'gapd', 'glcpts',\n",
       "       'glnabc', 'glns', 'gludy', 'glun', 'glusy', 'glut2r', 'gnd',\n",
       "       'h2ot', 'icdhyr', 'icl', 'ldh', 'mals', 'mdh', 'me1', 'me2',\n",
       "       'nadh16', 'nadtrhd', 'nh4t', 'o2t', 'pdh', 'pgi', 'pgk', 'pgl',\n",
       "       'pgm', 'pit2r', 'ppc', 'pps', 'ptar', 'pyk', 'pyrt2', 'rpi',\n",
       "       'succt2', 'succt3', 'sucdi', 'sucoas', 'tala', 'thd2', 'tkt1',\n",
       "       'tkt2', 'tpi'], dtype='<U7')"
      ]
     },
     "execution_count": 7,
     "metadata": {},
     "output_type": "execute_result"
    }
   ],
   "source": [
    "np.unique(reactions)"
   ]
  },
  {
   "cell_type": "code",
   "execution_count": 8,
   "id": "dde1db38-1cc2-47ec-b15f-2524fae086eb",
   "metadata": {},
   "outputs": [
    {
     "data": {
      "text/plain": [
       "array(['13dpg', '2pg', '3pg', '6pgc', '6pgl', 'ac', 'acald', 'accoa',\n",
       "       'acon', 'actp', 'adp', 'akg', 'amp', 'atp', 'cit', 'co2', 'coa',\n",
       "       'dhap', 'e4p', 'etoh', 'f6p', 'fdp', 'for', 'fru', 'fum', 'g3p',\n",
       "       'g6p', 'gln', 'glu', 'h', 'h2o', 'icit', 'lac', 'mal', 'nad',\n",
       "       'nadh', 'nadp', 'nadph', 'nh4', 'o2', 'oaa', 'pep', 'pi', 'pyr',\n",
       "       'q8', 'q8h2', 'r5p', 'ru5p', 's7p', 'succ', 'succoa'], dtype='<U6')"
      ]
     },
     "execution_count": 8,
     "metadata": {},
     "output_type": "execute_result"
    }
   ],
   "source": [
    "np.unique(metabolites)"
   ]
  },
  {
   "cell_type": "markdown",
   "id": "c9b7c145-2dbb-43d4-9ba7-bd289f893d7e",
   "metadata": {},
   "source": [
    "### PageRank"
   ]
  },
  {
   "cell_type": "code",
   "execution_count": 86,
   "id": "d6b5397c-8640-4733-96f1-ac0c2ee2b951",
   "metadata": {},
   "outputs": [
    {
     "name": "stdout",
     "output_type": "stream",
     "text": [
      "Top 20 nodes by page rank:\n",
      "('reaction_pyk', 0.029279537350687952)\n",
      "('reaction_glusy', 0.02716410677443988)\n",
      "('metabolite_h_c', 0.02247458755662256)\n",
      "('reaction_cytbd', 0.020758119748060154)\n",
      "('reaction_nadh16', 0.019410153561661377)\n",
      "('reaction_atps4r', 0.018606386191899468)\n",
      "('reaction_mals', 0.01827254090286899)\n",
      "('reaction_ppc', 0.01823789963329636)\n",
      "('reaction_gapd', 0.018162638558963284)\n",
      "('reaction_pps', 0.018032246105822786)\n",
      "('reaction_cs', 0.014423998426546708)\n",
      "('reaction_pdh', 0.014243082712309528)\n",
      "('reaction_eno', 0.01420944194375141)\n",
      "('metabolite_h2o_c', 0.01261899828196938)\n",
      "('reaction_aconta', 0.01249493554274772)\n",
      "('reaction_acald', 0.012415745651212546)\n",
      "('reaction_gludy', 0.012280656074065303)\n",
      "('reaction_sucoas', 0.012016198240572106)\n",
      "('reaction_glns', 0.011970519525019952)\n",
      "('reaction_thd2', 0.011885928148285775)\n"
     ]
    }
   ],
   "source": [
    "from operator import itemgetter\n",
    "\n",
    "pagerank_dict = nx.pagerank(G)\n",
    "sorted_pagerank = sorted(pagerank_dict.items(), key=itemgetter(1), reverse=True)\n",
    "\n",
    "print(\"Top 20 nodes by page rank:\")\n",
    "for b in sorted_pagerank[:20]:\n",
    "    print(b)"
   ]
  },
  {
   "cell_type": "code",
   "execution_count": 10,
   "id": "940dd239-d367-41d3-9d23-00a86daed061",
   "metadata": {},
   "outputs": [],
   "source": [
    "from cobra.io import load_model\n",
    "\n",
    "model = load_model('textbook')"
   ]
  },
  {
   "cell_type": "code",
   "execution_count": 11,
   "id": "e44627cb-d159-4c0b-95d3-88eaac5e680c",
   "metadata": {},
   "outputs": [
    {
     "data": {
      "text/html": [
       "\n",
       "        <table>\n",
       "            <tr>\n",
       "                <td><strong>Name</strong></td>\n",
       "                <td>e_coli_core</td>\n",
       "            </tr><tr>\n",
       "                <td><strong>Memory address</strong></td>\n",
       "                <td>7fd5495134c0</td>\n",
       "            </tr><tr>\n",
       "                <td><strong>Number of metabolites</strong></td>\n",
       "                <td>72</td>\n",
       "            </tr><tr>\n",
       "                <td><strong>Number of reactions</strong></td>\n",
       "                <td>95</td>\n",
       "            </tr><tr>\n",
       "                <td><strong>Number of genes</strong></td>\n",
       "                <td>137</td>\n",
       "            </tr><tr>\n",
       "                <td><strong>Number of groups</strong></td>\n",
       "                <td>0</td>\n",
       "            </tr><tr>\n",
       "                <td><strong>Objective expression</strong></td>\n",
       "                <td>1.0*Biomass_Ecoli_core - 1.0*Biomass_Ecoli_core_reverse_2cdba</td>\n",
       "            </tr><tr>\n",
       "                <td><strong>Compartments</strong></td>\n",
       "                <td>cytosol, extracellular</td>\n",
       "            </tr>\n",
       "          </table>"
      ],
      "text/plain": [
       "<Model e_coli_core at 0x7fd5495134c0>"
      ]
     },
     "execution_count": 11,
     "metadata": {},
     "output_type": "execute_result"
    }
   ],
   "source": [
    "model"
   ]
  },
  {
   "cell_type": "code",
   "execution_count": 14,
   "id": "45550983-6719-4f2e-8856-87ef1e1e7f0d",
   "metadata": {
    "tags": []
   },
   "outputs": [
    {
     "data": {
      "text/plain": [
       "{<Metabolite 3pg_c at 0x7fd549513cd0>: -1.496,\n",
       " <Metabolite accoa_c at 0x7fd549513fd0>: -3.7478,\n",
       " <Metabolite atp_c at 0x7fd54f010df0>: -59.81,\n",
       " <Metabolite e4p_c at 0x7fd549513af0>: -0.361,\n",
       " <Metabolite f6p_c at 0x7fd54e2c5d30>: -0.0709,\n",
       " <Metabolite g3p_c at 0x7fd549786100>: -0.129,\n",
       " <Metabolite g6p_c at 0x7fd549786640>: -0.205,\n",
       " <Metabolite gln__L_c at 0x7fd5497868b0>: -0.2557,\n",
       " <Metabolite glu__L_c at 0x7fd549786850>: -4.9414,\n",
       " <Metabolite h2o_c at 0x7fd5497869d0>: -59.81,\n",
       " <Metabolite nad_c at 0x7fd549786ac0>: -3.547,\n",
       " <Metabolite nadph_c at 0x7fd549786b80>: -13.0279,\n",
       " <Metabolite oaa_c at 0x7fd549786c70>: -1.7867,\n",
       " <Metabolite pep_c at 0x7fd549786d60>: -0.5191,\n",
       " <Metabolite pyr_c at 0x7fd54ec8bb80>: -2.8328,\n",
       " <Metabolite r5p_c at 0x7fd5495302b0>: -0.8977,\n",
       " <Metabolite adp_c at 0x7fd54f0108b0>: 59.81,\n",
       " <Metabolite akg_c at 0x7fd549513be0>: 4.1182,\n",
       " <Metabolite coa_c at 0x7fd54e2c5d00>: 3.7478,\n",
       " <Metabolite h_c at 0x7fd549786970>: 59.81,\n",
       " <Metabolite nadh_c at 0x7fd549786af0>: 3.547,\n",
       " <Metabolite nadp_c at 0x7fd549786be0>: 13.0279,\n",
       " <Metabolite pi_c at 0x7fd54ec8b3a0>: 59.81}"
      ]
     },
     "execution_count": 14,
     "metadata": {},
     "output_type": "execute_result"
    }
   ],
   "source": [
    "model.reactions.Biomass_Ecoli_core.metabolites"
   ]
  },
  {
   "cell_type": "code",
   "execution_count": 12,
   "id": "4ec747fe-3f12-4553-8397-8b851ccdbede",
   "metadata": {},
   "outputs": [
    {
     "data": {
      "text/plain": [
       "[<Metabolite 13dpg_c at 0x7fd549513b20>,\n",
       " <Metabolite 2pg_c at 0x7fd549513c40>,\n",
       " <Metabolite 3pg_c at 0x7fd549513cd0>,\n",
       " <Metabolite 6pgc_c at 0x7fd549513f10>,\n",
       " <Metabolite 6pgl_c at 0x7fd549513fa0>,\n",
       " <Metabolite ac_c at 0x7fd549513eb0>,\n",
       " <Metabolite ac_e at 0x7fd549513d00>,\n",
       " <Metabolite acald_c at 0x7fd549513ee0>,\n",
       " <Metabolite acald_e at 0x7fd549513e20>,\n",
       " <Metabolite accoa_c at 0x7fd549513fd0>,\n",
       " <Metabolite acon_C_c at 0x7fd549513f40>,\n",
       " <Metabolite actp_c at 0x7fd549513e50>,\n",
       " <Metabolite adp_c at 0x7fd54f0108b0>,\n",
       " <Metabolite akg_c at 0x7fd549513be0>,\n",
       " <Metabolite akg_e at 0x7fd549513dc0>,\n",
       " <Metabolite amp_c at 0x7fd549513df0>,\n",
       " <Metabolite atp_c at 0x7fd54f010df0>,\n",
       " <Metabolite cit_c at 0x7fd54f010790>,\n",
       " <Metabolite co2_c at 0x7fd54f010d00>,\n",
       " <Metabolite co2_e at 0x7fd54f010880>,\n",
       " <Metabolite coa_c at 0x7fd54e2c5d00>,\n",
       " <Metabolite dhap_c at 0x7fd54e2c5940>,\n",
       " <Metabolite e4p_c at 0x7fd549513af0>,\n",
       " <Metabolite etoh_c at 0x7fd54f010af0>,\n",
       " <Metabolite etoh_e at 0x7fd54e2c5f10>,\n",
       " <Metabolite f6p_c at 0x7fd54e2c5d30>,\n",
       " <Metabolite fdp_c at 0x7fd54e2c57f0>,\n",
       " <Metabolite for_c at 0x7fd54e2c5dc0>,\n",
       " <Metabolite for_e at 0x7fd54e2c5eb0>,\n",
       " <Metabolite fru_e at 0x7fd54e2c5a90>,\n",
       " <Metabolite fum_c at 0x7fd549786250>,\n",
       " <Metabolite fum_e at 0x7fd549786700>,\n",
       " <Metabolite g3p_c at 0x7fd549786100>,\n",
       " <Metabolite g6p_c at 0x7fd549786640>,\n",
       " <Metabolite glc__D_e at 0x7fd5497864f0>,\n",
       " <Metabolite gln__L_c at 0x7fd5497868b0>,\n",
       " <Metabolite gln__L_e at 0x7fd549786910>,\n",
       " <Metabolite glu__L_c at 0x7fd549786850>,\n",
       " <Metabolite glu__L_e at 0x7fd5497868e0>,\n",
       " <Metabolite glx_c at 0x7fd5497869a0>,\n",
       " <Metabolite h2o_c at 0x7fd5497869d0>,\n",
       " <Metabolite h2o_e at 0x7fd549786940>,\n",
       " <Metabolite h_c at 0x7fd549786970>,\n",
       " <Metabolite h_e at 0x7fd549786a60>,\n",
       " <Metabolite icit_c at 0x7fd549786a90>,\n",
       " <Metabolite lac__D_c at 0x7fd549786a00>,\n",
       " <Metabolite lac__D_e at 0x7fd549786a30>,\n",
       " <Metabolite mal__L_c at 0x7fd549786b20>,\n",
       " <Metabolite mal__L_e at 0x7fd549786b50>,\n",
       " <Metabolite nad_c at 0x7fd549786ac0>,\n",
       " <Metabolite nadh_c at 0x7fd549786af0>,\n",
       " <Metabolite nadp_c at 0x7fd549786be0>,\n",
       " <Metabolite nadph_c at 0x7fd549786b80>,\n",
       " <Metabolite nh4_c at 0x7fd549786bb0>,\n",
       " <Metabolite nh4_e at 0x7fd549786ca0>,\n",
       " <Metabolite o2_c at 0x7fd549786cd0>,\n",
       " <Metabolite o2_e at 0x7fd549786c40>,\n",
       " <Metabolite oaa_c at 0x7fd549786c70>,\n",
       " <Metabolite pep_c at 0x7fd549786d60>,\n",
       " <Metabolite pi_c at 0x7fd54ec8b3a0>,\n",
       " <Metabolite pi_e at 0x7fd549876b80>,\n",
       " <Metabolite pyr_c at 0x7fd54ec8bb80>,\n",
       " <Metabolite pyr_e at 0x7fd5498c1e20>,\n",
       " <Metabolite q8_c at 0x7fd54ec8b8b0>,\n",
       " <Metabolite q8h2_c at 0x7fd549876d30>,\n",
       " <Metabolite r5p_c at 0x7fd5495302b0>,\n",
       " <Metabolite ru5p__D_c at 0x7fd549530c40>,\n",
       " <Metabolite s7p_c at 0x7fd549530df0>,\n",
       " <Metabolite succ_c at 0x7fd5498769d0>,\n",
       " <Metabolite succ_e at 0x7fd549530fd0>,\n",
       " <Metabolite succoa_c at 0x7fd5498c1ac0>,\n",
       " <Metabolite xu5p__D_c at 0x7fd54ec8b670>]"
      ]
     },
     "execution_count": 12,
     "metadata": {},
     "output_type": "execute_result"
    }
   ],
   "source": [
    "model.metabolites"
   ]
  },
  {
   "cell_type": "code",
   "execution_count": null,
   "id": "3e199be7-ccc3-4e6a-a5d2-5f9e20d35b8d",
   "metadata": {},
   "outputs": [],
   "source": []
  },
  {
   "cell_type": "code",
   "execution_count": null,
   "id": "38168e24-8ab8-46b6-9e76-06e3bc7dbe26",
   "metadata": {},
   "outputs": [],
   "source": []
  },
  {
   "cell_type": "code",
   "execution_count": null,
   "id": "f0172072-b85f-4567-8d8a-9f23acdfffcb",
   "metadata": {},
   "outputs": [],
   "source": []
  },
  {
   "cell_type": "code",
   "execution_count": null,
   "id": "4aca878d-1c8c-43ac-b39c-2bcdae08e538",
   "metadata": {},
   "outputs": [],
   "source": []
  },
  {
   "cell_type": "code",
   "execution_count": 26,
   "id": "3147ed96-942b-4399-b56e-27dd0abca28f",
   "metadata": {},
   "outputs": [
    {
     "name": "stdout",
     "output_type": "stream",
     "text": [
      "# nodes = 134\n",
      "# edges = 546\n"
     ]
    }
   ],
   "source": [
    "import networkx as nx\n",
    "from networkx import from_pandas_edgelist\n",
    "\n",
    "G = from_pandas_edgelist(df, source='source', target='target', create_using=nx.Graph())\n",
    "print('# nodes =',len(G.nodes))\n",
    "print('# edges =',len(G.edges))"
   ]
  },
  {
   "cell_type": "code",
   "execution_count": 22,
   "id": "185bc347-cc60-4f61-a20e-488ca85fa5b8",
   "metadata": {},
   "outputs": [
    {
     "data": {
      "text/plain": [
       "NodeView(('reaction_acald', 'metabolite_acald_c', 'metabolite_coa_c', 'metabolite_nad_c', 'reaction_acaldt', 'metabolite_acald_e', 'reaction_ackr', 'metabolite_ac_c', 'metabolite_atp_c', 'reaction_aconta', 'metabolite_cit_c', 'reaction_acontb', 'metabolite_h2o_c', 'reaction_act2r', 'metabolite_ac_e', 'metabolite_h_e', 'reaction_adk1', 'metabolite_amp_c', 'reaction_akgdh', 'metabolite_akg_c', 'reaction_akgt2r', 'metabolite_akg_e', 'reaction_alcd2x', 'metabolite_etoh_c', 'reaction_atpm', 'reaction_atps4r', 'metabolite_adp_c', 'metabolite_pi_c', 'reaction_co2t', 'metabolite_co2_e', 'reaction_cs', 'metabolite_accoa_c', 'metabolite_oaa_c', 'reaction_cytbd', 'metabolite_q8h2_c', 'reaction_d_lact2', 'reaction_eno', 'metabolite_2pg_c', 'reaction_etoht2r', 'metabolite_etoh_e', 'reaction_fba', 'metabolite_fdp_c', 'reaction_fbp', 'reaction_fort', 'metabolite_for_e', 'reaction_fort2', 'reaction_frd7', 'metabolite_fum_c', 'reaction_frupts2', 'metabolite_pep_c', 'metabolite_fru_e', 'reaction_fum', 'reaction_fumt2_2', 'metabolite_fum_e', 'reaction_g6pdh2r', 'metabolite_g6p_c', 'metabolite_nadp_c', 'reaction_gapd', 'metabolite_g3p_c', 'reaction_glcpts', 'reaction_glnabc', 'reaction_glns', 'metabolite_nh4_c', 'reaction_gludy', 'reaction_glun', 'reaction_glusy', 'metabolite_h_c', 'metabolite_nadph_c', 'reaction_glut2r', 'reaction_gnd', 'metabolite_6pgc_c', 'reaction_h2ot', 'metabolite_h2o_e', 'reaction_icdhyr', 'metabolite_icit_c', 'reaction_icl', 'reaction_ldh_d', 'reaction_mals', 'metabolite_f6p_c', 'reaction_mdh', 'reaction_me1', 'reaction_me2', 'reaction_nadh16', 'metabolite_nadh_c', 'metabolite_q8_c', 'reaction_nadtrhd', 'reaction_nh4t', 'metabolite_nh4_e', 'reaction_o2t', 'metabolite_o2_e', 'reaction_pdh', 'metabolite_pyr_c', 'reaction_pgi', 'reaction_pgk', 'metabolite_3pg_c', 'reaction_pgl', 'metabolite_6pgl_c', 'reaction_pgm', 'reaction_pit2r', 'metabolite_pi_e', 'reaction_ppc', 'metabolite_co2_c', 'reaction_pps', 'reaction_ptar', 'reaction_pyk', 'reaction_pyrt2', 'metabolite_pyr_e', 'reaction_rpi', 'metabolite_r5p_c', 'reaction_succt2_2', 'metabolite_succ_e', 'reaction_succt3', 'metabolite_succ_c', 'reaction_sucdi', 'reaction_sucoas', 'reaction_tala', 'metabolite_s7p_c', 'reaction_thd2', 'reaction_tkt1', 'reaction_tkt2', 'metabolite_e4p_c', 'reaction_tpi', 'metabolite_dhap_c', 'metabolite_actp_c', 'metabolite_acon_C_c', 'metabolite_succoa_c', 'metabolite_lac__D_c', 'metabolite_for_c', 'metabolite_mal__L_c', 'metabolite_13dpg_c', 'metabolite_gln__L_c', 'metabolite_glu__L_c', 'metabolite_ru5p__D_c', 'metabolite_o2_c'))"
      ]
     },
     "execution_count": 22,
     "metadata": {},
     "output_type": "execute_result"
    }
   ],
   "source": []
  },
  {
   "cell_type": "code",
   "execution_count": null,
   "id": "3848c1bb-dacb-44bb-8f80-61c04a4d6b66",
   "metadata": {},
   "outputs": [],
   "source": []
  },
  {
   "cell_type": "code",
   "execution_count": null,
   "id": "e7ea0d91-0509-4cbc-8267-cca082f41f32",
   "metadata": {},
   "outputs": [],
   "source": []
  },
  {
   "cell_type": "code",
   "execution_count": null,
   "id": "35c54362-04e2-4c53-9cb7-3a0070b301f4",
   "metadata": {},
   "outputs": [],
   "source": []
  },
  {
   "cell_type": "code",
   "execution_count": null,
   "id": "288b9c8d-2b51-4dba-a225-cdc67b62b1ec",
   "metadata": {},
   "outputs": [],
   "source": []
  },
  {
   "cell_type": "code",
   "execution_count": null,
   "id": "4d65b8a0-8503-4789-a552-8ed6663b3701",
   "metadata": {},
   "outputs": [],
   "source": []
  },
  {
   "cell_type": "code",
   "execution_count": null,
   "id": "8066682c-edb4-433e-8bb5-86e01aa814f6",
   "metadata": {},
   "outputs": [],
   "source": []
  },
  {
   "cell_type": "code",
   "execution_count": 4,
   "id": "307a5378",
   "metadata": {},
   "outputs": [
    {
     "data": {
      "text/html": [
       "<div>\n",
       "<style scoped>\n",
       "    .dataframe tbody tr th:only-of-type {\n",
       "        vertical-align: middle;\n",
       "    }\n",
       "\n",
       "    .dataframe tbody tr th {\n",
       "        vertical-align: top;\n",
       "    }\n",
       "\n",
       "    .dataframe thead th {\n",
       "        text-align: right;\n",
       "    }\n",
       "</style>\n",
       "<table border=\"1\" class=\"dataframe\">\n",
       "  <thead>\n",
       "    <tr style=\"text-align: right;\">\n",
       "      <th></th>\n",
       "      <th>source</th>\n",
       "      <th>target</th>\n",
       "    </tr>\n",
       "  </thead>\n",
       "  <tbody>\n",
       "    <tr>\n",
       "      <th>0</th>\n",
       "      <td>kg:reaction_acald</td>\n",
       "      <td>kg:reaction_cs</td>\n",
       "    </tr>\n",
       "    <tr>\n",
       "      <th>1</th>\n",
       "      <td>kg:reaction_acald</td>\n",
       "      <td>kg:reaction_mals</td>\n",
       "    </tr>\n",
       "    <tr>\n",
       "      <th>2</th>\n",
       "      <td>kg:reaction_acald</td>\n",
       "      <td>kg:reaction_ptar</td>\n",
       "    </tr>\n",
       "    <tr>\n",
       "      <th>3</th>\n",
       "      <td>kg:reaction_acald</td>\n",
       "      <td>kg:reaction_glusy</td>\n",
       "    </tr>\n",
       "    <tr>\n",
       "      <th>4</th>\n",
       "      <td>kg:reaction_acald</td>\n",
       "      <td>kg:reaction_pyk</td>\n",
       "    </tr>\n",
       "  </tbody>\n",
       "</table>\n",
       "</div>"
      ],
      "text/plain": [
       "              source             target\n",
       "0  kg:reaction_acald     kg:reaction_cs\n",
       "1  kg:reaction_acald   kg:reaction_mals\n",
       "2  kg:reaction_acald   kg:reaction_ptar\n",
       "3  kg:reaction_acald  kg:reaction_glusy\n",
       "4  kg:reaction_acald    kg:reaction_pyk"
      ]
     },
     "execution_count": 4,
     "metadata": {},
     "output_type": "execute_result"
    }
   ],
   "source": [
    "df = pd.read_csv('../data/queries/query-result.csv', delimiter=';')\n",
    "\n",
    "df.rename(columns = {'s':'source', 'o': 'target'}, inplace = True)\n",
    "\n",
    "df.head()"
   ]
  },
  {
   "cell_type": "code",
   "execution_count": 5,
   "id": "b03819a3",
   "metadata": {},
   "outputs": [
    {
     "data": {
      "text/plain": [
       "(358, 2)"
      ]
     },
     "execution_count": 5,
     "metadata": {},
     "output_type": "execute_result"
    }
   ],
   "source": [
    "df.shape"
   ]
  },
  {
   "cell_type": "code",
   "execution_count": 7,
   "id": "79858b74-f609-49c5-b1bd-a75db331147c",
   "metadata": {},
   "outputs": [],
   "source": [
    "metabolites = pd.read_csv('../data/queries/e.coli core data - metabolites.csv')\n",
    "reactions = pd.read_csv('../data/queries/e.coli core data - reactions.csv')"
   ]
  },
  {
   "cell_type": "code",
   "execution_count": 19,
   "id": "87bd2d20-671f-4878-a470-27116949ad7a",
   "metadata": {},
   "outputs": [
    {
     "data": {
      "text/html": [
       "<div>\n",
       "<style scoped>\n",
       "    .dataframe tbody tr th:only-of-type {\n",
       "        vertical-align: middle;\n",
       "    }\n",
       "\n",
       "    .dataframe tbody tr th {\n",
       "        vertical-align: top;\n",
       "    }\n",
       "\n",
       "    .dataframe thead th {\n",
       "        text-align: right;\n",
       "    }\n",
       "</style>\n",
       "<table border=\"1\" class=\"dataframe\">\n",
       "  <thead>\n",
       "    <tr style=\"text-align: right;\">\n",
       "      <th></th>\n",
       "      <th>[metabolite]</th>\n",
       "      <th>metabolitel</th>\n",
       "      <th>st</th>\n",
       "      <th>reaction</th>\n",
       "      <th>reactionl</th>\n",
       "    </tr>\n",
       "  </thead>\n",
       "  <tbody>\n",
       "    <tr>\n",
       "      <th>0</th>\n",
       "      <td>kg:metabolite_13dpg_c</td>\n",
       "      <td>3-Phospho-D-glyceroyl phosphate</td>\n",
       "      <td>1.0</td>\n",
       "      <td>kg:reaction_pgk</td>\n",
       "      <td>PGK</td>\n",
       "    </tr>\n",
       "    <tr>\n",
       "      <th>1</th>\n",
       "      <td>kg:metabolite_13dpg_c</td>\n",
       "      <td>3-Phospho-D-glyceroyl phosphate</td>\n",
       "      <td>1.0</td>\n",
       "      <td>kg:reaction_gapd</td>\n",
       "      <td>GAPD</td>\n",
       "    </tr>\n",
       "    <tr>\n",
       "      <th>2</th>\n",
       "      <td>kg:metabolite_2pg_c</td>\n",
       "      <td>D-Glycerate 2-phosphate</td>\n",
       "      <td>-1.0</td>\n",
       "      <td>kg:reaction_pgm</td>\n",
       "      <td>PGM</td>\n",
       "    </tr>\n",
       "    <tr>\n",
       "      <th>3</th>\n",
       "      <td>kg:metabolite_2pg_c</td>\n",
       "      <td>D-Glycerate 2-phosphate</td>\n",
       "      <td>-1.0</td>\n",
       "      <td>kg:reaction_eno</td>\n",
       "      <td>ENO</td>\n",
       "    </tr>\n",
       "    <tr>\n",
       "      <th>4</th>\n",
       "      <td>kg:metabolite_3pg_c</td>\n",
       "      <td>3-Phospho-D-glycerate</td>\n",
       "      <td>1.0</td>\n",
       "      <td>kg:reaction_pgm</td>\n",
       "      <td>PGM</td>\n",
       "    </tr>\n",
       "    <tr>\n",
       "      <th>...</th>\n",
       "      <td>...</td>\n",
       "      <td>...</td>\n",
       "      <td>...</td>\n",
       "      <td>...</td>\n",
       "      <td>...</td>\n",
       "    </tr>\n",
       "    <tr>\n",
       "      <th>304</th>\n",
       "      <td>kg:metabolite_succ_e</td>\n",
       "      <td>Succinate</td>\n",
       "      <td>1.0</td>\n",
       "      <td>kg:reaction_succt3</td>\n",
       "      <td>SUCCt3</td>\n",
       "    </tr>\n",
       "    <tr>\n",
       "      <th>305</th>\n",
       "      <td>kg:metabolite_succ_e</td>\n",
       "      <td>Succinate</td>\n",
       "      <td>-1.0</td>\n",
       "      <td>kg:reaction_succt2_2</td>\n",
       "      <td>SUCCt2_2</td>\n",
       "    </tr>\n",
       "    <tr>\n",
       "      <th>306</th>\n",
       "      <td>kg:metabolite_succ_e</td>\n",
       "      <td>Succinate</td>\n",
       "      <td>-1.0</td>\n",
       "      <td>kg:reaction_ex_succ_e</td>\n",
       "      <td>EX_succ_e</td>\n",
       "    </tr>\n",
       "    <tr>\n",
       "      <th>307</th>\n",
       "      <td>kg:metabolite_succoa_c</td>\n",
       "      <td>Succinyl-CoA</td>\n",
       "      <td>1.0</td>\n",
       "      <td>kg:reaction_sucoas</td>\n",
       "      <td>SUCOAS</td>\n",
       "    </tr>\n",
       "    <tr>\n",
       "      <th>308</th>\n",
       "      <td>kg:metabolite_succoa_c</td>\n",
       "      <td>Succinyl-CoA</td>\n",
       "      <td>1.0</td>\n",
       "      <td>kg:reaction_akgdh</td>\n",
       "      <td>AKGDH</td>\n",
       "    </tr>\n",
       "  </tbody>\n",
       "</table>\n",
       "<p>309 rows × 5 columns</p>\n",
       "</div>"
      ],
      "text/plain": [
       "               [metabolite]                      metabolitel   st  \\\n",
       "0     kg:metabolite_13dpg_c  3-Phospho-D-glyceroyl phosphate  1.0   \n",
       "1     kg:metabolite_13dpg_c  3-Phospho-D-glyceroyl phosphate  1.0   \n",
       "2       kg:metabolite_2pg_c          D-Glycerate 2-phosphate -1.0   \n",
       "3       kg:metabolite_2pg_c          D-Glycerate 2-phosphate -1.0   \n",
       "4       kg:metabolite_3pg_c            3-Phospho-D-glycerate  1.0   \n",
       "..                      ...                              ...  ...   \n",
       "304    kg:metabolite_succ_e                        Succinate  1.0   \n",
       "305    kg:metabolite_succ_e                        Succinate -1.0   \n",
       "306    kg:metabolite_succ_e                        Succinate -1.0   \n",
       "307  kg:metabolite_succoa_c                     Succinyl-CoA  1.0   \n",
       "308  kg:metabolite_succoa_c                     Succinyl-CoA  1.0   \n",
       "\n",
       "                  reaction  reactionl  \n",
       "0          kg:reaction_pgk        PGK  \n",
       "1         kg:reaction_gapd       GAPD  \n",
       "2          kg:reaction_pgm        PGM  \n",
       "3          kg:reaction_eno        ENO  \n",
       "4          kg:reaction_pgm        PGM  \n",
       "..                     ...        ...  \n",
       "304     kg:reaction_succt3     SUCCt3  \n",
       "305   kg:reaction_succt2_2   SUCCt2_2  \n",
       "306  kg:reaction_ex_succ_e  EX_succ_e  \n",
       "307     kg:reaction_sucoas     SUCOAS  \n",
       "308      kg:reaction_akgdh      AKGDH  \n",
       "\n",
       "[309 rows x 5 columns]"
      ]
     },
     "execution_count": 19,
     "metadata": {},
     "output_type": "execute_result"
    }
   ],
   "source": [
    "metabolites"
   ]
  },
  {
   "cell_type": "markdown",
   "id": "8d64489d-8a72-43ae-896b-c140a67f4962",
   "metadata": {},
   "source": [
    "## Create Graph"
   ]
  },
  {
   "cell_type": "code",
   "execution_count": 15,
   "id": "d6650d48-c198-468f-9c5f-3875514b1247",
   "metadata": {},
   "outputs": [],
   "source": [
    "'''\n",
    "Reactions names to integer ID\n",
    "'''\n",
    "from sklearn.preprocessing import LabelEncoder\n",
    "\n",
    "rxn = pd.concat([df['source'], df['target']])\n",
    "\n",
    "le = LabelEncoder()\n",
    "le.fit_transform(rxn)\n",
    "\n",
    "df['source'] = le.transform(df['source'])\n",
    "df['target'] = le.transform(df['target'])"
   ]
  },
  {
   "cell_type": "code",
   "execution_count": 16,
   "id": "2dc77441-8c36-4283-b8b4-a894f42887b5",
   "metadata": {},
   "outputs": [
    {
     "name": "stdout",
     "output_type": "stream",
     "text": [
      "# nodes = 66\n",
      "# edges = 271\n"
     ]
    }
   ],
   "source": [
    "import networkx as nx\n",
    "from networkx import from_pandas_edgelist\n",
    "\n",
    "G = from_pandas_edgelist(df, source='source', target='target', create_using=nx.Graph())\n",
    "print('# nodes =',len(G.nodes))\n",
    "print('# edges =',len(G.edges))"
   ]
  },
  {
   "cell_type": "code",
   "execution_count": 18,
   "id": "11810695-334d-49e3-b696-bf0a901a3cbc",
   "metadata": {},
   "outputs": [
    {
     "data": {
      "text/plain": [
       "{0: 0,\n",
       " 13: 1,\n",
       " 39: 2,\n",
       " 54: 3,\n",
       " 32: 0,\n",
       " 55: 0,\n",
       " 43: 0,\n",
       " 62: 3,\n",
       " 1: 0,\n",
       " 2: 0,\n",
       " 11: 1,\n",
       " 3: 1,\n",
       " 4: 1,\n",
       " 10: 1,\n",
       " 19: 1,\n",
       " 23: 1,\n",
       " 28: 1,\n",
       " 30: 1,\n",
       " 31: 1,\n",
       " 49: 1,\n",
       " 52: 3,\n",
       " 53: 3,\n",
       " 36: 3,\n",
       " 37: 2,\n",
       " 5: 0,\n",
       " 6: 3,\n",
       " 7: 3,\n",
       " 8: 0,\n",
       " 9: 0,\n",
       " 26: 2,\n",
       " 29: 1,\n",
       " 48: 4,\n",
       " 60: 2,\n",
       " 12: 3,\n",
       " 46: 3,\n",
       " 14: 0,\n",
       " 15: 0,\n",
       " 17: 0,\n",
       " 20: 0,\n",
       " 33: 0,\n",
       " 51: 0,\n",
       " 56: 0,\n",
       " 58: 0,\n",
       " 59: 0,\n",
       " 16: 1,\n",
       " 22: 3,\n",
       " 27: 3,\n",
       " 18: 2,\n",
       " 61: 2,\n",
       " 65: 2,\n",
       " 21: 0,\n",
       " 24: 0,\n",
       " 25: 3,\n",
       " 44: 3,\n",
       " 47: 3,\n",
       " 34: 3,\n",
       " 42: 3,\n",
       " 35: 1,\n",
       " 38: 3,\n",
       " 40: 0,\n",
       " 41: 3,\n",
       " 45: 1,\n",
       " 50: 4,\n",
       " 57: 0,\n",
       " 64: 2,\n",
       " 63: 2}"
      ]
     },
     "execution_count": 18,
     "metadata": {},
     "output_type": "execute_result"
    }
   ],
   "source": [
    "from community import best_partition\n",
    "\n",
    "partition = best_partition(G)\n",
    "partition"
   ]
  },
  {
   "cell_type": "code",
   "execution_count": null,
   "id": "8ad0244f-adf1-4aa0-875e-be328c2848c4",
   "metadata": {},
   "outputs": [],
   "source": [
    "\n",
    "# Create a new graph with the same nodes as the original graph\n",
    "H = nx.Graph()\n",
    "H.add_nodes_from(G.nodes)\n",
    "\n",
    "# Compute the best partition of the graph using the Louvain algorithm\n",
    "partition = best_partition(G)\n",
    "\n",
    "# Create a new graph with the same nodes as the original graph\n",
    "H = nx.Graph()\n",
    "H.add_nodes_from(G.nodes)\n",
    "\n",
    "# Add edges between nodes in the same community\n",
    "for node, community in partition.items():\n",
    "    for neighbor, neighbor_community in partition.items():\n",
    "        if community == neighbor_community:\n",
    "            H.add_edge(node, neighbor)\n",
    "\n",
    "# Plot the original and reduced graphs\n",
    "import matplotlib.pyplot as plt\n",
    "plt.figure()\n",
    "nx.draw(G, with_labels=True)\n",
    "plt.figure()\n",
    "nx.draw(H, with_labels=True)\n",
    "plt.show()\n"
   ]
  },
  {
   "cell_type": "markdown",
   "id": "214a67a0-111a-4e14-b165-74fde4f44759",
   "metadata": {},
   "source": [
    "### DeepWalk"
   ]
  },
  {
   "cell_type": "code",
   "execution_count": 6,
   "id": "c7f543b6-e967-49af-8963-6871dc7f2c3f",
   "metadata": {},
   "outputs": [],
   "source": [
    "from karateclub import DeepWalk"
   ]
  },
  {
   "cell_type": "code",
   "execution_count": 17,
   "id": "8654a0a6-1d7d-46ca-81e4-70eab8369634",
   "metadata": {},
   "outputs": [
    {
     "name": "stdout",
     "output_type": "stream",
     "text": [
      "Embedding array shape (nodes x features): (66, 128)\n"
     ]
    }
   ],
   "source": [
    "\" Perform node embedding using DeepWalk \"\n",
    "Deepwalk_model = DeepWalk(walk_number=20, walk_length=80, \n",
    "                          dimensions=128)\n",
    "Deepwalk_model.fit(G)\n",
    "embedding = Deepwalk_model.get_embedding()\n",
    "print('Embedding array shape (nodes x features):',embedding.shape )"
   ]
  },
  {
   "cell_type": "code",
   "execution_count": 18,
   "id": "843606e5-c6b1-4737-970e-193e06114099",
   "metadata": {},
   "outputs": [
    {
     "data": {
      "image/png": "[encoded data removed]",
      "text/plain": [
       "<Figure size 640x480 with 1 Axes>"
      ]
     },
     "metadata": {},
     "output_type": "display_data"
    }
   ],
   "source": [
    "\" Low dimensional plot of the neodes x features\"\n",
    "\n",
    "PCA_model = sklearn.decomposition.PCA(n_components=2)\n",
    "\n",
    "lowdimension_embedding = PCA_model.fit_transform(embedding)\n",
    "\n",
    "plt.scatter(lowdimension_embedding[:,0], lowdimension_embedding[:,1])\n",
    "plt.show()"
   ]
  },
  {
   "cell_type": "code",
   "execution_count": 19,
   "id": "2c618b5f-523e-4e26-820c-3dc7f1e1360f",
   "metadata": {},
   "outputs": [
    {
     "data": {
      "image/png": "[encoded data removed]",
      "text/plain": [
       "<Figure size 640x480 with 1 Axes>"
      ]
     },
     "metadata": {},
     "output_type": "display_data"
    }
   ],
   "source": [
    "from sklearn.mixture import GaussianMixture\n",
    "\n",
    "model = GaussianMixture(n_components=2)\n",
    "yhat = model.fit_predict(embedding)\n",
    "\n",
    "\" Low dimensional plot of the neodes x features\"\n",
    "\n",
    "PCA_model = sklearn.decomposition.PCA(n_components=2)\n",
    "\n",
    "lowdimension_embedding = PCA_model.fit_transform(embedding)\n",
    "\n",
    "plt.scatter(lowdimension_embedding[:,0], lowdimension_embedding[:,1], c=yhat,\n",
    "            s=15,cmap='coolwarm')\n",
    "plt.show()"
   ]
  },
  {
   "cell_type": "code",
   "execution_count": 20,
   "id": "1c3bbb48-0b68-42e0-be1d-76efde661c5f",
   "metadata": {},
   "outputs": [
    {
     "data": {
      "text/html": [
       "<div>\n",
       "<style scoped>\n",
       "    .dataframe tbody tr th:only-of-type {\n",
       "        vertical-align: middle;\n",
       "    }\n",
       "\n",
       "    .dataframe tbody tr th {\n",
       "        vertical-align: top;\n",
       "    }\n",
       "\n",
       "    .dataframe thead th {\n",
       "        text-align: right;\n",
       "    }\n",
       "</style>\n",
       "<table border=\"1\" class=\"dataframe\">\n",
       "  <thead>\n",
       "    <tr style=\"text-align: right;\">\n",
       "      <th></th>\n",
       "      <th>rxn</th>\n",
       "      <th>cluster</th>\n",
       "    </tr>\n",
       "  </thead>\n",
       "  <tbody>\n",
       "    <tr>\n",
       "      <th>31</th>\n",
       "      <td>[kg:reaction_glun]</td>\n",
       "      <td>1</td>\n",
       "    </tr>\n",
       "    <tr>\n",
       "      <th>7</th>\n",
       "      <td>[kg:reaction_akgdh]</td>\n",
       "      <td>1</td>\n",
       "    </tr>\n",
       "    <tr>\n",
       "      <th>8</th>\n",
       "      <td>[kg:reaction_akgt2r]</td>\n",
       "      <td>1</td>\n",
       "    </tr>\n",
       "    <tr>\n",
       "      <th>18</th>\n",
       "      <td>[kg:reaction_fba]</td>\n",
       "      <td>1</td>\n",
       "    </tr>\n",
       "    <tr>\n",
       "      <th>45</th>\n",
       "      <td>[kg:reaction_nh4t]</td>\n",
       "      <td>1</td>\n",
       "    </tr>\n",
       "    <tr>\n",
       "      <th>57</th>\n",
       "      <td>[kg:reaction_succt2_2]</td>\n",
       "      <td>1</td>\n",
       "    </tr>\n",
       "    <tr>\n",
       "      <th>64</th>\n",
       "      <td>[kg:reaction_tkt2]</td>\n",
       "      <td>1</td>\n",
       "    </tr>\n",
       "    <tr>\n",
       "      <th>63</th>\n",
       "      <td>[kg:reaction_tkt1]</td>\n",
       "      <td>1</td>\n",
       "    </tr>\n",
       "  </tbody>\n",
       "</table>\n",
       "</div>"
      ],
      "text/plain": [
       "                       rxn  cluster\n",
       "31      [kg:reaction_glun]        1\n",
       "7      [kg:reaction_akgdh]        1\n",
       "8     [kg:reaction_akgt2r]        1\n",
       "18       [kg:reaction_fba]        1\n",
       "45      [kg:reaction_nh4t]        1\n",
       "57  [kg:reaction_succt2_2]        1\n",
       "64      [kg:reaction_tkt2]        1\n",
       "63      [kg:reaction_tkt1]        1"
      ]
     },
     "execution_count": 20,
     "metadata": {},
     "output_type": "execute_result"
    }
   ],
   "source": [
    "results = pd.DataFrame()\n",
    "\n",
    "results['rxn'] = G.nodes\n",
    "results['cluster'] = yhat\n",
    "\n",
    "for row in range(len(results)):\n",
    "    results['rxn'].iloc[row] = le.inverse_transform([results['rxn'].iloc[row] ])\n",
    "\n",
    "results[results['cluster'] == 1]"
   ]
  },
  {
   "cell_type": "code",
   "execution_count": 23,
   "id": "5cb828be",
   "metadata": {},
   "outputs": [
    {
     "name": "stdout",
     "output_type": "stream",
     "text": [
      "Network density: 0.1571095571095571\n"
     ]
    }
   ],
   "source": [
    "print(\"Network density:\", nx.density(G))"
   ]
  },
  {
   "cell_type": "markdown",
   "id": "e002e526",
   "metadata": {},
   "source": [
    "__The density value implies that this is not very dense network (on a scale from 0-1).__"
   ]
  },
  {
   "cell_type": "code",
   "execution_count": 24,
   "id": "03c3c645",
   "metadata": {},
   "outputs": [
    {
     "name": "stdout",
     "output_type": "stream",
     "text": [
      "Top 20 nodes by betweenness centrality:\n",
      "(55, 0.20566531960124193)\n",
      "(32, 0.1493775865354674)\n",
      "(26, 0.10793805243147293)\n",
      "(39, 0.10157196847860955)\n",
      "(14, 0.07734356579354533)\n",
      "(52, 0.06638313387799333)\n",
      "(11, 0.0645645492566243)\n",
      "(43, 0.06288496800836187)\n",
      "(53, 0.04669919059538695)\n",
      "(29, 0.037334977594722145)\n",
      "(0, 0.03518172548561663)\n",
      "(48, 0.03076923076923077)\n",
      "(16, 0.028179697039468356)\n",
      "(46, 0.024822029010291454)\n",
      "(60, 0.01950646314105271)\n",
      "(13, 0.015739749004061495)\n",
      "(62, 0.014453188198886767)\n",
      "(30, 0.013609297304869893)\n",
      "(54, 0.013586645631176165)\n",
      "(3, 0.011396983803947396)\n"
     ]
    }
   ],
   "source": [
    "from operator import itemgetter\n",
    "\n",
    "betweenness_dict = nx.betweenness_centrality(G) # Run betweenness centrality\n",
    "eigenvector_dict = nx.eigenvector_centrality(G) # Run eigenvector centrality\n",
    "\n",
    "# Assign each to an attribute in your network\n",
    "nx.set_node_attributes(G, betweenness_dict, 'betweenness')\n",
    "nx.set_node_attributes(G, eigenvector_dict, 'eigenvector')\n",
    "\n",
    "sorted_betweenness = sorted(betweenness_dict.items(), key=itemgetter(1), reverse=True)\n",
    "\n",
    "print(\"Top 20 nodes by betweenness centrality:\")\n",
    "for b in sorted_betweenness[:20]:\n",
    "    print(b)"
   ]
  },
  {
   "cell_type": "code",
   "execution_count": 25,
   "id": "61afd05c",
   "metadata": {},
   "outputs": [
    {
     "name": "stdout",
     "output_type": "stream",
     "text": [
      "Top 20 nodes by page rank:\n",
      "(55, 0.05182984606486342)\n",
      "(32, 0.0468626523906143)\n",
      "(14, 0.03502540147991287)\n",
      "(43, 0.03182919418278747)\n",
      "(11, 0.03144333112545613)\n",
      "(52, 0.028646805741565043)\n",
      "(39, 0.02801238030423723)\n",
      "(26, 0.02755776678460108)\n",
      "(53, 0.02662467208882875)\n",
      "(16, 0.023591579569685477)\n",
      "(46, 0.02128736610662002)\n",
      "(13, 0.020399730306932692)\n",
      "(3, 0.019232288031188545)\n",
      "(35, 0.019232288031188545)\n",
      "(62, 0.01860360222257138)\n",
      "(54, 0.018167646981421468)\n",
      "(0, 0.01681213857109116)\n",
      "(30, 0.0165749322940504)\n",
      "(60, 0.016000495000243007)\n",
      "(29, 0.01562762387107402)\n"
     ]
    }
   ],
   "source": [
    "pagerank_dict = nx.pagerank(G)\n",
    "sorted_pagerank = sorted(pagerank_dict.items(), key=itemgetter(1), reverse=True)\n",
    "\n",
    "print(\"Top 20 nodes by page rank:\")\n",
    "for b in sorted_pagerank[:20]:\n",
    "    print(b)"
   ]
  },
  {
   "cell_type": "code",
   "execution_count": 76,
   "id": "ab4b4ca1-3ed9-4bdb-8167-98672a8c5975",
   "metadata": {},
   "outputs": [
    {
     "data": {
      "text/html": [
       "<div>\n",
       "<style scoped>\n",
       "    .dataframe tbody tr th:only-of-type {\n",
       "        vertical-align: middle;\n",
       "    }\n",
       "\n",
       "    .dataframe tbody tr th {\n",
       "        vertical-align: top;\n",
       "    }\n",
       "\n",
       "    .dataframe thead th {\n",
       "        text-align: right;\n",
       "    }\n",
       "</style>\n",
       "<table border=\"1\" class=\"dataframe\">\n",
       "  <thead>\n",
       "    <tr style=\"text-align: right;\">\n",
       "      <th></th>\n",
       "      <th>rxn</th>\n",
       "      <th>value</th>\n",
       "    </tr>\n",
       "  </thead>\n",
       "  <tbody>\n",
       "    <tr>\n",
       "      <th>5</th>\n",
       "      <td>kg:reaction_pyk</td>\n",
       "      <td>0.051830</td>\n",
       "    </tr>\n",
       "    <tr>\n",
       "      <th>4</th>\n",
       "      <td>kg:reaction_glusy</td>\n",
       "      <td>0.046863</td>\n",
       "    </tr>\n",
       "    <tr>\n",
       "      <th>35</th>\n",
       "      <td>kg:reaction_cytbd</td>\n",
       "      <td>0.035025</td>\n",
       "    </tr>\n",
       "    <tr>\n",
       "      <th>6</th>\n",
       "      <td>kg:reaction_nadh16</td>\n",
       "      <td>0.031829</td>\n",
       "    </tr>\n",
       "    <tr>\n",
       "      <th>10</th>\n",
       "      <td>kg:reaction_atps4r</td>\n",
       "      <td>0.031443</td>\n",
       "    </tr>\n",
       "    <tr>\n",
       "      <th>...</th>\n",
       "      <td>...</td>\n",
       "      <td>...</td>\n",
       "    </tr>\n",
       "    <tr>\n",
       "      <th>25</th>\n",
       "      <td>kg:reaction_adk1</td>\n",
       "      <td>0.007697</td>\n",
       "    </tr>\n",
       "    <tr>\n",
       "      <th>54</th>\n",
       "      <td>kg:reaction_pgi</td>\n",
       "      <td>0.007235</td>\n",
       "    </tr>\n",
       "    <tr>\n",
       "      <th>61</th>\n",
       "      <td>kg:reaction_nh4t</td>\n",
       "      <td>0.006520</td>\n",
       "    </tr>\n",
       "    <tr>\n",
       "      <th>8</th>\n",
       "      <td>kg:reaction_acaldt</td>\n",
       "      <td>0.006438</td>\n",
       "    </tr>\n",
       "    <tr>\n",
       "      <th>33</th>\n",
       "      <td>kg:reaction_co2t</td>\n",
       "      <td>0.006181</td>\n",
       "    </tr>\n",
       "  </tbody>\n",
       "</table>\n",
       "<p>66 rows × 2 columns</p>\n",
       "</div>"
      ],
      "text/plain": [
       "                   rxn     value\n",
       "5      kg:reaction_pyk  0.051830\n",
       "4    kg:reaction_glusy  0.046863\n",
       "35   kg:reaction_cytbd  0.035025\n",
       "6   kg:reaction_nadh16  0.031829\n",
       "10  kg:reaction_atps4r  0.031443\n",
       "..                 ...       ...\n",
       "25    kg:reaction_adk1  0.007697\n",
       "54     kg:reaction_pgi  0.007235\n",
       "61    kg:reaction_nh4t  0.006520\n",
       "8   kg:reaction_acaldt  0.006438\n",
       "33    kg:reaction_co2t  0.006181\n",
       "\n",
       "[66 rows x 2 columns]"
      ]
     },
     "execution_count": 76,
     "metadata": {},
     "output_type": "execute_result"
    }
   ],
   "source": [
    "pageRank = pd.DataFrame()\n",
    "\n",
    "pageRank['rxn'] = le.inverse_transform(list(pagerank_dict.keys()))\n",
    "pageRank['value'] = list(pagerank_dict.values())\n",
    "\n",
    "pageRank.sort_values(by=['value'], ascending=False)"
   ]
  }
 ],
 "metadata": {
  "kernelspec": {
   "display_name": "Python 3 (ipykernel)",
   "language": "python",
   "name": "python3"
  },
  "language_info": {
   "codemirror_mode": {
    "name": "ipython",
    "version": 3
   },
   "file_extension": ".py",
   "mimetype": "text/x-python",
   "name": "python",
   "nbconvert_exporter": "python",
   "pygments_lexer": "ipython3",
   "version": "3.9.10"
  }
 },
 "nbformat": 4,
 "nbformat_minor": 5
}
