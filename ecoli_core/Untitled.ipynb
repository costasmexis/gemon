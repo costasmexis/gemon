{
 "cells": [
  {
   "cell_type": "markdown",
   "id": "97a78aa7",
   "metadata": {},
   "source": [
    "# MFG"
   ]
  },
  {
   "cell_type": "code",
   "execution_count": 29,
   "id": "f5035766",
   "metadata": {},
   "outputs": [],
   "source": [
    "import cobra\n",
    "import networkx as nx\n",
    "import matplotlib.pyplot as plt\n",
    "import pandas as pd\n",
    "import numpy as np\n",
    "\n",
    "model = cobra.io.load_model('textbook')"
   ]
  },
  {
   "cell_type": "code",
   "execution_count": 30,
   "id": "65cc1b3d",
   "metadata": {},
   "outputs": [
    {
     "name": "stdout",
     "output_type": "stream",
     "text": [
      "(72, 95) (95, 95)\n"
     ]
    }
   ],
   "source": [
    "S = cobra.util.array.create_stoichiometric_matrix(model, array_type='DataFrame')\n",
    "\n",
    "S = S != 0\n",
    "\n",
    "for c in S.columns: S[c] = S[c].replace({True: 1, False: 0})\n",
    "    \n",
    "A = S.T.dot(S)\n",
    "\n",
    "A = A.fillna(0)\n",
    "\n",
    "print(S.shape, A.shape)"
   ]
  },
  {
   "cell_type": "code",
   "execution_count": 31,
   "id": "fdb19ae0",
   "metadata": {},
   "outputs": [
    {
     "data": {
      "text/plain": [
       "(190,)"
      ]
     },
     "execution_count": 31,
     "metadata": {},
     "output_type": "execute_result"
    }
   ],
   "source": [
    "solution = model.optimize()\n",
    "\n",
    "v = solution.fluxes\n",
    "\n",
    "v_plus = 0.5 * (abs(v) + v)\n",
    "v_minus = 0.5 * (abs(v) - v)\n",
    "\n",
    "v_2m = pd.concat([v_plus, v_minus])\n",
    "v_2m.shape"
   ]
  },
  {
   "cell_type": "code",
   "execution_count": 32,
   "id": "5a9b1670",
   "metadata": {},
   "outputs": [
    {
     "data": {
      "text/plain": [
       "(95, 95)"
      ]
     },
     "execution_count": 32,
     "metadata": {},
     "output_type": "execute_result"
    }
   ],
   "source": [
    "diag_r = pd.DataFrame(np.diag([int(rxn.reversibility) for rxn in model.reactions]))\n",
    "diag_r.shape"
   ]
  }
 ],
 "metadata": {
  "kernelspec": {
   "display_name": "Python 3 (ipykernel)",
   "language": "python",
   "name": "python3"
  },
  "language_info": {
   "codemirror_mode": {
    "name": "ipython",
    "version": 3
   },
   "file_extension": ".py",
   "mimetype": "text/x-python",
   "name": "python",
   "nbconvert_exporter": "python",
   "pygments_lexer": "ipython3",
   "version": "3.9.10"
  }
 },
 "nbformat": 4,
 "nbformat_minor": 5
}
