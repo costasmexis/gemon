{
 "cells": [
  {
   "cell_type": "code",
   "execution_count": 1,
   "id": "4ae10cb1-6d19-47ef-98fd-0474841918ce",
   "metadata": {},
   "outputs": [],
   "source": [
    "import pandas as pd\n",
    "import networkx as nx\n",
    "import pickle"
   ]
  },
  {
   "cell_type": "code",
   "execution_count": 2,
   "id": "a162365f",
   "metadata": {},
   "outputs": [
    {
     "name": "stdout",
     "output_type": "stream",
     "text": [
      "# Nodes: 373 \n",
      "# Edges: 6157\n"
     ]
    }
   ],
   "source": [
    "G = pickle.load(open('yeast_G.pickle', 'rb'))\n",
    "\n",
    "print(f'# Nodes: {G.number_of_nodes()} \\n# Edges: {G.number_of_edges()}')"
   ]
  },
  {
   "attachments": {},
   "cell_type": "markdown",
   "id": "37ffdf52",
   "metadata": {},
   "source": [
    "## Add node features"
   ]
  },
  {
   "cell_type": "code",
   "execution_count": 3,
   "id": "8dc756a7",
   "metadata": {},
   "outputs": [],
   "source": [
    "import cobra\n",
    "\n",
    "cobra_model = cobra.io.load_json_model('redYeast_ST8943_fdp1.json')"
   ]
  },
  {
   "cell_type": "code",
   "execution_count": 4,
   "id": "24c9f4bd",
   "metadata": {},
   "outputs": [],
   "source": [
    "# Add number of metabolites in every reaction as a node feature\n",
    "for node, data in G.nodes(data=True):\n",
    "    if \"rev?\" in node: rxn_name = node.split(\"?\")[1]\n",
    "    else: rxn_name = node\n",
    "    \n",
    "    num_metabolites = len(cobra_model.reactions.get_by_id(rxn_name).metabolites)\n",
    "    data['x'] = num_metabolites"
   ]
  },
  {
   "cell_type": "markdown",
   "id": "5806c87c-843b-4eab-b8e1-ba546324007f",
   "metadata": {},
   "source": [
    "## Read ORACLE's data"
   ]
  },
  {
   "cell_type": "code",
   "execution_count": 5,
   "id": "44e52311-7ade-434c-bb56-66c04aa52019",
   "metadata": {},
   "outputs": [],
   "source": [
    "sigma = pd.read_csv('saturations.csv', index_col=0)\n",
    "gamma = pd.read_csv('gamma.csv', index_col=0)\n",
    "vmax = pd.read_csv('Vmax_matrix.csv', index_col=0)\n",
    "\n",
    "gamma = gamma.head(1)\n",
    "sigma = sigma.head(1)\n",
    "vmax = vmax.head(1)"
   ]
  },
  {
   "cell_type": "code",
   "execution_count": 6,
   "id": "ffe4c40d",
   "metadata": {},
   "outputs": [],
   "source": [
    "# get the reactions that are the reversible \n",
    "rev_rxn = []\n",
    "for node in list(G.nodes()):\n",
    "    if node.split(\"?\")[0] == 'rev': rev_rxn.append(node.split(\"?\")[1])\n",
    "\n",
    "# rename the reactions of gamma; if it's the reversible one add rev? to the column name\n",
    "for col in gamma.columns:\n",
    "    if col in rev_rxn: gamma.rename(columns={col:'rev?'+col}, inplace=True)"
   ]
  },
  {
   "cell_type": "code",
   "execution_count": 7,
   "id": "42b19be5",
   "metadata": {},
   "outputs": [
    {
     "name": "stdout",
     "output_type": "stream",
     "text": [
      "In Graph but not in gamma: ['EX_lac__D_e', 'EX_mal__L_e', 'EX_akg_e', 'EX_2phetoh_e', 'EX_acald_e', 'EX_ac_e', 'EX_gam6p_e', 'EX_co2_e', 'EX_cit_e', 'EX_etoh_e', 'EX_fum_e', 'EX_gly_e', 'EX_gcald_e', 'EX_glx_e', 'EX_id3acald_e', 'EX_ala__L_e', 'EX_asn__L_e', 'EX_asp__L_e', 'EX_cys__L_e', 'EX_glu__L_e', 'EX_gln__L_e', 'EX_phe__L_e', 'EX_ser__L_e', 'EX_trp__L_e', 'EX_tyr__L_e', 'EX_oaa_e', 'EX_pacald_e', 'EX_pyr_e', 'EX_succ_e', 'EX_ind3eth_e', 'EX_h2o_e', 'EX_g6p_e', 'EX_g1p_e', 'EX_2pg_e', 'EX_pser__L_e', 'EX_ppi_e', 'EX_pep_e', 'EX_cbp_e', 'EX_6pgc_e', 'EX_3pg_e', 'EX_cmp_e', 'GROWTH', 'EX_ccm_e', 'EX_pca_e', 'rev?EX_nh4_e', 'rev?EX_glc__D_e', 'rev?EX_h_e', 'rev?EX_fe2_e', 'rev?EX_o2_e', 'rev?EX_pi_e', 'rev?EX_k_e', 'rev?EX_na1_e', 'rev?EX_so4_e', 'rev?EX_cl_e', 'rev?EX_cu2_e', 'rev?EX_mn2_e', 'rev?EX_zn2_e', 'rev?EX_mg2_e', 'rev?EX_ca2_e']\n",
      "\n",
      "In gamma but not in Graph: []\n"
     ]
    }
   ],
   "source": [
    "listA = list(G.nodes())\n",
    "listB = gamma.columns.values\n",
    "\n",
    "print('In Graph but not in gamma:', [item for item in listA if item not in listB])\n",
    "print()\n",
    "print('In gamma but not in Graph:', [item for item in listB if item not in listA])"
   ]
  },
  {
   "cell_type": "code",
   "execution_count": 8,
   "id": "28eb4459",
   "metadata": {},
   "outputs": [
    {
     "name": "stdout",
     "output_type": "stream",
     "text": [
      "# Nodes: 314 \n",
      "# Edges: 6090\n"
     ]
    }
   ],
   "source": [
    "# Drop nodes without gamma\n",
    "G.remove_nodes_from([item for item in listA if item not in listB])\n",
    "print(f'# Nodes: {G.number_of_nodes()} \\n# Edges: {G.number_of_edges()}')"
   ]
  },
  {
   "cell_type": "code",
   "execution_count": 9,
   "id": "c1b46c99",
   "metadata": {},
   "outputs": [
    {
     "name": "stdout",
     "output_type": "stream",
     "text": [
      "(1, 243)\n",
      "# Nodes: 243 \n",
      "# Edges: 3793\n"
     ]
    }
   ],
   "source": [
    "# reactions with gamma > 1\n",
    "rxn_bad_gamma = gamma.columns[(gamma > 1).any()].tolist()\n",
    "gamma.drop(columns=rxn_bad_gamma, inplace=True)\n",
    "print(gamma.shape)\n",
    "\n",
    "# Drop nodes with gamma > 0\n",
    "G.remove_nodes_from(rxn_bad_gamma)\n",
    "print(f'# Nodes: {G.number_of_nodes()} \\n# Edges: {G.number_of_edges()}')"
   ]
  },
  {
   "attachments": {},
   "cell_type": "markdown",
   "id": "4103336f",
   "metadata": {},
   "source": [
    "#### Add `gamma` values as Graph node features"
   ]
  },
  {
   "cell_type": "code",
   "execution_count": 14,
   "id": "f5a3dae7",
   "metadata": {},
   "outputs": [],
   "source": [
    "for node in gamma.columns:\n",
    "    try:\n",
    "        G.nodes[node]['y'] =  gamma[node].values[0]\n",
    "    except KeyError:\n",
    "        pass\n",
    "\n",
    "no_gamma_nodes = [node for node, data in G.nodes(data=True) if not data]\n",
    "\n",
    "for node in no_gamma_nodes: G.nodes[node]['y'] = np.nan"
   ]
  },
  {
   "attachments": {},
   "cell_type": "markdown",
   "id": "5de8d226",
   "metadata": {},
   "source": [
    "#### Maybe, the Graph is ready afterall..."
   ]
  },
  {
   "attachments": {},
   "cell_type": "markdown",
   "id": "ffaea5cd",
   "metadata": {},
   "source": [
    "## Networkx to Torch Geometric"
   ]
  },
  {
   "cell_type": "code",
   "execution_count": 16,
   "id": "5395fc29",
   "metadata": {},
   "outputs": [
    {
     "name": "stdout",
     "output_type": "stream",
     "text": [
      "Data(x=[243], edge_index=[2, 3793], y=[243], edge_attr=[3793, 1])\n",
      "\n",
      "243 3793\n"
     ]
    }
   ],
   "source": [
    "import torch\n",
    "import torch.nn as nn\n",
    "from torch_geometric.utils.convert import from_networkx\n",
    "\n",
    "device = 'cuda' if torch.cuda.is_available() else 'cpu'\n",
    "\n",
    "data = from_networkx(G, group_edge_attrs=all)\n",
    "\n",
    "print(data)\n",
    "print()\n",
    "print(data.num_nodes ,data.num_edges)"
   ]
  },
  {
   "cell_type": "code",
   "execution_count": 34,
   "id": "a971ecd4",
   "metadata": {},
   "outputs": [],
   "source": [
    "# Create train, validation, and test masks\n",
    "train_mask = torch.zeros(len(data.x), dtype=torch.bool)\n",
    "train_mask[:train_size] = 1\n",
    "\n",
    "val_mask = torch.zeros(len(data.x), dtype=torch.bool)\n",
    "val_mask[train_size:train_size + val_size] = 1\n",
    "\n",
    "test_mask = torch.zeros(len(data.x), dtype=torch.bool)\n",
    "test_mask[train_size + val_size:] = 1\n",
    "\n",
    "data.train_mask = train_mask\n",
    "data.val_mask = val_mask\n",
    "data.test_mask = test_mask"
   ]
  },
  {
   "attachments": {},
   "cell_type": "markdown",
   "id": "c9fb83ba",
   "metadata": {},
   "source": [
    "## Create a GNN"
   ]
  },
  {
   "cell_type": "code",
   "execution_count": null,
   "id": "c8bbf16c",
   "metadata": {},
   "outputs": [],
   "source": [
    "import torch.nn.functional as F\n",
    "from torch.optim import Optimizer\n",
    "from torch_geometric.nn import GCNConv\n",
    "from torch import Tensor\n",
    "\n",
    "class GCN(torch.nn.Module):\n",
    "    def __init__(self, num_node_features: int, num_classes: int, \\\n",
    "        hidden_dim: int=16, dropout_rate: float=.5) -> None:\n",
    "        \n",
    "        super().__init__()\n",
    "        self.dropout1 = torch.nn.Dropout(dropout_rate)\n",
    "        self.conv1 = GCNConv(num_node_features, hidden_dim)\n",
    "        self.relu = torch.nn.ReLU(inplace=True)\n",
    "        self.dropout2 = torch.nn.Dropout(dropout_rate)\n",
    "        self.conv2 = GCNConv(hidden_dim, num_classes)\n",
    "\n",
    "    def forward(self, x: Tensor, edge_index: Tensor) -> torch.Tensor:\n",
    "        x = self.dropout1(x)\n",
    "        x = self.conv1(x, edge_index)\n",
    "        x = self.relu(x)\n",
    "        x = self.dropout1(x)\n",
    "        x = self.conv2(x, edge_index)\n",
    "\n",
    "        return F.log_softmax(x, dim=1)"
   ]
  },
  {
   "cell_type": "code",
   "execution_count": null,
   "id": "30c01d58",
   "metadata": {},
   "outputs": [],
   "source": []
  }
 ],
 "metadata": {
  "kernelspec": {
   "display_name": "main-bio",
   "language": "python",
   "name": "python3"
  },
  "language_info": {
   "codemirror_mode": {
    "name": "ipython",
    "version": 3
   },
   "file_extension": ".py",
   "mimetype": "text/x-python",
   "name": "python",
   "nbconvert_exporter": "python",
   "pygments_lexer": "ipython3",
   "version": "3.9.10"
  },
  "vscode": {
   "interpreter": {
    "hash": "c6c04a7e252f45ffc2f7191e380805b6a5dd99aa68793d835f69a35c16ce4a30"
   }
  }
 },
 "nbformat": 4,
 "nbformat_minor": 5
}
