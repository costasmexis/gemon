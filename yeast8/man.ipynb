{
 "cells": [
  {
   "cell_type": "code",
   "execution_count": 76,
   "id": "4ae10cb1-6d19-47ef-98fd-0474841918ce",
   "metadata": {},
   "outputs": [],
   "source": [
    "import pandas as pd\n",
    "import numpy as np\n",
    "import torch\n",
    "import networkx as nx\n",
    "import cobra\n",
    "import matplotlib.pyplot as plt\n",
    "\n",
    "import sys\n",
    "sys.path.append(\"../src/\")\n",
    "import GEMtoGRAPH as gg\n",
    "\n",
    "pd.set_option('display.float_format', lambda x: '%.5f' % x)"
   ]
  },
  {
   "cell_type": "code",
   "execution_count": 2,
   "id": "181151a3-7cc4-4572-99ea-13b668dae70d",
   "metadata": {},
   "outputs": [
    {
     "data": {
      "text/plain": [
       "(300, 373)"
      ]
     },
     "execution_count": 2,
     "metadata": {},
     "output_type": "execute_result"
    }
   ],
   "source": [
    "model = cobra.io.load_json_model('redYeast_ST8943_fdp1.json')\n",
    "S = cobra.util.array.create_stoichiometric_matrix(model, array_type='DataFrame')\n",
    "S.shape"
   ]
  },
  {
   "attachments": {},
   "cell_type": "markdown",
   "id": "bf38acb2-5ee5-4661-abb7-e60f124d4be5",
   "metadata": {},
   "source": [
    "# MFG"
   ]
  },
  {
   "attachments": {},
   "cell_type": "markdown",
   "id": "b0887caf",
   "metadata": {},
   "source": [
    "#### Load TFA fluxes"
   ]
  },
  {
   "cell_type": "code",
   "execution_count": 3,
   "id": "54acba48",
   "metadata": {},
   "outputs": [
    {
     "name": "stdout",
     "output_type": "stream",
     "text": [
      "Zero flux reactions: 373\n",
      "TFA fluxes: 373\n"
     ]
    }
   ],
   "source": [
    "# load tfa fluxes and send them to graph construction functions\n",
    "tfa = pd.read_csv('fluxes_for_graph.csv', index_col=0)\n",
    "tfa = tfa.head(1)\n",
    "\n",
    "zero_flux = [col for col in tfa.columns if (tfa[col] == 0).all()]\n",
    "\n",
    "print('Zero flux reactions:',len(zero_flux))\n",
    "\n",
    "tfa.drop(columns=zero_flux, inplace=True)\n",
    "print(\"TFA fluxes:\", tfa.shape[1])\n",
    "\n",
    "# For _reverse reactions we should change the sign of the flux to negative\n",
    "for col in tfa.columns:\n",
    "    if '_reverse' in col: tfa[col] = -tfa[col]\n",
    "\n",
    "\n",
    "tfa.rename(columns={col: col.split(\"_reverse_\")[0] for col in tfa.columns}, inplace=True)\n",
    "\n",
    "tfa_flux = tfa.iloc[0].values\n",
    "tfa_flux = pd.DataFrame(columns=['fluxes'], data=tfa_flux)\n",
    "tfa_flux.index = S.columns"
   ]
  },
  {
   "attachments": {},
   "cell_type": "markdown",
   "id": "61920d61",
   "metadata": {},
   "source": [
    "### Create MFG Graph"
   ]
  },
  {
   "cell_type": "code",
   "execution_count": 6,
   "id": "bd8996a0-d873-404b-aa6a-112d49eb93d8",
   "metadata": {},
   "outputs": [
    {
     "name": "stdout",
     "output_type": "stream",
     "text": [
      "# nodes: 746 \n",
      "# edges: 6157\n",
      "\n",
      "Removing isolated nodes...\n",
      "# nodes: 373 \n",
      "# edges: 6157\n"
     ]
    }
   ],
   "source": [
    "M, S_2m, G = gg.MFG(S, model, tfa_flux)\n",
    "\n",
    "# Remove isolated nodes from G\n",
    "print()\n",
    "print('Removing isolated nodes...')\n",
    "isolated_nodes = list(nx.isolates(G))\n",
    "G.remove_nodes_from(isolated_nodes)\n",
    "\n",
    "print(\"# nodes:\", G.number_of_nodes(), \"\\n# edges:\", G.number_of_edges())"
   ]
  },
  {
   "cell_type": "markdown",
   "id": "5806c87c-843b-4eab-b8e1-ba546324007f",
   "metadata": {},
   "source": [
    "## Read ORACLE's data"
   ]
  },
  {
   "cell_type": "code",
   "execution_count": 7,
   "id": "44e52311-7ade-434c-bb56-66c04aa52019",
   "metadata": {},
   "outputs": [],
   "source": [
    "sigma = pd.read_csv('saturations.csv', index_col=0)\n",
    "gamma = pd.read_csv('gamma.csv', index_col=0)\n",
    "vmax = pd.read_csv('Vmax_matrix.csv', index_col=0)\n",
    "\n",
    "gamma = gamma.head(1)\n",
    "sigma = sigma.head(1)\n",
    "vmax = vmax.head(1)"
   ]
  },
  {
   "cell_type": "code",
   "execution_count": 8,
   "id": "ffe4c40d",
   "metadata": {},
   "outputs": [],
   "source": [
    "# get the reactions that are the reversible version\n",
    "rev_rxn = []\n",
    "for node in list(G.nodes()):\n",
    "    if node.split(\"?\")[0] == 'rev': rev_rxn.append(node.split(\"?\")[1])\n",
    "\n",
    "# rename the reactions of gamma; if it's the reversible one add rev? to the column name\n",
    "for col in gamma.columns:\n",
    "    if col in rev_rxn: gamma.rename(columns={col:'rev?'+col}, inplace=True)"
   ]
  },
  {
   "cell_type": "code",
   "execution_count": 9,
   "id": "42b19be5",
   "metadata": {},
   "outputs": [
    {
     "name": "stdout",
     "output_type": "stream",
     "text": [
      "In Graph but not in gamma: ['EX_lac__D_e', 'EX_mal__L_e', 'EX_akg_e', 'EX_2phetoh_e', 'EX_acald_e', 'EX_ac_e', 'EX_gam6p_e', 'EX_co2_e', 'EX_cit_e', 'EX_etoh_e', 'EX_fum_e', 'EX_gly_e', 'EX_gcald_e', 'EX_glx_e', 'EX_id3acald_e', 'EX_ala__L_e', 'EX_asn__L_e', 'EX_asp__L_e', 'EX_cys__L_e', 'EX_glu__L_e', 'EX_gln__L_e', 'EX_phe__L_e', 'EX_ser__L_e', 'EX_trp__L_e', 'EX_tyr__L_e', 'EX_oaa_e', 'EX_pacald_e', 'EX_pyr_e', 'EX_succ_e', 'EX_ind3eth_e', 'EX_h2o_e', 'EX_g6p_e', 'EX_g1p_e', 'EX_2pg_e', 'EX_pser__L_e', 'EX_ppi_e', 'EX_pep_e', 'EX_cbp_e', 'EX_6pgc_e', 'EX_3pg_e', 'EX_cmp_e', 'GROWTH', 'EX_ccm_e', 'EX_pca_e', 'rev?EX_nh4_e', 'rev?EX_glc__D_e', 'rev?EX_h_e', 'rev?EX_fe2_e', 'rev?EX_o2_e', 'rev?EX_pi_e', 'rev?EX_k_e', 'rev?EX_na1_e', 'rev?EX_so4_e', 'rev?EX_cl_e', 'rev?EX_cu2_e', 'rev?EX_mn2_e', 'rev?EX_zn2_e', 'rev?EX_mg2_e', 'rev?EX_ca2_e']\n",
      "\n",
      "In gamma but not in Graph: []\n"
     ]
    }
   ],
   "source": [
    "listA = list(G.nodes())\n",
    "listB = gamma.columns\n",
    "\n",
    "print('In Graph but not in gamma:', [item for item in listA if item not in listB])\n",
    "print()\n",
    "print('In gamma but not in Graph:', [item for item in listB if item not in listA])"
   ]
  },
  {
   "attachments": {},
   "cell_type": "markdown",
   "id": "4103336f",
   "metadata": {},
   "source": [
    "#### Add `gamma` values as Graph node features"
   ]
  },
  {
   "cell_type": "code",
   "execution_count": 10,
   "id": "f5a3dae7",
   "metadata": {},
   "outputs": [],
   "source": [
    "for node in gamma.columns:\n",
    "    try:\n",
    "        G.nodes[node]['gamma'] =  gamma[node].values[0]\n",
    "    except KeyError:\n",
    "        pass\n",
    "\n",
    "no_gamma_nodes = [node for node, data in G.nodes(data=True) if not data]\n",
    "\n",
    "for node in no_gamma_nodes: G.nodes[node]['gamma'] = np.nan"
   ]
  },
  {
   "attachments": {},
   "cell_type": "markdown",
   "id": "5f8e9bb6",
   "metadata": {},
   "source": [
    "### We have the `Networkx` Graph G"
   ]
  },
  {
   "cell_type": "code",
   "execution_count": 11,
   "id": "b1120803",
   "metadata": {},
   "outputs": [
    {
     "data": {
      "text/plain": [
       "(373, 6157)"
      ]
     },
     "execution_count": 11,
     "metadata": {},
     "output_type": "execute_result"
    }
   ],
   "source": [
    "G.number_of_nodes(), G.number_of_edges()"
   ]
  },
  {
   "cell_type": "code",
   "execution_count": 34,
   "id": "2c79565c",
   "metadata": {},
   "outputs": [],
   "source": []
  },
  {
   "cell_type": "code",
   "execution_count": 35,
   "id": "0eabd7ad",
   "metadata": {},
   "outputs": [
    {
     "data": {
      "text/html": [
       "<div>\n",
       "<style scoped>\n",
       "    .dataframe tbody tr th:only-of-type {\n",
       "        vertical-align: middle;\n",
       "    }\n",
       "\n",
       "    .dataframe tbody tr th {\n",
       "        vertical-align: top;\n",
       "    }\n",
       "\n",
       "    .dataframe thead th {\n",
       "        text-align: right;\n",
       "    }\n",
       "</style>\n",
       "<table border=\"1\" class=\"dataframe\">\n",
       "  <thead>\n",
       "    <tr style=\"text-align: right;\">\n",
       "      <th></th>\n",
       "      <th>clustering</th>\n",
       "      <th>in_degree</th>\n",
       "      <th>out_degree</th>\n",
       "      <th>degree_centrality</th>\n",
       "      <th>closeness</th>\n",
       "      <th>betweeness</th>\n",
       "      <th>pr</th>\n",
       "      <th>gamma</th>\n",
       "    </tr>\n",
       "  </thead>\n",
       "  <tbody>\n",
       "    <tr>\n",
       "      <th>2OBUTtm</th>\n",
       "      <td>0.000000</td>\n",
       "      <td>0.002688</td>\n",
       "      <td>0.002688</td>\n",
       "      <td>0.005376</td>\n",
       "      <td>0.315599</td>\n",
       "      <td>0.000000</td>\n",
       "      <td>0.000600</td>\n",
       "      <td>0.999000</td>\n",
       "    </tr>\n",
       "    <tr>\n",
       "      <th>2OXOADPTm</th>\n",
       "      <td>0.040000</td>\n",
       "      <td>0.034946</td>\n",
       "      <td>0.013441</td>\n",
       "      <td>0.048387</td>\n",
       "      <td>0.334415</td>\n",
       "      <td>0.001647</td>\n",
       "      <td>0.000789</td>\n",
       "      <td>0.999000</td>\n",
       "    </tr>\n",
       "    <tr>\n",
       "      <th>2PHETOHtm</th>\n",
       "      <td>0.000000</td>\n",
       "      <td>0.002688</td>\n",
       "      <td>0.002688</td>\n",
       "      <td>0.005376</td>\n",
       "      <td>0.254019</td>\n",
       "      <td>0.000191</td>\n",
       "      <td>0.001022</td>\n",
       "      <td>0.993217</td>\n",
       "    </tr>\n",
       "    <tr>\n",
       "      <th>6PHOPHO</th>\n",
       "      <td>0.142857</td>\n",
       "      <td>0.005376</td>\n",
       "      <td>0.010753</td>\n",
       "      <td>0.016129</td>\n",
       "      <td>0.227674</td>\n",
       "      <td>0.000019</td>\n",
       "      <td>0.000800</td>\n",
       "      <td>0.999000</td>\n",
       "    </tr>\n",
       "    <tr>\n",
       "      <th>AATA</th>\n",
       "      <td>0.107803</td>\n",
       "      <td>0.056452</td>\n",
       "      <td>0.029570</td>\n",
       "      <td>0.086022</td>\n",
       "      <td>0.312799</td>\n",
       "      <td>0.001287</td>\n",
       "      <td>0.001056</td>\n",
       "      <td>0.308622</td>\n",
       "    </tr>\n",
       "  </tbody>\n",
       "</table>\n",
       "</div>"
      ],
      "text/plain": [
       "           clustering  in_degree  out_degree  degree_centrality  closeness  \\\n",
       "2OBUTtm      0.000000   0.002688    0.002688           0.005376   0.315599   \n",
       "2OXOADPTm    0.040000   0.034946    0.013441           0.048387   0.334415   \n",
       "2PHETOHtm    0.000000   0.002688    0.002688           0.005376   0.254019   \n",
       "6PHOPHO      0.142857   0.005376    0.010753           0.016129   0.227674   \n",
       "AATA         0.107803   0.056452    0.029570           0.086022   0.312799   \n",
       "\n",
       "           betweeness        pr     gamma  \n",
       "2OBUTtm      0.000000  0.000600  0.999000  \n",
       "2OXOADPTm    0.001647  0.000789  0.999000  \n",
       "2PHETOHtm    0.000191  0.001022  0.993217  \n",
       "6PHOPHO      0.000019  0.000800  0.999000  \n",
       "AATA         0.001287  0.001056  0.308622  "
      ]
     },
     "execution_count": 35,
     "metadata": {},
     "output_type": "execute_result"
    }
   ],
   "source": [
    "## Create features based on graph statistics such as degree_centrality etc\n",
    "\n",
    "df_g = pd.DataFrame(index=G.nodes())\n",
    "df_g['clustering'] = pd.Series(nx.clustering(G))\n",
    "df_g['in_degree'] = pd.Series(nx.in_degree_centrality(G))\n",
    "df_g['out_degree'] = pd.Series(nx.out_degree_centrality(G))\n",
    "df_g['degree_centrality'] = pd.Series(nx.degree_centrality(G))\n",
    "df_g['closeness'] = pd.Series(nx.closeness_centrality(G))\n",
    "df_g['betweeness'] = pd.Series(nx.betweenness_centrality(G))\n",
    "df_g['pr'] = pd.Series(nx.pagerank(G))\n",
    "\n",
    "node_data = pd.DataFrame.from_dict(dict(G.nodes), orient='index')\n",
    "node_data.sort_index(inplace=True)\n",
    "\n",
    "df_g.sort_index(inplace=True)\n",
    "\n",
    "df_g['gamma'] = node_data['gamma'].copy()\n",
    "df_g.head()\n",
    "\n"
   ]
  },
  {
   "cell_type": "code",
   "execution_count": 87,
   "id": "244669e9",
   "metadata": {},
   "outputs": [
    {
     "name": "stdout",
     "output_type": "stream",
     "text": [
      "20716194897.041557\n"
     ]
    }
   ],
   "source": [
    "nan_gamma_index = df_g[df_g['gamma'].isna()].index\n",
    "df_g.drop(index=nan_gamma_index, inplace=True)\n",
    "\n",
    "X = df_g.drop('gamma', axis=1)\n",
    "y = df_g['gamma'].copy()\n",
    "\n",
    "from sklearn.model_selection import train_test_split\n",
    "from sklearn import metrics\n",
    "from sklearn.preprocessing import StandardScaler\n",
    "\n",
    "X_train, X_test, y_train, y_test = train_test_split(X, y, test_size=0.33, random_state=42)\n",
    "\n",
    "scaler = StandardScaler()\n",
    "X_train = scaler.fit_transform(X_train)\n",
    "X_test = scaler.transform(X_test)\n",
    "\n",
    "from sklearn.ensemble import RandomForestRegressor\n",
    "\n",
    "model = RandomForestRegressor(n_estimators=20)\n",
    "model.fit(X_train, y_train)\n",
    "\n",
    "y_pred = model.predict(X_test)\n",
    "\n",
    "print(metrics.mean_absolute_error(y_test, y_pred))"
   ]
  },
  {
   "cell_type": "code",
   "execution_count": 88,
   "id": "f5b2202c",
   "metadata": {},
   "outputs": [
    {
     "data": {
      "text/html": [
       "<div>\n",
       "<style scoped>\n",
       "    .dataframe tbody tr th:only-of-type {\n",
       "        vertical-align: middle;\n",
       "    }\n",
       "\n",
       "    .dataframe tbody tr th {\n",
       "        vertical-align: top;\n",
       "    }\n",
       "\n",
       "    .dataframe thead th {\n",
       "        text-align: right;\n",
       "    }\n",
       "</style>\n",
       "<table border=\"1\" class=\"dataframe\">\n",
       "  <thead>\n",
       "    <tr style=\"text-align: right;\">\n",
       "      <th></th>\n",
       "      <th>y_true</th>\n",
       "      <th>y_pred</th>\n",
       "    </tr>\n",
       "  </thead>\n",
       "  <tbody>\n",
       "    <tr>\n",
       "      <th>ILEtmi</th>\n",
       "      <td>0.41710</td>\n",
       "      <td>1.89485</td>\n",
       "    </tr>\n",
       "    <tr>\n",
       "      <th>ALCD26xi</th>\n",
       "      <td>0.71787</td>\n",
       "      <td>0.67344</td>\n",
       "    </tr>\n",
       "    <tr>\n",
       "      <th>SUCD2_u6m</th>\n",
       "      <td>0.00000</td>\n",
       "      <td>7.21653</td>\n",
       "    </tr>\n",
       "    <tr>\n",
       "      <th>CBPS</th>\n",
       "      <td>0.05823</td>\n",
       "      <td>0.66199</td>\n",
       "    </tr>\n",
       "    <tr>\n",
       "      <th>rev?ALAt2r</th>\n",
       "      <td>1.93013</td>\n",
       "      <td>2.21824</td>\n",
       "    </tr>\n",
       "    <tr>\n",
       "      <th>...</th>\n",
       "      <td>...</td>\n",
       "      <td>...</td>\n",
       "    </tr>\n",
       "    <tr>\n",
       "      <th>ADK1</th>\n",
       "      <td>0.99900</td>\n",
       "      <td>26878689.93514</td>\n",
       "    </tr>\n",
       "    <tr>\n",
       "      <th>rev?2PGt6</th>\n",
       "      <td>2.11266</td>\n",
       "      <td>4.66059</td>\n",
       "    </tr>\n",
       "    <tr>\n",
       "      <th>GAPD</th>\n",
       "      <td>0.99900</td>\n",
       "      <td>239232500004.40216</td>\n",
       "    </tr>\n",
       "    <tr>\n",
       "      <th>E4Ptm</th>\n",
       "      <td>0.99900</td>\n",
       "      <td>0.65332</td>\n",
       "    </tr>\n",
       "    <tr>\n",
       "      <th>rev?3MOPtm</th>\n",
       "      <td>6.91372</td>\n",
       "      <td>2.53644</td>\n",
       "    </tr>\n",
       "  </tbody>\n",
       "</table>\n",
       "<p>104 rows × 2 columns</p>\n",
       "</div>"
      ],
      "text/plain": [
       "            y_true             y_pred\n",
       "ILEtmi     0.41710            1.89485\n",
       "ALCD26xi   0.71787            0.67344\n",
       "SUCD2_u6m  0.00000            7.21653\n",
       "CBPS       0.05823            0.66199\n",
       "rev?ALAt2r 1.93013            2.21824\n",
       "...            ...                ...\n",
       "ADK1       0.99900     26878689.93514\n",
       "rev?2PGt6  2.11266            4.66059\n",
       "GAPD       0.99900 239232500004.40216\n",
       "E4Ptm      0.99900            0.65332\n",
       "rev?3MOPtm 6.91372            2.53644\n",
       "\n",
       "[104 rows x 2 columns]"
      ]
     },
     "execution_count": 88,
     "metadata": {},
     "output_type": "execute_result"
    }
   ],
   "source": [
    "results = pd.DataFrame(columns=['y_true', 'y_pred'])\n",
    "results['y_true'] = y_test\n",
    "results['y_pred'] = y_pred\n",
    "results"
   ]
  },
  {
   "cell_type": "markdown",
   "id": "60b8ad26",
   "metadata": {},
   "source": [
    "### Add more node features using data from GEM"
   ]
  },
  {
   "attachments": {},
   "cell_type": "markdown",
   "id": "23323d41",
   "metadata": {},
   "source": [
    "### Create a _node features_ matrix"
   ]
  },
  {
   "cell_type": "code",
   "execution_count": null,
   "id": "30792ab6",
   "metadata": {},
   "outputs": [],
   "source": [
    "df = pd.DataFrame(index=list(G.nodes()), columns=['compartements', 'metabolites', 'num_of_mets'])\n",
    "\n",
    "for rxn in df.index:\n",
    "    if 'rev?' in rxn: rxn = rxn.split(\"?\")[1]\n",
    "    else: rxn = rxn\n",
    "\n",
    "    metabolites = []\n",
    "    for m in model.reactions.get_by_id(rxn).metabolites: metabolites.append(m.id)\n",
    "  \n",
    "    metabolites = \"|\".join(metabolites)\n",
    "    compartements = \"|\".join(list(model.reactions.get_by_id(rxn).compartments))\n",
    "\n",
    "    # compartements = list(model.reactions.get_by_id(rxn).compartments)\n",
    "    \n",
    "    num_of_mets = len(model.reactions.get_by_id(rxn).metabolites)\n",
    "    new_row = [compartements, metabolites, num_of_mets]\n",
    "\n",
    "    df.loc[rxn] = new_row\n",
    "\n",
    "df.head(3)"
   ]
  },
  {
   "cell_type": "code",
   "execution_count": null,
   "id": "76fa6d6b",
   "metadata": {},
   "outputs": [],
   "source": [
    "# LABEL ENCODING to every compartement and metabolite\n",
    "from sklearn.preprocessing import LabelEncoder\n",
    "\n",
    "def enc_for_every():\n",
    "    COBRA_METABOLITES = pd.DataFrame([m.id for m in model.metabolites])\n",
    "    COBRA_METABOLITES.rename(columns = {0:'id'}, inplace = True)\n",
    "    COBRA_METABOLITES['enc'] = LabelEncoder().fit_transform(COBRA_METABOLITES['id'])\n",
    "\n",
    "    COBRA_COMPARTEMETNS = pd.DataFrame(list(model.compartments.keys()))\n",
    "    COBRA_COMPARTEMETNS.rename(columns= {0:'id'}, inplace=True)\n",
    "    COBRA_COMPARTEMETNS['enc'] = LabelEncoder().fit_transform(COBRA_COMPARTEMETNS['id'])\n",
    "\n",
    "    for row in range(len(df)):\n",
    "\n",
    "        c = df.iloc[row]['compartements']\n",
    "        m = df.iloc[row]['metabolites']\n",
    "\n",
    "        try:\n",
    "            df.loc[df.index[row], 'compartements'] = ([dict(COBRA_COMPARTEMETNS.values).get(item, item) for item in c])\n",
    "            df.loc[df.index[row], 'metabolites'] = ([dict(COBRA_METABOLITES.values).get(item, item) for item in m])\n",
    "        except TypeError:\n",
    "            pass"
   ]
  },
  {
   "cell_type": "code",
   "execution_count": null,
   "id": "c4354d09",
   "metadata": {},
   "outputs": [],
   "source": [
    "# Encoding for c|m -> 0, ... \n",
    "df['compartements'] = LabelEncoder().fit_transform(df['compartements'])"
   ]
  },
  {
   "cell_type": "code",
   "execution_count": null,
   "id": "101f3d50",
   "metadata": {},
   "outputs": [],
   "source": [
    "for node in list(G.nodes()):\n",
    "    if 'rev?' in node: rxn = node.split(\"?\")[1]\n",
    "    else: rxn = node\n",
    "\n",
    "    nx.set_node_attributes(G, {node: {'compartements':df.loc[rxn]['compartements']}})\n",
    "    # nx.set_node_attributes(G, {node: {'metabolites':df.loc[rxn]['metabolites']}})\n",
    "    nx.set_node_attributes(G, {node: {'num_of_mets':df.loc[rxn]['num_of_mets']}})"
   ]
  },
  {
   "cell_type": "code",
   "execution_count": null,
   "id": "c3c60206",
   "metadata": {},
   "outputs": [],
   "source": [
    "from operator import itemgetter\n",
    "\n",
    "def orderDict(x: dict, desc=True):\n",
    "    return sorted(x.items(), key=itemgetter(1), reverse=desc)\n",
    "\n",
    "indg = orderDict(nx.in_degree_centrality(G))\n",
    "\n",
    "ccen = orderDict(nx.closeness_centrality(G))\n",
    "\n",
    "betcen = orderDict(nx.betweenness_centrality(G))\n",
    "\n",
    "pgrk = orderDict(nx.pagerank(G))\n",
    "\n",
    "hubs, autr = nx.hits(G)\n",
    "\n",
    "hubs = orderDict(hubs)\n",
    "autr = orderDict(autr)\n",
    "\n",
    "col_names = ['in-degree', 'closeness', 'betweness', 'page rank', 'autr', 'hubs']\n",
    "\n",
    "graphStats = pd.DataFrame(columns=col_names)\n",
    "\n",
    "graphStats['in-degree'] = [n for n, v in indg]\n",
    "graphStats['closeness'] = [n for n, v in ccen]\n",
    "graphStats['betweness'] = [n for n, v in betcen]\n",
    "graphStats['page rank'] = [n for n, v in pgrk]\n",
    "graphStats['autr'] = [n for n, v in autr]\n",
    "graphStats['hubs'] = [n for n, v in hubs]\n",
    "\n",
    "# print('Top:\\n')\n",
    "# display(df.head(10))\n",
    "# print('Bottom:\\n')\n",
    "# display(df.tail(10))\n"
   ]
  },
  {
   "attachments": {},
   "cell_type": "markdown",
   "id": "20e3bea1",
   "metadata": {},
   "source": [
    "## Node2Vec "
   ]
  },
  {
   "cell_type": "code",
   "execution_count": null,
   "id": "ce034259",
   "metadata": {},
   "outputs": [],
   "source": [
    "G_labels = nx.convert_node_labels_to_integers(G)\n",
    "\n",
    "from karateclub import Node2Vec\n",
    "\n",
    "\" Perform node embedding using Node2Vec \"\n",
    "N2vec_model = Node2Vec(walk_number=10, walk_length=80,p=0.9 ,q=0.1,dimensions=12)\n",
    "N2vec_model.fit(G_labels)\n",
    "N2Vec_embedding = N2vec_model.get_embedding()\n",
    "print('Embedding array shape (nodes x features):',N2Vec_embedding.shape )\n",
    "\n",
    "df_embedding = pd.DataFrame(index=list(G.nodes), data=N2Vec_embedding)\n",
    "df_embedding.head(3)"
   ]
  },
  {
   "attachments": {},
   "cell_type": "markdown",
   "id": "ec6c0e85",
   "metadata": {},
   "source": [
    "#### Clustering based on embeddings"
   ]
  },
  {
   "cell_type": "code",
   "execution_count": null,
   "id": "96e4c25d",
   "metadata": {},
   "outputs": [],
   "source": [
    "from sklearn.cluster import KMeans\n",
    "\n",
    "kmeans = KMeans(n_clusters=4, random_state=0).fit(df_embedding)\n",
    "\n",
    "results = pd.DataFrame(columns=['cluster'], index=df_embedding.index)\n",
    "results['cluster'] = kmeans.labels_\n",
    "results"
   ]
  },
  {
   "attachments": {},
   "cell_type": "markdown",
   "id": "ffaea5cd",
   "metadata": {},
   "source": [
    "## Networkx to Torch Geometric"
   ]
  },
  {
   "cell_type": "code",
   "execution_count": null,
   "id": "5395fc29",
   "metadata": {},
   "outputs": [],
   "source": [
    "import torch\n",
    "from torch_geometric.utils.convert import from_networkx\n",
    "\n",
    "device = 'cuda' if torch.cuda.is_available() else 'cpu'\n",
    "\n",
    "data = from_networkx(G, group_node_attrs=all, group_edge_attrs=all)\n",
    "print(data)\n",
    "data.num_nodes ,data.num_edges"
   ]
  },
  {
   "cell_type": "code",
   "execution_count": null,
   "id": "650b0b3a-7e2d-48ff-8407-3b84bbb81a81",
   "metadata": {},
   "outputs": [],
   "source": []
  }
 ],
 "metadata": {
  "kernelspec": {
   "display_name": "main-bio",
   "language": "python",
   "name": "python3"
  },
  "language_info": {
   "codemirror_mode": {
    "name": "ipython",
    "version": 3
   },
   "file_extension": ".py",
   "mimetype": "text/x-python",
   "name": "python",
   "nbconvert_exporter": "python",
   "pygments_lexer": "ipython3",
   "version": "3.9.10"
  },
  "vscode": {
   "interpreter": {
    "hash": "c6c04a7e252f45ffc2f7191e380805b6a5dd99aa68793d835f69a35c16ce4a30"
   }
  }
 },
 "nbformat": 4,
 "nbformat_minor": 5
}
