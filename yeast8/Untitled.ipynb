{
 "cells": [
  {
   "cell_type": "code",
   "execution_count": 1,
   "id": "4ae10cb1-6d19-47ef-98fd-0474841918ce",
   "metadata": {},
   "outputs": [],
   "source": [
    "import pandas as pd\n",
    "import numpy as np\n",
    "import networkx as nx\n",
    "import cobra\n",
    "import matplotlib.pyplot as plt\n",
    "\n",
    "import sys\n",
    "sys.path.append(\"../src/\")\n",
    "import GEMtoGRAPH as gg"
   ]
  },
  {
   "cell_type": "code",
   "execution_count": 2,
   "id": "181151a3-7cc4-4572-99ea-13b668dae70d",
   "metadata": {},
   "outputs": [
    {
     "data": {
      "text/plain": [
       "(300, 373)"
      ]
     },
     "execution_count": 2,
     "metadata": {},
     "output_type": "execute_result"
    }
   ],
   "source": [
    "model = cobra.io.load_json_model('redYeast_ST8943_fdp1.json')\n",
    "S = cobra.util.array.create_stoichiometric_matrix(model, array_type='DataFrame')\n",
    "S.shape"
   ]
  },
  {
   "attachments": {},
   "cell_type": "markdown",
   "id": "bf38acb2-5ee5-4661-abb7-e60f124d4be5",
   "metadata": {},
   "source": [
    "# MFG"
   ]
  },
  {
   "attachments": {},
   "cell_type": "markdown",
   "id": "b0887caf",
   "metadata": {},
   "source": [
    "#### Load TFA fluxes"
   ]
  },
  {
   "cell_type": "code",
   "execution_count": 3,
   "id": "54acba48",
   "metadata": {},
   "outputs": [
    {
     "name": "stdout",
     "output_type": "stream",
     "text": [
      "Zero flux reactions: 373\n",
      "TFA fluxes: 373\n"
     ]
    }
   ],
   "source": [
    "tfa = pd.read_csv('fluxes_for_graph.csv', index_col=0)\n",
    "tfa = tfa.head(1)\n",
    "\n",
    "zero_flux = [col for col in tfa.columns if (tfa[col] == 0).all()]\n",
    "\n",
    "print('Zero flux reactions:',len(zero_flux))\n",
    "\n",
    "tfa.drop(columns=zero_flux, inplace=True)\n",
    "print(\"TFA fluxes:\", tfa.shape[1])\n",
    "\n",
    "# For _reverse reactions we should change the sign of the flux to negative\n",
    "for col in tfa.columns:\n",
    "    if '_reverse' in col: tfa[col] = -tfa[col]\n",
    "\n",
    "\n",
    "tfa.rename(columns={col: col.split(\"_reverse_\")[0] for col in tfa.columns}, inplace=True)\n",
    "\n",
    "tfa_flux = tfa.iloc[0].values\n",
    "tfa_flux = pd.DataFrame(columns=['fluxes'], data=tfa_flux)\n",
    "tfa_flux.index = S.columns"
   ]
  },
  {
   "attachments": {},
   "cell_type": "markdown",
   "id": "61920d61",
   "metadata": {},
   "source": [
    "### Create Graph"
   ]
  },
  {
   "cell_type": "code",
   "execution_count": 4,
   "id": "bd8996a0-d873-404b-aa6a-112d49eb93d8",
   "metadata": {},
   "outputs": [
    {
     "name": "stdout",
     "output_type": "stream",
     "text": [
      "# nodes: 746 \n",
      "# edges: 6157\n"
     ]
    }
   ],
   "source": [
    "M, S_2m, G = gg.MFG(S, model, tfa_flux)"
   ]
  },
  {
   "cell_type": "code",
   "execution_count": 5,
   "id": "489dec3c-6707-434c-a0e4-593f78a1dd6e",
   "metadata": {},
   "outputs": [
    {
     "name": "stdout",
     "output_type": "stream",
     "text": [
      "# nodes: 373 \n",
      "# edges: 6157\n"
     ]
    }
   ],
   "source": [
    "# Remove isolated nodes from G\n",
    "isolated_nodes = list(nx.isolates(G))\n",
    "G.remove_nodes_from(isolated_nodes)\n",
    "\n",
    "print(\"# nodes:\", G.number_of_nodes(), \"\\n# edges:\", G.number_of_edges())"
   ]
  },
  {
   "cell_type": "markdown",
   "id": "5806c87c-843b-4eab-b8e1-ba546324007f",
   "metadata": {},
   "source": [
    "## Read ORACLE's data"
   ]
  },
  {
   "cell_type": "code",
   "execution_count": 6,
   "id": "44e52311-7ade-434c-bb56-66c04aa52019",
   "metadata": {},
   "outputs": [],
   "source": [
    "sigma = pd.read_csv('saturations.csv', index_col=0)\n",
    "gamma = pd.read_csv('gamma.csv', index_col=0)\n",
    "vmax = pd.read_csv('Vmax_matrix.csv', index_col=0)"
   ]
  },
  {
   "cell_type": "code",
   "execution_count": 7,
   "id": "ac98dcb7",
   "metadata": {},
   "outputs": [],
   "source": [
    "gamma = gamma.head(1)"
   ]
  },
  {
   "cell_type": "code",
   "execution_count": 8,
   "id": "ffe4c40d",
   "metadata": {},
   "outputs": [],
   "source": [
    "# get the reactions that are the reversible version\n",
    "rev_rxn = []\n",
    "for node in list(G.nodes()):\n",
    "    if node.split(\"?\")[0] == 'rev': rev_rxn.append(node.split(\"?\")[1])\n",
    "\n",
    "# rename the reactions of gamma; if it's the reversible one add rev? to the column name\n",
    "for col in gamma.columns:\n",
    "    if col in rev_rxn: gamma.rename(columns={col:'rev?'+col}, inplace=True)"
   ]
  },
  {
   "cell_type": "code",
   "execution_count": 9,
   "id": "42b19be5",
   "metadata": {},
   "outputs": [
    {
     "name": "stdout",
     "output_type": "stream",
     "text": [
      "In A but not in B: ['EX_lac__D_e', 'EX_mal__L_e', 'EX_akg_e', 'EX_2phetoh_e', 'EX_acald_e', 'EX_ac_e', 'EX_gam6p_e', 'EX_co2_e', 'EX_cit_e', 'EX_etoh_e', 'EX_fum_e', 'EX_gly_e', 'EX_gcald_e', 'EX_glx_e', 'EX_id3acald_e', 'EX_ala__L_e', 'EX_asn__L_e', 'EX_asp__L_e', 'EX_cys__L_e', 'EX_glu__L_e', 'EX_gln__L_e', 'EX_phe__L_e', 'EX_ser__L_e', 'EX_trp__L_e', 'EX_tyr__L_e', 'EX_oaa_e', 'EX_pacald_e', 'EX_pyr_e', 'EX_succ_e', 'EX_ind3eth_e', 'EX_h2o_e', 'EX_g6p_e', 'EX_g1p_e', 'EX_2pg_e', 'EX_pser__L_e', 'EX_ppi_e', 'EX_pep_e', 'EX_cbp_e', 'EX_6pgc_e', 'EX_3pg_e', 'EX_cmp_e', 'GROWTH', 'EX_ccm_e', 'EX_pca_e', 'rev?EX_nh4_e', 'rev?EX_glc__D_e', 'rev?EX_h_e', 'rev?EX_fe2_e', 'rev?EX_o2_e', 'rev?EX_pi_e', 'rev?EX_k_e', 'rev?EX_na1_e', 'rev?EX_so4_e', 'rev?EX_cl_e', 'rev?EX_cu2_e', 'rev?EX_mn2_e', 'rev?EX_zn2_e', 'rev?EX_mg2_e', 'rev?EX_ca2_e']\n",
      "\n",
      "In B but not in A: []\n"
     ]
    }
   ],
   "source": [
    "listA = list(G.nodes())\n",
    "listB = gamma.columns\n",
    "\n",
    "print('In A but not in B:', [item for item in listA if item not in listB])\n",
    "print()\n",
    "print('In B but not in A:', [item for item in listB if item not in listA])"
   ]
  },
  {
   "attachments": {},
   "cell_type": "markdown",
   "id": "4103336f",
   "metadata": {},
   "source": [
    "#### Add `gamma` values as Graph node features"
   ]
  },
  {
   "cell_type": "code",
   "execution_count": null,
   "id": "f5a3dae7",
   "metadata": {},
   "outputs": [],
   "source": [
    "for node in gamma.columns:\n",
    "    try:\n",
    "        G.nodes[node]['gamma'] =  gamma[node].values[0]\n",
    "    except KeyError:\n",
    "        pass"
   ]
  },
  {
   "cell_type": "code",
   "execution_count": null,
   "id": "9e11e032",
   "metadata": {},
   "outputs": [],
   "source": [
    "no_gamma_nodes = [node for node, data in G.nodes(data=True) if not data]\n",
    "\n",
    "for node in no_gamma_nodes: G.nodes[node]['gamma'] = np.nan"
   ]
  },
  {
   "attachments": {},
   "cell_type": "markdown",
   "id": "5f8e9bb6",
   "metadata": {},
   "source": [
    "## We have the `Networkx` Graph G"
   ]
  },
  {
   "cell_type": "code",
   "execution_count": null,
   "id": "b1120803",
   "metadata": {},
   "outputs": [],
   "source": [
    "print(G.number_of_nodes(), G.number_of_edges())"
   ]
  },
  {
   "cell_type": "code",
   "execution_count": null,
   "id": "43463e9b",
   "metadata": {},
   "outputs": [],
   "source": [
    "def plot_degree_dist(G):\n",
    "    degrees = [G.degree(n) for n in G.nodes()]\n",
    "    plt.hist(degrees, bins=25)\n",
    "    plt.title('Node degree Histogram')\n",
    "    plt.show()\n",
    "\n",
    "plot_degree_dist(G)"
   ]
  },
  {
   "cell_type": "code",
   "execution_count": null,
   "id": "0ec20486",
   "metadata": {},
   "outputs": [],
   "source": [
    "degree_centrality = nx.degree_centrality(G)\n",
    "sorted_degree_centrality = sorted(degree_centrality.items(), key=lambda x: x[1], reverse=True)\n",
    "sorted_degree_centrality[:10]"
   ]
  },
  {
   "cell_type": "code",
   "execution_count": null,
   "id": "c3c60206",
   "metadata": {},
   "outputs": [],
   "source": [
    "from operator import itemgetter\n",
    "\n",
    "def orderDict(x: dict, desc=True):\n",
    "    return sorted(x.items(), key=itemgetter(1), reverse=desc)\n",
    "\n",
    "indg = orderDict(nx.in_degree_centrality(G))\n",
    "\n",
    "ccen = orderDict(nx.closeness_centrality(G))\n",
    "\n",
    "betcen = orderDict(nx.betweenness_centrality(G))\n",
    "\n",
    "# g_single = nx.Graph(G.to_undirected())\n",
    "\n",
    "pgrk = orderDict(nx.pagerank(G))\n",
    "\n",
    "hubs, autr = nx.hits(G)\n",
    "\n",
    "hubs = orderDict(hubs)\n",
    "autr = orderDict(autr)\n",
    "\n",
    "import pandas as pd\n",
    "\n",
    "col_names = ['in-degree', 'closeness', 'betweness', 'page rank', 'autr', 'hubs']\n",
    "\n",
    "df = pd.DataFrame(columns=col_names)\n",
    "\n",
    "df['in-degree'] = [n for n, v in indg]\n",
    "df['closeness'] = [n for n, v in ccen]\n",
    "df['betweness'] = [n for n, v in betcen]\n",
    "df['page rank'] = [n for n, v in pgrk]\n",
    "df['autr'] = [n for n, v in autr]\n",
    "df['hubs'] = [n for n, v in hubs]\n",
    "\n",
    "print('Top:\\n')\n",
    "display(df.head(10))\n",
    "print('Bottom:\\n')\n",
    "display(df.tail(10))\n"
   ]
  },
  {
   "attachments": {},
   "cell_type": "markdown",
   "id": "20e3bea1",
   "metadata": {},
   "source": [
    "## Node2Vec "
   ]
  },
  {
   "cell_type": "code",
   "execution_count": null,
   "id": "ce034259",
   "metadata": {},
   "outputs": [],
   "source": [
    "G_labels = nx.convert_node_labels_to_integers(G)"
   ]
  },
  {
   "cell_type": "code",
   "execution_count": null,
   "metadata": {},
   "outputs": [],
   "source": [
    "from karateclub import Node2Vec\n",
    "\n",
    "\" Perform node embedding using Node2Vec \"\n",
    "N2vec_model = Node2Vec(walk_number=10, walk_length=80,p=0.9 ,q=0.1,dimensions=12)\n",
    "N2vec_model.fit(G_labels)\n",
    "N2Vec_embedding = N2vec_model.get_embedding()\n",
    "print('Embedding array shape (nodes x features):',N2Vec_embedding.shape )"
   ]
  },
  {
   "cell_type": "code",
   "execution_count": null,
   "id": "ce24f547",
   "metadata": {},
   "outputs": [],
   "source": [
    "pd.DataFrame(index=list(G.nodes), data=N2Vec_embedding)"
   ]
  },
  {
   "attachments": {},
   "cell_type": "markdown",
   "id": "ffaea5cd",
   "metadata": {},
   "source": [
    "## Networkx to Torch Geometric"
   ]
  },
  {
   "cell_type": "code",
   "execution_count": null,
   "id": "5395fc29",
   "metadata": {},
   "outputs": [],
   "source": [
    "import torch\n",
    "from torch_geometric.utils.convert import from_networkx\n",
    "\n",
    "device = 'cuda' if torch.cuda.is_available() else 'cpu'\n",
    "\n",
    "pyg_graph = from_networkx(G, group_node_attrs=all, group_edge_attrs=all)\n",
    "print(pyg_graph)\n",
    "pyg_graph.num_nodes ,pyg_graph.num_edges"
   ]
  },
  {
   "cell_type": "code",
   "execution_count": null,
   "id": "66e375a3",
   "metadata": {},
   "outputs": [],
   "source": []
  },
  {
   "cell_type": "code",
   "execution_count": null,
   "metadata": {},
   "outputs": [],
   "source": []
  },
  {
   "cell_type": "code",
   "execution_count": null,
   "metadata": {},
   "outputs": [],
   "source": []
  },
  {
   "cell_type": "code",
   "execution_count": null,
   "metadata": {},
   "outputs": [],
   "source": []
  },
  {
   "cell_type": "code",
   "execution_count": null,
   "id": "f7679721-7a56-4d1d-b81c-9d922d22e6ce",
   "metadata": {},
   "outputs": [],
   "source": [
    "sigma.head(1)"
   ]
  },
  {
   "cell_type": "code",
   "execution_count": null,
   "id": "440a68d2-5957-47f0-915c-d47fd88d041b",
   "metadata": {},
   "outputs": [],
   "source": [
    "tfa.head(1)"
   ]
  },
  {
   "cell_type": "code",
   "execution_count": null,
   "id": "a07c155f-a8d8-4ee1-8d9f-0a6bec477a92",
   "metadata": {},
   "outputs": [],
   "source": [
    "rxn = []\n",
    "for col in sigma.columns:\n",
    "    r = col.split(\"_\")[3:]\n",
    "    \n",
    "    rxn.append(\"_\".join(r))"
   ]
  },
  {
   "cell_type": "code",
   "execution_count": null,
   "id": "65a60bad-2b2e-46ee-bb0c-d42ada6d53bd",
   "metadata": {},
   "outputs": [],
   "source": [
    "G.number_of_nodes()"
   ]
  },
  {
   "cell_type": "code",
   "execution_count": null,
   "id": "27f379bd-cf32-4360-9b05-4262fffeda4b",
   "metadata": {},
   "outputs": [],
   "source": [
    "d = tfa.head(1)\n",
    "\n",
    "non_zero_cols = d.astype(bool).sum(axis=0)\n",
    "\n",
    "d.loc[:, non_zero_cols != 0]"
   ]
  },
  {
   "cell_type": "code",
   "execution_count": null,
   "id": "29e5db91-79cd-456c-8c30-efc054be8416",
   "metadata": {},
   "outputs": [],
   "source": [
    "rxn_tfa = tfa.loc[:, non_zero_cols != 0].columns"
   ]
  },
  {
   "cell_type": "code",
   "execution_count": null,
   "id": "fe4ecaa9-b148-42bb-8c5d-d044c1943f64",
   "metadata": {},
   "outputs": [],
   "source": [
    "(set(rxn_tfa.values) - set(np.unique(rxn)))"
   ]
  },
  {
   "cell_type": "code",
   "execution_count": null,
   "id": "3f025a9b-51fa-4049-8b5a-f87b31380dc8",
   "metadata": {},
   "outputs": [],
   "source": []
  },
  {
   "cell_type": "code",
   "execution_count": null,
   "id": "1b4d63a0-b718-4018-a59f-6c97264fd2d2",
   "metadata": {},
   "outputs": [],
   "source": []
  },
  {
   "cell_type": "code",
   "execution_count": null,
   "id": "1fdefdf9-9ebd-41cc-aa61-6434e626d307",
   "metadata": {},
   "outputs": [],
   "source": [
    "d = gamma.head(1)\n",
    "\n",
    "non_zero_cols = d.astype(bool).sum(axis=0)\n",
    "\n",
    "d.loc[:, non_zero_cols != 0]"
   ]
  },
  {
   "cell_type": "code",
   "execution_count": null,
   "id": "daa68f0d-1a13-4694-8989-e28d5639628a",
   "metadata": {
    "tags": []
   },
   "outputs": [],
   "source": [
    "vmax"
   ]
  },
  {
   "cell_type": "code",
   "execution_count": null,
   "id": "650b0b3a-7e2d-48ff-8407-3b84bbb81a81",
   "metadata": {},
   "outputs": [],
   "source": []
  }
 ],
 "metadata": {
  "kernelspec": {
   "display_name": "main-bio",
   "language": "python",
   "name": "python3"
  },
  "language_info": {
   "codemirror_mode": {
    "name": "ipython",
    "version": 3
   },
   "file_extension": ".py",
   "mimetype": "text/x-python",
   "name": "python",
   "nbconvert_exporter": "python",
   "pygments_lexer": "ipython3",
   "version": "3.9.10"
  },
  "vscode": {
   "interpreter": {
    "hash": "c6c04a7e252f45ffc2f7191e380805b6a5dd99aa68793d835f69a35c16ce4a30"
   }
  }
 },
 "nbformat": 4,
 "nbformat_minor": 5
}
