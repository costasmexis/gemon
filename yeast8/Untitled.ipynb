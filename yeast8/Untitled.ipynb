{
 "cells": [
  {
   "cell_type": "code",
   "execution_count": 1,
   "id": "4ae10cb1-6d19-47ef-98fd-0474841918ce",
   "metadata": {},
   "outputs": [],
   "source": [
    "import pandas as pd\n",
    "import numpy as np\n",
    "import networkx as nx\n",
    "import cobra\n",
    "import matplotlib.pyplot as plt\n",
    "\n",
    "import sys\n",
    "sys.path.append(\"../src/\")\n",
    "import GEMtoGRAPH as gg"
   ]
  },
  {
   "cell_type": "code",
   "execution_count": 2,
   "id": "181151a3-7cc4-4572-99ea-13b668dae70d",
   "metadata": {},
   "outputs": [],
   "source": [
    "model = cobra.io.load_json_model('redYeast_ST8943_fdp1.json')\n",
    "S = cobra.util.array.create_stoichiometric_matrix(model, array_type='DataFrame')"
   ]
  },
  {
   "cell_type": "code",
   "execution_count": 3,
   "id": "2be839d2-0641-4892-98b0-447bd17c66a3",
   "metadata": {},
   "outputs": [
    {
     "data": {
      "text/plain": [
       "(300, 373)"
      ]
     },
     "execution_count": 3,
     "metadata": {},
     "output_type": "execute_result"
    }
   ],
   "source": [
    "S.shape"
   ]
  },
  {
   "attachments": {},
   "cell_type": "markdown",
   "id": "bf38acb2-5ee5-4661-abb7-e60f124d4be5",
   "metadata": {},
   "source": [
    "# MFG"
   ]
  },
  {
   "attachments": {},
   "cell_type": "markdown",
   "id": "b0887caf",
   "metadata": {},
   "source": [
    "#### Load TFA fluxes"
   ]
  },
  {
   "cell_type": "code",
   "execution_count": 37,
   "id": "54acba48",
   "metadata": {},
   "outputs": [
    {
     "name": "stdout",
     "output_type": "stream",
     "text": [
      "Zero flux reactions: 373\n",
      "TFA fluxes: 373\n"
     ]
    }
   ],
   "source": [
    "tfa = pd.read_csv('fluxes_for_graph.csv', index_col=0)\n",
    "tfa = tfa.head(1)\n",
    "\n",
    "zero_flux = [col for col in tfa.columns if (tfa[col] == 0).all()]\n",
    "\n",
    "print('Zero flux reactions:',len(zero_flux))\n",
    "\n",
    "tfa.drop(columns=zero_flux, inplace=True)\n",
    "print(\"TFA fluxes:\", tfa.shape[1])\n",
    "\n",
    "tfa.rename(columns={col: col.split(\"_reverse_\")[0] for col in tfa.columns}, inplace=True)\n",
    "\n",
    "tfa_flux = tfa.iloc[0].values\n",
    "tfa_flux = pd.DataFrame(columns=['fluxes'], data=tfa_flux)"
   ]
  },
  {
   "attachments": {},
   "cell_type": "markdown",
   "id": "61920d61",
   "metadata": {},
   "source": [
    "### Create Graph"
   ]
  },
  {
   "cell_type": "code",
   "execution_count": 38,
   "id": "bd8996a0-d873-404b-aa6a-112d49eb93d8",
   "metadata": {},
   "outputs": [
    {
     "name": "stdout",
     "output_type": "stream",
     "text": [
      "# nodes: 746 \n",
      "# edges: 5495\n"
     ]
    }
   ],
   "source": [
    "M, G = gg.MFG(S, model, tfa_flux)"
   ]
  },
  {
   "cell_type": "code",
   "execution_count": 39,
   "id": "489dec3c-6707-434c-a0e4-593f78a1dd6e",
   "metadata": {},
   "outputs": [
    {
     "name": "stdout",
     "output_type": "stream",
     "text": [
      "# nodes: 324 \n",
      "# edges: 5495\n"
     ]
    }
   ],
   "source": [
    "# Remove isolated nodes from G\n",
    "isolated_nodes = list(nx.isolates(G))\n",
    "G.remove_nodes_from(isolated_nodes)\n",
    "\n",
    "print(\"# nodes:\", G.number_of_nodes(), \"\\n# edges:\", G.number_of_edges())"
   ]
  },
  {
   "cell_type": "markdown",
   "id": "5806c87c-843b-4eab-b8e1-ba546324007f",
   "metadata": {},
   "source": [
    "## Read ORACLE's data"
   ]
  },
  {
   "cell_type": "code",
   "execution_count": 40,
   "id": "44e52311-7ade-434c-bb56-66c04aa52019",
   "metadata": {},
   "outputs": [],
   "source": [
    "sigma = pd.read_csv('saturations.csv', index_col=0)\n",
    "gamma = pd.read_csv('gamma.csv', index_col=0)\n",
    "vmax = pd.read_csv('Vmax_matrix.csv', index_col=0)"
   ]
  },
  {
   "cell_type": "code",
   "execution_count": 69,
   "id": "ac98dcb7",
   "metadata": {},
   "outputs": [],
   "source": [
    "gamma = gamma.head(1)"
   ]
  },
  {
   "cell_type": "code",
   "execution_count": 70,
   "id": "42b19be5",
   "metadata": {},
   "outputs": [
    {
     "name": "stdout",
     "output_type": "stream",
     "text": [
      "In A but not in B: ['EX_akg_e', 'EX_ac_e', 'EX_co2_e', 'EX_etoh_e', 'EX_glx_e', 'EX_h_e', 'EX_id3acald_e', 'EX_oaa_e', 'EX_pacald_e', 'EX_na1_e', 'EX_ind3eth_e', 'GROWTH', 'EX_ccm_e', 'EX_pca_e']\n",
      "\n",
      "In B but not in A: ['2PHETOHt', 'DHPTtm', 'ETOHtm', 'GCALDt']\n"
     ]
    }
   ],
   "source": [
    "listA = list(G.nodes())\n",
    "listB = gamma.columns\n",
    "\n",
    "print('In A but not in B:', [item for item in listA if item not in listB])\n",
    "print()\n",
    "print('In B but not in A:', [item for item in listB if item not in listA])"
   ]
  },
  {
   "attachments": {},
   "cell_type": "markdown",
   "id": "4103336f",
   "metadata": {},
   "source": [
    "#### Add `gamma` values as Graph node features"
   ]
  },
  {
   "cell_type": "code",
   "execution_count": 87,
   "id": "f5a3dae7",
   "metadata": {},
   "outputs": [],
   "source": [
    "for node in gamma.columns:\n",
    "    try:\n",
    "        G.nodes[node]['gamma'] =  gamma[node].values[0]\n",
    "    except KeyError:\n",
    "        pass"
   ]
  },
  {
   "attachments": {},
   "cell_type": "markdown",
   "id": "20e3bea1",
   "metadata": {},
   "source": [
    "## Node2Vec "
   ]
  },
  {
   "cell_type": "code",
   "execution_count": 97,
   "id": "ce034259",
   "metadata": {},
   "outputs": [],
   "source": [
    "G_labels = nx.convert_node_labels_to_integers(G)"
   ]
  },
  {
   "cell_type": "code",
   "execution_count": 107,
   "metadata": {},
   "outputs": [
    {
     "name": "stdout",
     "output_type": "stream",
     "text": [
      "Embedding array shape (nodes x features): (324, 12)\n"
     ]
    }
   ],
   "source": [
    "from karateclub import Node2Vec\n",
    "\n",
    "\" Perform node embedding using Node2Vec \"\n",
    "N2vec_model = Node2Vec(walk_number=10, walk_length=80,p=0.9 ,q=0.1,dimensions=12)\n",
    "N2vec_model.fit(G_labels)\n",
    "N2Vec_embedding = N2vec_model.get_embedding()\n",
    "print('Embedding array shape (nodes x features):',N2Vec_embedding.shape )"
   ]
  },
  {
   "cell_type": "code",
   "execution_count": 114,
   "id": "ce24f547",
   "metadata": {},
   "outputs": [
    {
     "data": {
      "text/html": [
       "<div>\n",
       "<style scoped>\n",
       "    .dataframe tbody tr th:only-of-type {\n",
       "        vertical-align: middle;\n",
       "    }\n",
       "\n",
       "    .dataframe tbody tr th {\n",
       "        vertical-align: top;\n",
       "    }\n",
       "\n",
       "    .dataframe thead th {\n",
       "        text-align: right;\n",
       "    }\n",
       "</style>\n",
       "<table border=\"1\" class=\"dataframe\">\n",
       "  <thead>\n",
       "    <tr style=\"text-align: right;\">\n",
       "      <th></th>\n",
       "      <th>0</th>\n",
       "      <th>1</th>\n",
       "      <th>2</th>\n",
       "      <th>3</th>\n",
       "      <th>4</th>\n",
       "      <th>5</th>\n",
       "      <th>6</th>\n",
       "      <th>7</th>\n",
       "      <th>8</th>\n",
       "      <th>9</th>\n",
       "      <th>10</th>\n",
       "      <th>11</th>\n",
       "    </tr>\n",
       "  </thead>\n",
       "  <tbody>\n",
       "    <tr>\n",
       "      <th>D_LACDcm</th>\n",
       "      <td>0.152673</td>\n",
       "      <td>-1.582578</td>\n",
       "      <td>0.171431</td>\n",
       "      <td>0.870529</td>\n",
       "      <td>0.084798</td>\n",
       "      <td>-1.121653</td>\n",
       "      <td>0.199604</td>\n",
       "      <td>0.360031</td>\n",
       "      <td>1.975400</td>\n",
       "      <td>-0.159981</td>\n",
       "      <td>0.348107</td>\n",
       "      <td>-1.209086</td>\n",
       "    </tr>\n",
       "    <tr>\n",
       "      <th>D_LACDm</th>\n",
       "      <td>2.901061</td>\n",
       "      <td>-1.260872</td>\n",
       "      <td>2.773383</td>\n",
       "      <td>0.073585</td>\n",
       "      <td>0.103813</td>\n",
       "      <td>-0.527987</td>\n",
       "      <td>0.763400</td>\n",
       "      <td>-0.236138</td>\n",
       "      <td>1.266611</td>\n",
       "      <td>-0.193936</td>\n",
       "      <td>1.038656</td>\n",
       "      <td>-1.285063</td>\n",
       "    </tr>\n",
       "    <tr>\n",
       "      <th>L_LACD2cm</th>\n",
       "      <td>0.499322</td>\n",
       "      <td>-1.201463</td>\n",
       "      <td>0.609645</td>\n",
       "      <td>1.065481</td>\n",
       "      <td>0.501300</td>\n",
       "      <td>-1.012808</td>\n",
       "      <td>0.420052</td>\n",
       "      <td>0.004838</td>\n",
       "      <td>1.982200</td>\n",
       "      <td>0.609042</td>\n",
       "      <td>0.079180</td>\n",
       "      <td>-1.177679</td>\n",
       "    </tr>\n",
       "    <tr>\n",
       "      <th>AATA</th>\n",
       "      <td>0.887076</td>\n",
       "      <td>0.906228</td>\n",
       "      <td>-0.064284</td>\n",
       "      <td>1.684413</td>\n",
       "      <td>-0.117390</td>\n",
       "      <td>0.243749</td>\n",
       "      <td>-3.344004</td>\n",
       "      <td>0.178422</td>\n",
       "      <td>1.684238</td>\n",
       "      <td>2.139032</td>\n",
       "      <td>-2.921769</td>\n",
       "      <td>0.477364</td>\n",
       "    </tr>\n",
       "    <tr>\n",
       "      <th>DDPAm</th>\n",
       "      <td>-0.189950</td>\n",
       "      <td>-1.867302</td>\n",
       "      <td>1.486501</td>\n",
       "      <td>0.666555</td>\n",
       "      <td>0.499302</td>\n",
       "      <td>-0.132651</td>\n",
       "      <td>1.463656</td>\n",
       "      <td>0.710021</td>\n",
       "      <td>1.161970</td>\n",
       "      <td>1.168907</td>\n",
       "      <td>-1.802099</td>\n",
       "      <td>-1.624686</td>\n",
       "    </tr>\n",
       "    <tr>\n",
       "      <th>...</th>\n",
       "      <td>...</td>\n",
       "      <td>...</td>\n",
       "      <td>...</td>\n",
       "      <td>...</td>\n",
       "      <td>...</td>\n",
       "      <td>...</td>\n",
       "      <td>...</td>\n",
       "      <td>...</td>\n",
       "      <td>...</td>\n",
       "      <td>...</td>\n",
       "      <td>...</td>\n",
       "      <td>...</td>\n",
       "    </tr>\n",
       "    <tr>\n",
       "      <th>CaCatA</th>\n",
       "      <td>0.129344</td>\n",
       "      <td>0.237201</td>\n",
       "      <td>0.101826</td>\n",
       "      <td>-0.032090</td>\n",
       "      <td>-0.072518</td>\n",
       "      <td>0.226322</td>\n",
       "      <td>0.100276</td>\n",
       "      <td>0.088891</td>\n",
       "      <td>0.507237</td>\n",
       "      <td>0.045725</td>\n",
       "      <td>-0.159921</td>\n",
       "      <td>-0.114528</td>\n",
       "    </tr>\n",
       "    <tr>\n",
       "      <th>ccm2tp</th>\n",
       "      <td>0.164597</td>\n",
       "      <td>0.139785</td>\n",
       "      <td>0.102026</td>\n",
       "      <td>-0.026981</td>\n",
       "      <td>-0.299533</td>\n",
       "      <td>0.318383</td>\n",
       "      <td>0.154979</td>\n",
       "      <td>0.165683</td>\n",
       "      <td>0.621883</td>\n",
       "      <td>-0.041730</td>\n",
       "      <td>-0.272013</td>\n",
       "      <td>-0.216990</td>\n",
       "    </tr>\n",
       "    <tr>\n",
       "      <th>pca2tp</th>\n",
       "      <td>0.050759</td>\n",
       "      <td>0.100302</td>\n",
       "      <td>0.148977</td>\n",
       "      <td>-0.025947</td>\n",
       "      <td>-0.027465</td>\n",
       "      <td>0.028529</td>\n",
       "      <td>0.116237</td>\n",
       "      <td>0.125884</td>\n",
       "      <td>0.160650</td>\n",
       "      <td>0.103817</td>\n",
       "      <td>-0.092996</td>\n",
       "      <td>-0.095831</td>\n",
       "    </tr>\n",
       "    <tr>\n",
       "      <th>EX_ccm_e</th>\n",
       "      <td>0.523369</td>\n",
       "      <td>-0.028051</td>\n",
       "      <td>0.076301</td>\n",
       "      <td>0.480511</td>\n",
       "      <td>-2.649509</td>\n",
       "      <td>3.209574</td>\n",
       "      <td>2.601909</td>\n",
       "      <td>-1.450254</td>\n",
       "      <td>2.772089</td>\n",
       "      <td>-0.978717</td>\n",
       "      <td>-1.154149</td>\n",
       "      <td>-1.873556</td>\n",
       "    </tr>\n",
       "    <tr>\n",
       "      <th>EX_pca_e</th>\n",
       "      <td>1.403737</td>\n",
       "      <td>1.234676</td>\n",
       "      <td>0.319899</td>\n",
       "      <td>-1.945330</td>\n",
       "      <td>-0.355903</td>\n",
       "      <td>-1.633380</td>\n",
       "      <td>2.970794</td>\n",
       "      <td>1.682214</td>\n",
       "      <td>-0.165556</td>\n",
       "      <td>-0.086763</td>\n",
       "      <td>-0.527341</td>\n",
       "      <td>-0.670667</td>\n",
       "    </tr>\n",
       "  </tbody>\n",
       "</table>\n",
       "<p>324 rows × 12 columns</p>\n",
       "</div>"
      ],
      "text/plain": [
       "                 0         1         2         3         4         5   \\\n",
       "D_LACDcm   0.152673 -1.582578  0.171431  0.870529  0.084798 -1.121653   \n",
       "D_LACDm    2.901061 -1.260872  2.773383  0.073585  0.103813 -0.527987   \n",
       "L_LACD2cm  0.499322 -1.201463  0.609645  1.065481  0.501300 -1.012808   \n",
       "AATA       0.887076  0.906228 -0.064284  1.684413 -0.117390  0.243749   \n",
       "DDPAm     -0.189950 -1.867302  1.486501  0.666555  0.499302 -0.132651   \n",
       "...             ...       ...       ...       ...       ...       ...   \n",
       "CaCatA     0.129344  0.237201  0.101826 -0.032090 -0.072518  0.226322   \n",
       "ccm2tp     0.164597  0.139785  0.102026 -0.026981 -0.299533  0.318383   \n",
       "pca2tp     0.050759  0.100302  0.148977 -0.025947 -0.027465  0.028529   \n",
       "EX_ccm_e   0.523369 -0.028051  0.076301  0.480511 -2.649509  3.209574   \n",
       "EX_pca_e   1.403737  1.234676  0.319899 -1.945330 -0.355903 -1.633380   \n",
       "\n",
       "                 6         7         8         9         10        11  \n",
       "D_LACDcm   0.199604  0.360031  1.975400 -0.159981  0.348107 -1.209086  \n",
       "D_LACDm    0.763400 -0.236138  1.266611 -0.193936  1.038656 -1.285063  \n",
       "L_LACD2cm  0.420052  0.004838  1.982200  0.609042  0.079180 -1.177679  \n",
       "AATA      -3.344004  0.178422  1.684238  2.139032 -2.921769  0.477364  \n",
       "DDPAm      1.463656  0.710021  1.161970  1.168907 -1.802099 -1.624686  \n",
       "...             ...       ...       ...       ...       ...       ...  \n",
       "CaCatA     0.100276  0.088891  0.507237  0.045725 -0.159921 -0.114528  \n",
       "ccm2tp     0.154979  0.165683  0.621883 -0.041730 -0.272013 -0.216990  \n",
       "pca2tp     0.116237  0.125884  0.160650  0.103817 -0.092996 -0.095831  \n",
       "EX_ccm_e   2.601909 -1.450254  2.772089 -0.978717 -1.154149 -1.873556  \n",
       "EX_pca_e   2.970794  1.682214 -0.165556 -0.086763 -0.527341 -0.670667  \n",
       "\n",
       "[324 rows x 12 columns]"
      ]
     },
     "execution_count": 114,
     "metadata": {},
     "output_type": "execute_result"
    }
   ],
   "source": [
    "pd.DataFrame(index=list(G.nodes), data=N2Vec_embedding)"
   ]
  },
  {
   "cell_type": "code",
   "execution_count": null,
   "id": "ffaea5cd",
   "metadata": {},
   "outputs": [],
   "source": []
  },
  {
   "cell_type": "code",
   "execution_count": null,
   "id": "5395fc29",
   "metadata": {},
   "outputs": [],
   "source": []
  },
  {
   "cell_type": "code",
   "execution_count": null,
   "id": "3141cd09",
   "metadata": {},
   "outputs": [],
   "source": []
  },
  {
   "cell_type": "code",
   "execution_count": null,
   "metadata": {},
   "outputs": [],
   "source": []
  },
  {
   "cell_type": "code",
   "execution_count": null,
   "metadata": {},
   "outputs": [],
   "source": []
  },
  {
   "cell_type": "code",
   "execution_count": null,
   "id": "66e375a3",
   "metadata": {},
   "outputs": [],
   "source": []
  },
  {
   "cell_type": "code",
   "execution_count": null,
   "metadata": {},
   "outputs": [],
   "source": []
  },
  {
   "cell_type": "code",
   "execution_count": null,
   "metadata": {},
   "outputs": [],
   "source": []
  },
  {
   "cell_type": "code",
   "execution_count": null,
   "metadata": {},
   "outputs": [],
   "source": []
  },
  {
   "cell_type": "code",
   "execution_count": null,
   "metadata": {},
   "outputs": [],
   "source": []
  },
  {
   "cell_type": "code",
   "execution_count": null,
   "id": "e5f652ba",
   "metadata": {},
   "outputs": [],
   "source": []
  },
  {
   "cell_type": "code",
   "execution_count": null,
   "id": "a062f9cf-e5ea-4ad5-ba1a-19c842773985",
   "metadata": {},
   "outputs": [],
   "source": [
    "df = pd.concat([sigma, gamma, vmax, tfa], axis=1)\n",
    "df.head(1)"
   ]
  },
  {
   "cell_type": "code",
   "execution_count": null,
   "id": "f7679721-7a56-4d1d-b81c-9d922d22e6ce",
   "metadata": {},
   "outputs": [],
   "source": [
    "sigma.head(1)"
   ]
  },
  {
   "cell_type": "code",
   "execution_count": null,
   "id": "440a68d2-5957-47f0-915c-d47fd88d041b",
   "metadata": {},
   "outputs": [],
   "source": [
    "tfa.head(1)"
   ]
  },
  {
   "cell_type": "code",
   "execution_count": null,
   "id": "a07c155f-a8d8-4ee1-8d9f-0a6bec477a92",
   "metadata": {},
   "outputs": [],
   "source": [
    "rxn = []\n",
    "for col in sigma.columns:\n",
    "    r = col.split(\"_\")[3:]\n",
    "    \n",
    "    rxn.append(\"_\".join(r))"
   ]
  },
  {
   "cell_type": "code",
   "execution_count": null,
   "id": "65a60bad-2b2e-46ee-bb0c-d42ada6d53bd",
   "metadata": {},
   "outputs": [],
   "source": [
    "G.number_of_nodes()"
   ]
  },
  {
   "cell_type": "code",
   "execution_count": null,
   "id": "27f379bd-cf32-4360-9b05-4262fffeda4b",
   "metadata": {},
   "outputs": [],
   "source": [
    "d = tfa.head(1)\n",
    "\n",
    "non_zero_cols = d.astype(bool).sum(axis=0)\n",
    "\n",
    "d.loc[:, non_zero_cols != 0]"
   ]
  },
  {
   "cell_type": "code",
   "execution_count": null,
   "id": "29e5db91-79cd-456c-8c30-efc054be8416",
   "metadata": {},
   "outputs": [],
   "source": [
    "rxn_tfa = tfa.loc[:, non_zero_cols != 0].columns"
   ]
  },
  {
   "cell_type": "code",
   "execution_count": null,
   "id": "fe4ecaa9-b148-42bb-8c5d-d044c1943f64",
   "metadata": {},
   "outputs": [],
   "source": [
    "(set(rxn_tfa.values) - set(np.unique(rxn)))"
   ]
  },
  {
   "cell_type": "code",
   "execution_count": null,
   "id": "3f025a9b-51fa-4049-8b5a-f87b31380dc8",
   "metadata": {},
   "outputs": [],
   "source": []
  },
  {
   "cell_type": "code",
   "execution_count": null,
   "id": "1b4d63a0-b718-4018-a59f-6c97264fd2d2",
   "metadata": {},
   "outputs": [],
   "source": []
  },
  {
   "cell_type": "code",
   "execution_count": null,
   "id": "1fdefdf9-9ebd-41cc-aa61-6434e626d307",
   "metadata": {},
   "outputs": [],
   "source": [
    "d = gamma.head(1)\n",
    "\n",
    "non_zero_cols = d.astype(bool).sum(axis=0)\n",
    "\n",
    "d.loc[:, non_zero_cols != 0]"
   ]
  },
  {
   "cell_type": "code",
   "execution_count": null,
   "id": "daa68f0d-1a13-4694-8989-e28d5639628a",
   "metadata": {
    "tags": []
   },
   "outputs": [],
   "source": [
    "vmax"
   ]
  },
  {
   "cell_type": "code",
   "execution_count": null,
   "id": "650b0b3a-7e2d-48ff-8407-3b84bbb81a81",
   "metadata": {},
   "outputs": [],
   "source": []
  }
 ],
 "metadata": {
  "kernelspec": {
   "display_name": "main-bio",
   "language": "python",
   "name": "python3"
  },
  "language_info": {
   "codemirror_mode": {
    "name": "ipython",
    "version": 3
   },
   "file_extension": ".py",
   "mimetype": "text/x-python",
   "name": "python",
   "nbconvert_exporter": "python",
   "pygments_lexer": "ipython3",
   "version": "3.9.10"
  },
  "vscode": {
   "interpreter": {
    "hash": "c6c04a7e252f45ffc2f7191e380805b6a5dd99aa68793d835f69a35c16ce4a30"
   }
  }
 },
 "nbformat": 4,
 "nbformat_minor": 5
}
