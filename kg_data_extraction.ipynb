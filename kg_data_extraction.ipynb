{
 "cells": [
  {
   "cell_type": "code",
   "execution_count": 27,
   "metadata": {},
   "outputs": [],
   "source": [
    "import pandas as pd\n",
    "import cobra\n",
    "# pd.set_option('display.max_rows', None)\n",
    "# pd.set_option('display.max_columns', None)\n",
    "\n",
    "# Load GEM\n",
    "model = cobra.io.load_model('textbook')\n",
    "\n",
    "# Get stoichiometric matrix from GEM\n",
    "S = cobra.util.array.create_stoichiometric_matrix(model, array_type='DataFrame')"
   ]
  },
  {
   "cell_type": "code",
   "execution_count": 28,
   "metadata": {},
   "outputs": [],
   "source": [
    "# Get metabolites and reactions list from GEM\n",
    "\n",
    "METABOLITES = pd.DataFrame()\n",
    "METABOLITES['rdf:label'] = [m.id for m in model.metabolites]\n",
    "\n",
    "REACTIONS = pd.DataFrame()\n",
    "REACTIONS['rdf:label'] = [r.id for r in model.reactions]\n",
    "REACTIONS['rdf:lower_bound'] = [r.lower_bound for r in model.reactions]\n",
    "REACTIONS['rdf:upper_bound'] = [r.upper_bound for r in model.reactions]"
   ]
  },
  {
   "cell_type": "code",
   "execution_count": 29,
   "metadata": {},
   "outputs": [],
   "source": [
    "# Get pairs of reaction/metabolite\n",
    "PAIRS = pd.DataFrame()\n",
    "\n",
    "for col in S.columns:\n",
    "    for row in S.index:\n",
    "        if S[col].loc[row]!=0: \n",
    "            pair = str(col) + \"?\" + str(row)\n",
    "            has_metab = row\n",
    "            has_reac = col\n",
    "\n",
    "            stoic = 999\n",
    "            pair_row = {\"Name\": pair, \"has_metab\": has_metab, \"has_reac\": has_reac, \"has_stoichiometry\":stoic}\n",
    "                        \n",
    "            PAIRS = PAIRS.append(pair_row, ignore_index=True)\n",
    "\n",
    "for row in range(PAIRS.shape[0]):\n",
    "    m = PAIRS['has_metab'].iloc[row]\n",
    "    r = PAIRS['has_reac'].iloc[row]\n",
    "    \n",
    "    met_in_r = model.reactions.get_by_id(r).metabolites\n",
    "\n",
    "    for met in met_in_r.keys():\n",
    "        if str(met) == str(m): \n",
    "            PAIRS.loc[row, 'has_stoichiometry'] = met_in_r[met]"
   ]
  },
  {
   "cell_type": "code",
   "execution_count": 30,
   "metadata": {},
   "outputs": [],
   "source": [
    "# save to csv\n",
    "METABOLITES.to_csv('metabolites.csv')\n",
    "REACTIONS.to_csv('reactions.csv')\n",
    "PAIRS.to_csv('pairs.csv')"
   ]
  }
 ],
 "metadata": {
  "kernelspec": {
   "display_name": "main-bio",
   "language": "python",
   "name": "python3"
  },
  "language_info": {
   "codemirror_mode": {
    "name": "ipython",
    "version": 3
   },
   "file_extension": ".py",
   "mimetype": "text/x-python",
   "name": "python",
   "nbconvert_exporter": "python",
   "pygments_lexer": "ipython3",
   "version": "3.9.10"
  },
  "orig_nbformat": 4,
  "vscode": {
   "interpreter": {
    "hash": "c6c04a7e252f45ffc2f7191e380805b6a5dd99aa68793d835f69a35c16ce4a30"
   }
  }
 },
 "nbformat": 4,
 "nbformat_minor": 2
}
