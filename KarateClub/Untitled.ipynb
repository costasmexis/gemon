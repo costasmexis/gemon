{
 "cells": [
  {
   "cell_type": "code",
   "execution_count": 2,
   "id": "3762bf5c-1224-4603-98f9-baee8ffd3031",
   "metadata": {},
   "outputs": [],
   "source": [
    "import networkx as nx\n",
    "from community import best_partition\n",
    "\n",
    "# Load the Karate Club graph\n",
    "G = nx.karate_club_graph()"
   ]
  },
  {
   "cell_type": "code",
   "execution_count": 5,
   "id": "4d88f927-e907-4113-9091-6319828204aa",
   "metadata": {},
   "outputs": [],
   "source": [
    "partition = best_partition(G)\n",
    "\n",
    "# Create a new graph with the same nodes as the original graph\n",
    "H = nx.Graph()\n",
    "H.add_nodes_from(G.nodes)"
   ]
  },
  {
   "cell_type": "code",
   "execution_count": null,
   "id": "b67002d6-8295-45fa-acfd-499bf4bed0f7",
   "metadata": {},
   "outputs": [],
   "source": [
    "# Compute the best partition of the graph using the Louvain algorithm\n",
    "partition = best_partition(G)\n",
    "\n",
    "# Create a new graph with the same nodes as the original graph\n",
    "H = nx.Graph()\n",
    "H.add_nodes_from(G.nodes)\n",
    "\n",
    "# Add edges between nodes in the same community\n",
    "for node, community in partition.items():\n",
    "    for neighbor, neighbor_community in partition.items():\n",
    "        if community == neighbor_community:\n",
    "            H.add_edge(node, neighbor)\n",
    "\n",
    "# Plot the original and reduced graphs\n",
    "import matplotlib.pyplot as plt\n",
    "plt.figure()\n",
    "nx.draw(G, with_labels=True)\n",
    "plt.figure()\n",
    "nx.draw(H, with_labels=True)\n",
    "plt.show()\n"
   ]
  }
 ],
 "metadata": {
  "kernelspec": {
   "display_name": "Python 3 (ipykernel)",
   "language": "python",
   "name": "python3"
  },
  "language_info": {
   "codemirror_mode": {
    "name": "ipython",
    "version": 3
   },
   "file_extension": ".py",
   "mimetype": "text/x-python",
   "name": "python",
   "nbconvert_exporter": "python",
   "pygments_lexer": "ipython3",
   "version": "3.9.10"
  }
 },
 "nbformat": 4,
 "nbformat_minor": 5
}
