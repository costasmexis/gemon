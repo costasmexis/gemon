{
 "cells": [
  {
   "cell_type": "code",
   "execution_count": 1,
   "id": "b0ef43cc",
   "metadata": {},
   "outputs": [],
   "source": [
    "import pandas as pd\n",
    "import numpy as np\n",
    "import networkx as nx\n",
    "import cobra\n",
    "import matplotlib.pyplot as plt\n",
    "\n",
    "import sys\n",
    "sys.path.append(\"src/\")\n",
    "import GEMtoGRAPH as gg"
   ]
  },
  {
   "cell_type": "code",
   "execution_count": 2,
   "id": "a42fc851",
   "metadata": {},
   "outputs": [],
   "source": [
    "GEM_NAME = 'textbook'\n",
    "model = cobra.io.load_model(GEM_NAME)\n",
    "S = cobra.util.array.create_stoichiometric_matrix(model, array_type='DataFrame')"
   ]
  },
  {
   "cell_type": "code",
   "execution_count": 3,
   "id": "46d73d1c",
   "metadata": {},
   "outputs": [
    {
     "name": "stdout",
     "output_type": "stream",
     "text": [
      "# nodes: 95 \n",
      "# edges: 1158\n"
     ]
    }
   ],
   "source": [
    "A, G = gg.RAG(S, model)"
   ]
  },
  {
   "cell_type": "code",
   "execution_count": 4,
   "id": "103c30e3",
   "metadata": {},
   "outputs": [
    {
     "name": "stdout",
     "output_type": "stream",
     "text": [
      "# nodes: 190 \n",
      "# edges: 1578\n"
     ]
    }
   ],
   "source": [
    "D, G = gg.NFG(S, model)"
   ]
  },
  {
   "cell_type": "code",
   "execution_count": 5,
   "id": "dbb9ffcc",
   "metadata": {},
   "outputs": [
    {
     "name": "stdout",
     "output_type": "stream",
     "text": [
      "# nodes: 190 \n",
      "# edges: 290\n"
     ]
    }
   ],
   "source": [
    "M, G = gg.MFG(S, model)"
   ]
  },
  {
   "cell_type": "code",
   "execution_count": null,
   "id": "e8b76733",
   "metadata": {},
   "outputs": [],
   "source": []
  },
  {
   "cell_type": "code",
   "execution_count": null,
   "id": "5c1186e6",
   "metadata": {},
   "outputs": [],
   "source": []
  },
  {
   "cell_type": "code",
   "execution_count": null,
   "id": "cd3172d8",
   "metadata": {},
   "outputs": [],
   "source": []
  },
  {
   "cell_type": "code",
   "execution_count": null,
   "id": "0340b9f5",
   "metadata": {},
   "outputs": [],
   "source": []
  },
  {
   "cell_type": "markdown",
   "id": "25f42a0b",
   "metadata": {},
   "source": [
    "### Δοκιμή εύρεσης pathway σε RAG"
   ]
  },
  {
   "cell_type": "code",
   "execution_count": 6,
   "id": "7840b0f6",
   "metadata": {},
   "outputs": [
    {
     "name": "stdout",
     "output_type": "stream",
     "text": [
      "# nodes: 95 \n",
      "# edges: 1158\n"
     ]
    }
   ],
   "source": [
    "A, G = gg.RAG(S, model)"
   ]
  },
  {
   "cell_type": "code",
   "execution_count": 7,
   "id": "39d0b6f4",
   "metadata": {},
   "outputs": [
    {
     "data": {
      "text/plain": [
       "NodeView(('ACALD', 'ACALDt', 'ACKr', 'ACONTa', 'ACONTb', 'ACt2r', 'ADK1', 'AKGDH', 'AKGt2r', 'ALCD2x', 'ATPM', 'ATPS4r', 'Biomass_Ecoli_core', 'CO2t', 'CS', 'CYTBD', 'D_LACt2', 'ENO', 'ETOHt2r', 'EX_ac_e', 'EX_acald_e', 'EX_akg_e', 'EX_co2_e', 'EX_etoh_e', 'EX_for_e', 'EX_fru_e', 'EX_fum_e', 'EX_glc__D_e', 'EX_gln__L_e', 'EX_glu__L_e', 'EX_h_e', 'EX_h2o_e', 'EX_lac__D_e', 'EX_mal__L_e', 'EX_nh4_e', 'EX_o2_e', 'EX_pi_e', 'EX_pyr_e', 'EX_succ_e', 'FBA', 'FBP', 'FORt2', 'FORti', 'FRD7', 'FRUpts2', 'FUM', 'FUMt2_2', 'G6PDH2r', 'GAPD', 'GLCpts', 'GLNS', 'GLNabc', 'GLUDy', 'GLUN', 'GLUSy', 'GLUt2r', 'GND', 'H2Ot', 'ICDHyr', 'ICL', 'LDH_D', 'MALS', 'MALt2_2', 'MDH', 'ME1', 'ME2', 'NADH16', 'NADTRHD', 'NH4t', 'O2t', 'PDH', 'PFK', 'PFL', 'PGI', 'PGK', 'PGL', 'PGM', 'PIt2r', 'PPC', 'PPCK', 'PPS', 'PTAr', 'PYK', 'PYRt2', 'RPE', 'RPI', 'SUCCt2_2', 'SUCCt3', 'SUCDi', 'SUCOAS', 'TALA', 'THD2', 'TKT1', 'TKT2', 'TPI'))"
      ]
     },
     "execution_count": 7,
     "metadata": {},
     "output_type": "execute_result"
    }
   ],
   "source": [
    "G.nodes()"
   ]
  },
  {
   "cell_type": "code",
   "execution_count": 15,
   "id": "e3fd7fdc",
   "metadata": {},
   "outputs": [],
   "source": [
    "paths = nx.all_shortest_paths(G, source='EX_glc__D_e', target='EX_succ_e')"
   ]
  },
  {
   "cell_type": "code",
   "execution_count": 16,
   "id": "571be4b0",
   "metadata": {},
   "outputs": [
    {
     "data": {
      "text/plain": [
       "[['EX_glc__D_e', 'GLCpts', 'Biomass_Ecoli_core', 'SUCCt2_2', 'EX_succ_e'],\n",
       " ['EX_glc__D_e', 'GLCpts', 'G6PDH2r', 'SUCCt2_2', 'EX_succ_e'],\n",
       " ['EX_glc__D_e', 'GLCpts', 'LDH_D', 'SUCCt2_2', 'EX_succ_e'],\n",
       " ['EX_glc__D_e', 'GLCpts', 'PPC', 'SUCCt2_2', 'EX_succ_e'],\n",
       " ['EX_glc__D_e', 'GLCpts', 'PPS', 'SUCCt2_2', 'EX_succ_e'],\n",
       " ['EX_glc__D_e', 'GLCpts', 'PYK', 'SUCCt2_2', 'EX_succ_e'],\n",
       " ['EX_glc__D_e', 'GLCpts', 'PYRt2', 'SUCCt2_2', 'EX_succ_e'],\n",
       " ['EX_glc__D_e', 'GLCpts', 'Biomass_Ecoli_core', 'SUCCt3', 'EX_succ_e'],\n",
       " ['EX_glc__D_e', 'GLCpts', 'G6PDH2r', 'SUCCt3', 'EX_succ_e'],\n",
       " ['EX_glc__D_e', 'GLCpts', 'LDH_D', 'SUCCt3', 'EX_succ_e'],\n",
       " ['EX_glc__D_e', 'GLCpts', 'PPC', 'SUCCt3', 'EX_succ_e'],\n",
       " ['EX_glc__D_e', 'GLCpts', 'PPS', 'SUCCt3', 'EX_succ_e'],\n",
       " ['EX_glc__D_e', 'GLCpts', 'PYK', 'SUCCt3', 'EX_succ_e'],\n",
       " ['EX_glc__D_e', 'GLCpts', 'PYRt2', 'SUCCt3', 'EX_succ_e']]"
      ]
     },
     "execution_count": 16,
     "metadata": {},
     "output_type": "execute_result"
    }
   ],
   "source": [
    "list(paths)"
   ]
  }
 ],
 "metadata": {
  "kernelspec": {
   "display_name": "Python 3 (ipykernel)",
   "language": "python",
   "name": "python3"
  },
  "language_info": {
   "codemirror_mode": {
    "name": "ipython",
    "version": 3
   },
   "file_extension": ".py",
   "mimetype": "text/x-python",
   "name": "python",
   "nbconvert_exporter": "python",
   "pygments_lexer": "ipython3",
   "version": "3.9.10"
  }
 },
 "nbformat": 4,
 "nbformat_minor": 5
}
