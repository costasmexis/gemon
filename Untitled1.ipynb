{
 "cells": [
  {
   "cell_type": "code",
   "execution_count": 1,
   "id": "b0ef43cc",
   "metadata": {},
   "outputs": [],
   "source": [
    "import pandas as pd\n",
    "import numpy as np\n",
    "import networkx as nx\n",
    "import cobra\n",
    "import matplotlib.pyplot as plt\n",
    "\n",
    "import sys\n",
    "sys.path.append(\"src/\")\n",
    "import GEMtoGRAPH as gg"
   ]
  },
  {
   "cell_type": "code",
   "execution_count": 2,
   "id": "a42fc851",
   "metadata": {},
   "outputs": [],
   "source": [
    "GEM_NAME = 'textbook'\n",
    "model = cobra.io.load_model(GEM_NAME)\n",
    "S = cobra.util.array.create_stoichiometric_matrix(model, array_type='DataFrame')"
   ]
  },
  {
   "cell_type": "code",
   "execution_count": 3,
   "id": "46d73d1c",
   "metadata": {},
   "outputs": [
    {
     "name": "stdout",
     "output_type": "stream",
     "text": [
      "# nodes: 95 \n",
      "# edges: 1158\n"
     ]
    }
   ],
   "source": [
    "A, G = gg.RAG(S, model)"
   ]
  },
  {
   "cell_type": "code",
   "execution_count": 4,
   "id": "103c30e3",
   "metadata": {},
   "outputs": [
    {
     "name": "stdout",
     "output_type": "stream",
     "text": [
      "# nodes: 190 \n",
      "# edges: 1578\n"
     ]
    }
   ],
   "source": [
    "D, G = gg.NFG(S, model)"
   ]
  },
  {
   "cell_type": "code",
   "execution_count": 5,
   "id": "dbb9ffcc",
   "metadata": {},
   "outputs": [
    {
     "name": "stdout",
     "output_type": "stream",
     "text": [
      "# nodes: 190 \n",
      "# edges: 290\n"
     ]
    }
   ],
   "source": [
    "M, G = gg.MFG(S, model)"
   ]
  },
  {
   "cell_type": "code",
   "execution_count": null,
   "id": "33b43661",
   "metadata": {},
   "outputs": [],
   "source": []
  },
  {
   "cell_type": "code",
   "execution_count": 17,
   "id": "700b10ac",
   "metadata": {},
   "outputs": [
    {
     "data": {
      "text/plain": [
       "NodeView((0, 1, 2, 3, 4, 5, 6, 7, 8, 9, 10, 11, 12, 13, 14, 15, 16, 17, 18, 19, 20, 21, 22, 23, 24, 25, 26, 27, 28, 29, 30, 31, 32, 33, 34, 35, 36, 37, 38, 39, 40, 41, 42, 43, 44, 45, 46, 47, 48, 49, 50, 51, 52, 53, 54, 55, 56, 57, 58, 59, 60, 61, 62, 63, 64, 65, 66, 67, 68, 69, 70, 71, 72, 73, 74, 75, 76, 77, 78, 79, 80, 81, 82, 83, 84, 85, 86, 87, 88, 89, 90, 91, 92, 93, 94, 95, 96, 97, 98, 99, 100, 101, 102, 103, 104, 105, 106, 107, 108, 109, 110, 111, 112, 113, 114, 115, 116, 117, 118, 119, 120, 121, 122, 123, 124, 125, 126, 127, 128, 129, 130, 131, 132, 133, 134, 135, 136, 137, 138, 139, 140, 141, 142, 143, 144, 145, 146, 147, 148, 149, 150, 151, 152, 153, 154, 155, 156, 157, 158, 159, 160, 161, 162, 163, 164, 165, 166, 167, 168, 169, 170, 171, 172, 173, 174, 175, 176, 177, 178, 179, 180, 181, 182, 183, 184, 185, 186, 187, 188, 189))"
      ]
     },
     "execution_count": 17,
     "metadata": {},
     "output_type": "execute_result"
    }
   ],
   "source": [
    "G = nx.convert_node_labels_to_integers(G, first_label=0, ordering='default', label_attribute=None)\n",
    "G.nodes"
   ]
  },
  {
   "cell_type": "code",
   "execution_count": 27,
   "id": "e8b76733",
   "metadata": {},
   "outputs": [
    {
     "name": "stdout",
     "output_type": "stream",
     "text": [
      "Embedding array shape (nodes x features): (190, 3)\n"
     ]
    }
   ],
   "source": [
    "from karateclub import DeepWalk \n",
    "from karateclub import Node2Vec\n",
    "\n",
    "\" Perform node embedding using Node2Vec \"\n",
    "N2vec_model = Node2Vec(walk_number=10, walk_length=80,p=0.9,\n",
    "                       q=0.1,dimensions=3)\n",
    "N2vec_model.fit(G)\n",
    "\n",
    "N2Vec_embedding = N2vec_model.get_embedding()\n",
    "print('Embedding array shape (nodes x features):', \n",
    "      N2Vec_embedding.shape )\n"
   ]
  },
  {
   "cell_type": "code",
   "execution_count": 28,
   "id": "b22682dc",
   "metadata": {},
   "outputs": [
    {
     "data": {
      "text/html": [
       "<div>\n",
       "<style scoped>\n",
       "    .dataframe tbody tr th:only-of-type {\n",
       "        vertical-align: middle;\n",
       "    }\n",
       "\n",
       "    .dataframe tbody tr th {\n",
       "        vertical-align: top;\n",
       "    }\n",
       "\n",
       "    .dataframe thead th {\n",
       "        text-align: right;\n",
       "    }\n",
       "</style>\n",
       "<table border=\"1\" class=\"dataframe\">\n",
       "  <thead>\n",
       "    <tr style=\"text-align: right;\">\n",
       "      <th></th>\n",
       "      <th>0</th>\n",
       "      <th>1</th>\n",
       "      <th>2</th>\n",
       "    </tr>\n",
       "  </thead>\n",
       "  <tbody>\n",
       "    <tr>\n",
       "      <th>ACALD</th>\n",
       "      <td>-7.807803</td>\n",
       "      <td>-6.292499</td>\n",
       "      <td>-7.211791</td>\n",
       "    </tr>\n",
       "    <tr>\n",
       "      <th>ACALDt</th>\n",
       "      <td>-7.039636</td>\n",
       "      <td>1.020390</td>\n",
       "      <td>-8.954219</td>\n",
       "    </tr>\n",
       "    <tr>\n",
       "      <th>ACKr</th>\n",
       "      <td>0.368836</td>\n",
       "      <td>-3.753482</td>\n",
       "      <td>-1.517412</td>\n",
       "    </tr>\n",
       "    <tr>\n",
       "      <th>ACONTa</th>\n",
       "      <td>-0.871784</td>\n",
       "      <td>-1.443419</td>\n",
       "      <td>-1.246508</td>\n",
       "    </tr>\n",
       "    <tr>\n",
       "      <th>ACONTb</th>\n",
       "      <td>-0.456126</td>\n",
       "      <td>-2.315135</td>\n",
       "      <td>-2.674246</td>\n",
       "    </tr>\n",
       "    <tr>\n",
       "      <th>...</th>\n",
       "      <td>...</td>\n",
       "      <td>...</td>\n",
       "      <td>...</td>\n",
       "    </tr>\n",
       "    <tr>\n",
       "      <th>rev_TALA</th>\n",
       "      <td>-2.815240</td>\n",
       "      <td>-3.102660</td>\n",
       "      <td>1.278551</td>\n",
       "    </tr>\n",
       "    <tr>\n",
       "      <th>rev_THD2</th>\n",
       "      <td>-1.400039</td>\n",
       "      <td>-3.349320</td>\n",
       "      <td>-0.152720</td>\n",
       "    </tr>\n",
       "    <tr>\n",
       "      <th>rev_TKT1</th>\n",
       "      <td>-0.756586</td>\n",
       "      <td>-3.319704</td>\n",
       "      <td>0.890418</td>\n",
       "    </tr>\n",
       "    <tr>\n",
       "      <th>rev_TKT2</th>\n",
       "      <td>-0.621102</td>\n",
       "      <td>0.130259</td>\n",
       "      <td>-0.659788</td>\n",
       "    </tr>\n",
       "    <tr>\n",
       "      <th>rev_TPI</th>\n",
       "      <td>-1.001799</td>\n",
       "      <td>0.487726</td>\n",
       "      <td>-0.051312</td>\n",
       "    </tr>\n",
       "  </tbody>\n",
       "</table>\n",
       "<p>190 rows × 3 columns</p>\n",
       "</div>"
      ],
      "text/plain": [
       "                 0         1         2\n",
       "ACALD    -7.807803 -6.292499 -7.211791\n",
       "ACALDt   -7.039636  1.020390 -8.954219\n",
       "ACKr      0.368836 -3.753482 -1.517412\n",
       "ACONTa   -0.871784 -1.443419 -1.246508\n",
       "ACONTb   -0.456126 -2.315135 -2.674246\n",
       "...            ...       ...       ...\n",
       "rev_TALA -2.815240 -3.102660  1.278551\n",
       "rev_THD2 -1.400039 -3.349320 -0.152720\n",
       "rev_TKT1 -0.756586 -3.319704  0.890418\n",
       "rev_TKT2 -0.621102  0.130259 -0.659788\n",
       "rev_TPI  -1.001799  0.487726 -0.051312\n",
       "\n",
       "[190 rows x 3 columns]"
      ]
     },
     "execution_count": 28,
     "metadata": {},
     "output_type": "execute_result"
    }
   ],
   "source": [
    "df = pd.DataFrame(N2Vec_embedding)\n",
    "df.index = M.columns\n",
    "df"
   ]
  },
  {
   "cell_type": "code",
   "execution_count": 26,
   "id": "5c1186e6",
   "metadata": {},
   "outputs": [
    {
     "data": {
      "text/html": [
       "<div>\n",
       "<style scoped>\n",
       "    .dataframe tbody tr th:only-of-type {\n",
       "        vertical-align: middle;\n",
       "    }\n",
       "\n",
       "    .dataframe tbody tr th {\n",
       "        vertical-align: top;\n",
       "    }\n",
       "\n",
       "    .dataframe thead th {\n",
       "        text-align: right;\n",
       "    }\n",
       "</style>\n",
       "<table border=\"1\" class=\"dataframe\">\n",
       "  <thead>\n",
       "    <tr style=\"text-align: right;\">\n",
       "      <th></th>\n",
       "      <th>0</th>\n",
       "      <th>1</th>\n",
       "      <th>2</th>\n",
       "    </tr>\n",
       "  </thead>\n",
       "  <tbody>\n",
       "    <tr>\n",
       "      <th>ACALD</th>\n",
       "      <td>-7.807803</td>\n",
       "      <td>-6.292499</td>\n",
       "      <td>-7.211791</td>\n",
       "    </tr>\n",
       "    <tr>\n",
       "      <th>ACALDt</th>\n",
       "      <td>-7.039636</td>\n",
       "      <td>1.020390</td>\n",
       "      <td>-8.954219</td>\n",
       "    </tr>\n",
       "    <tr>\n",
       "      <th>ACKr</th>\n",
       "      <td>0.196365</td>\n",
       "      <td>-3.538492</td>\n",
       "      <td>-1.361741</td>\n",
       "    </tr>\n",
       "    <tr>\n",
       "      <th>ACONTa</th>\n",
       "      <td>-0.933906</td>\n",
       "      <td>-1.342797</td>\n",
       "      <td>-1.091807</td>\n",
       "    </tr>\n",
       "    <tr>\n",
       "      <th>ACONTb</th>\n",
       "      <td>-0.412072</td>\n",
       "      <td>-2.089192</td>\n",
       "      <td>-2.337241</td>\n",
       "    </tr>\n",
       "    <tr>\n",
       "      <th>...</th>\n",
       "      <td>...</td>\n",
       "      <td>...</td>\n",
       "      <td>...</td>\n",
       "    </tr>\n",
       "    <tr>\n",
       "      <th>rev_TALA</th>\n",
       "      <td>-3.647864</td>\n",
       "      <td>2.183916</td>\n",
       "      <td>-1.451857</td>\n",
       "    </tr>\n",
       "    <tr>\n",
       "      <th>rev_THD2</th>\n",
       "      <td>-2.739849</td>\n",
       "      <td>1.683387</td>\n",
       "      <td>-2.473292</td>\n",
       "    </tr>\n",
       "    <tr>\n",
       "      <th>rev_TKT1</th>\n",
       "      <td>-2.045641</td>\n",
       "      <td>2.500863</td>\n",
       "      <td>-1.521319</td>\n",
       "    </tr>\n",
       "    <tr>\n",
       "      <th>rev_TKT2</th>\n",
       "      <td>-0.428061</td>\n",
       "      <td>-0.695637</td>\n",
       "      <td>-0.200255</td>\n",
       "    </tr>\n",
       "    <tr>\n",
       "      <th>rev_TPI</th>\n",
       "      <td>-0.863936</td>\n",
       "      <td>-0.451742</td>\n",
       "      <td>0.559068</td>\n",
       "    </tr>\n",
       "  </tbody>\n",
       "</table>\n",
       "<p>190 rows × 3 columns</p>\n",
       "</div>"
      ],
      "text/plain": [
       "                 0         1         2\n",
       "ACALD    -7.807803 -6.292499 -7.211791\n",
       "ACALDt   -7.039636  1.020390 -8.954219\n",
       "ACKr      0.196365 -3.538492 -1.361741\n",
       "ACONTa   -0.933906 -1.342797 -1.091807\n",
       "ACONTb   -0.412072 -2.089192 -2.337241\n",
       "...            ...       ...       ...\n",
       "rev_TALA -3.647864  2.183916 -1.451857\n",
       "rev_THD2 -2.739849  1.683387 -2.473292\n",
       "rev_TKT1 -2.045641  2.500863 -1.521319\n",
       "rev_TKT2 -0.428061 -0.695637 -0.200255\n",
       "rev_TPI  -0.863936 -0.451742  0.559068\n",
       "\n",
       "[190 rows x 3 columns]"
      ]
     },
     "execution_count": 26,
     "metadata": {},
     "output_type": "execute_result"
    }
   ],
   "source": [
    "df = pd.DataFrame(N2Vec_embedding)\n",
    "df.index = M.columns\n",
    "df"
   ]
  },
  {
   "cell_type": "code",
   "execution_count": null,
   "id": "0340b9f5",
   "metadata": {},
   "outputs": [],
   "source": []
  },
  {
   "cell_type": "markdown",
   "id": "25f42a0b",
   "metadata": {},
   "source": [
    "### Δοκιμή εύρεσης pathway σε RAG"
   ]
  },
  {
   "cell_type": "code",
   "execution_count": 6,
   "id": "7840b0f6",
   "metadata": {},
   "outputs": [
    {
     "name": "stdout",
     "output_type": "stream",
     "text": [
      "# nodes: 95 \n",
      "# edges: 1158\n"
     ]
    }
   ],
   "source": [
    "A, G = gg.RAG(S, model)"
   ]
  },
  {
   "cell_type": "code",
   "execution_count": 7,
   "id": "39d0b6f4",
   "metadata": {},
   "outputs": [
    {
     "data": {
      "text/plain": [
       "NodeView(('ACALD', 'ACALDt', 'ACKr', 'ACONTa', 'ACONTb', 'ACt2r', 'ADK1', 'AKGDH', 'AKGt2r', 'ALCD2x', 'ATPM', 'ATPS4r', 'Biomass_Ecoli_core', 'CO2t', 'CS', 'CYTBD', 'D_LACt2', 'ENO', 'ETOHt2r', 'EX_ac_e', 'EX_acald_e', 'EX_akg_e', 'EX_co2_e', 'EX_etoh_e', 'EX_for_e', 'EX_fru_e', 'EX_fum_e', 'EX_glc__D_e', 'EX_gln__L_e', 'EX_glu__L_e', 'EX_h_e', 'EX_h2o_e', 'EX_lac__D_e', 'EX_mal__L_e', 'EX_nh4_e', 'EX_o2_e', 'EX_pi_e', 'EX_pyr_e', 'EX_succ_e', 'FBA', 'FBP', 'FORt2', 'FORti', 'FRD7', 'FRUpts2', 'FUM', 'FUMt2_2', 'G6PDH2r', 'GAPD', 'GLCpts', 'GLNS', 'GLNabc', 'GLUDy', 'GLUN', 'GLUSy', 'GLUt2r', 'GND', 'H2Ot', 'ICDHyr', 'ICL', 'LDH_D', 'MALS', 'MALt2_2', 'MDH', 'ME1', 'ME2', 'NADH16', 'NADTRHD', 'NH4t', 'O2t', 'PDH', 'PFK', 'PFL', 'PGI', 'PGK', 'PGL', 'PGM', 'PIt2r', 'PPC', 'PPCK', 'PPS', 'PTAr', 'PYK', 'PYRt2', 'RPE', 'RPI', 'SUCCt2_2', 'SUCCt3', 'SUCDi', 'SUCOAS', 'TALA', 'THD2', 'TKT1', 'TKT2', 'TPI'))"
      ]
     },
     "execution_count": 7,
     "metadata": {},
     "output_type": "execute_result"
    }
   ],
   "source": [
    "G.nodes()"
   ]
  },
  {
   "cell_type": "code",
   "execution_count": 15,
   "id": "e3fd7fdc",
   "metadata": {},
   "outputs": [],
   "source": [
    "paths = nx.all_shortest_paths(G, source='EX_glc__D_e', target='EX_succ_e')"
   ]
  },
  {
   "cell_type": "code",
   "execution_count": 16,
   "id": "571be4b0",
   "metadata": {},
   "outputs": [
    {
     "data": {
      "text/plain": [
       "[['EX_glc__D_e', 'GLCpts', 'Biomass_Ecoli_core', 'SUCCt2_2', 'EX_succ_e'],\n",
       " ['EX_glc__D_e', 'GLCpts', 'G6PDH2r', 'SUCCt2_2', 'EX_succ_e'],\n",
       " ['EX_glc__D_e', 'GLCpts', 'LDH_D', 'SUCCt2_2', 'EX_succ_e'],\n",
       " ['EX_glc__D_e', 'GLCpts', 'PPC', 'SUCCt2_2', 'EX_succ_e'],\n",
       " ['EX_glc__D_e', 'GLCpts', 'PPS', 'SUCCt2_2', 'EX_succ_e'],\n",
       " ['EX_glc__D_e', 'GLCpts', 'PYK', 'SUCCt2_2', 'EX_succ_e'],\n",
       " ['EX_glc__D_e', 'GLCpts', 'PYRt2', 'SUCCt2_2', 'EX_succ_e'],\n",
       " ['EX_glc__D_e', 'GLCpts', 'Biomass_Ecoli_core', 'SUCCt3', 'EX_succ_e'],\n",
       " ['EX_glc__D_e', 'GLCpts', 'G6PDH2r', 'SUCCt3', 'EX_succ_e'],\n",
       " ['EX_glc__D_e', 'GLCpts', 'LDH_D', 'SUCCt3', 'EX_succ_e'],\n",
       " ['EX_glc__D_e', 'GLCpts', 'PPC', 'SUCCt3', 'EX_succ_e'],\n",
       " ['EX_glc__D_e', 'GLCpts', 'PPS', 'SUCCt3', 'EX_succ_e'],\n",
       " ['EX_glc__D_e', 'GLCpts', 'PYK', 'SUCCt3', 'EX_succ_e'],\n",
       " ['EX_glc__D_e', 'GLCpts', 'PYRt2', 'SUCCt3', 'EX_succ_e']]"
      ]
     },
     "execution_count": 16,
     "metadata": {},
     "output_type": "execute_result"
    }
   ],
   "source": [
    "list(paths)"
   ]
  }
 ],
 "metadata": {
  "kernelspec": {
   "display_name": "Python 3 (ipykernel)",
   "language": "python",
   "name": "python3"
  },
  "language_info": {
   "codemirror_mode": {
    "name": "ipython",
    "version": 3
   },
   "file_extension": ".py",
   "mimetype": "text/x-python",
   "name": "python",
   "nbconvert_exporter": "python",
   "pygments_lexer": "ipython3",
   "version": "3.9.10"
  }
 },
 "nbformat": 4,
 "nbformat_minor": 5
}
